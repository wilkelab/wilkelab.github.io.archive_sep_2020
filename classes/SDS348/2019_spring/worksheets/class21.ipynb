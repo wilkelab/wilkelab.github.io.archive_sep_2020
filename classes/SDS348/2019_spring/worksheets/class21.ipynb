{
 "cells": [
  {
   "cell_type": "markdown",
   "metadata": {},
   "source": [
    "# Class 21: Searching the NCBI databases\n",
    "**April 9, 2019**"
   ]
  },
  {
   "cell_type": "markdown",
   "metadata": {},
   "source": [
    "## Different ways of processing Entrez results\n",
    "\n",
    "Every time we download data through the Entrez module, we can interact with the results in different ways. First, we can just use the handle we obtain as an ordinary file handle and just store or process the raw data provided by Entrez. Second, we can process the data with an appropriate, existing Biopython module. The latter will generally be preferable if an appropriate module exists. However, the various choices that are available may make things confusing.\n",
    "\n",
    "As an example, we will again download the genbank record with the ID \"KT220438\", containing an influenza HA protein. We will consider four different ways of looking at the data. First, we use `retmode=\"text\"` in `Entrez.efetch()` and just download the raw data and print it. We get a regular genbank file as output:"
   ]
  },
  {
   "cell_type": "code",
   "execution_count": 1,
   "metadata": {},
   "outputs": [
    {
     "name": "stdout",
     "output_type": "stream",
     "text": [
      "LOCUS       KT220438                1701 bp    cRNA    linear   VRL 20-JUL-2015\n",
      "DEFINITION  Influenza A virus (A/NewJersey/NHRC_93219/2015(H3N2)) segment 4\n",
      "            hemagglutinin (HA) gene, complete cds.\n",
      "ACCESSION   KT220438\n",
      "VERSION     KT220438.1\n",
      "KEYWORDS    .\n",
      "SOURCE      Influenza A virus (A/New Jersey/NHRC_93219/2015(H3N2))\n",
      "  ORGANISM  Influenza A virus (A/New Jersey/NHRC_93219/2015(H3N2))\n",
      "            Viruses; ssRNA viruses; ssRNA negative-strand viruses;\n",
      "            Orthomyxoviridae; Influenzavirus A.\n",
      "REFERENCE   1  (bases 1 to 1701)\n",
      "  AUTHORS   Sitz,C.R., Thammavong,H.L., Balansay-Ames,M.S., Hawksworth,A.W.,\n",
      "            Myers,C.A. and Brice,G.T.\n",
      "  TITLE     GEISS Influenza Surveillance Response Program\n",
      "  JOURNAL   Unpublished\n",
      "REFERENCE   2  (bases 1 to 1701)\n",
      "  AUTHORS   Sitz,C.R., Thammavong,H.L., Balansay-Ames,M.S., Hawksworth,A.W.,\n",
      "            Myers,C.A. and Brice,G.T.\n",
      "  TITLE     Direct Submission\n",
      "  JOURNAL   Submitted (29-JUN-2015) Operational Infectious Diseases, Naval\n",
      "            Health Research Center, 140 Sylvester Rd., San Diego, CA 92106, USA\n",
      "COMMENT     ##Assembly-Data-START##\n",
      "            Sequencing Technology :: Sanger dideoxy sequencing\n",
      "            ##Assembly-Data-END##\n",
      "FEATURES             Location/Qualifiers\n",
      "     source          1..1701\n",
      "                     /organism=\"Influenza A virus (A/New\n",
      "                     Jersey/NHRC_93219/2015(H3N2))\"\n",
      "                     /mol_type=\"viral cRNA\"\n",
      "                     /strain=\"A/NewJersey/NHRC_93219/2015\"\n",
      "                     /serotype=\"H3N2\"\n",
      "                     /isolation_source=\"nasopharyngeal swab\"\n",
      "                     /host=\"Homo sapiens\"\n",
      "                     /db_xref=\"taxon:1682360\"\n",
      "                     /segment=\"4\"\n",
      "                     /lab_host=\"MDCK\"\n",
      "                     /country=\"USA: New Jersey\"\n",
      "                     /collection_date=\"17-Jan-2015\"\n",
      "     gene            1..1701\n",
      "                     /gene=\"HA\"\n",
      "     CDS             1..1701\n",
      "                     /gene=\"HA\"\n",
      "                     /function=\"receptor binding and fusion protein\"\n",
      "                     /codon_start=1\n",
      "                     /product=\"hemagglutinin\"\n",
      "                     /protein_id=\"AKQ43545.1\"\n",
      "                     /translation=\"MKTIIALSYILCLVFAQKIPGNDNSTATLCLGHHAVPNGTIVKT\n",
      "                     ITNDRIEVTNATELVQNSSIGEICDSPHQILDGENCTLIDALLGDPQCDGFQNKKWDL\n",
      "                     FVERSKAYSNCYPYDVPDYASLRSLVASSGTLEFNNESFNWTGVTQNGTSSACIRRSS\n",
      "                     SSFFSRLNWLTHLNYTYPALNVTMPNNEQFDKLYIWGVHHPGTDKDQIFLYAQSSGRI\n",
      "                     TVSTKRSQQAVIPNIGSRPRIRDIPSRISIYWTIVKPGDILLINSTGNLIAPRGYFKI\n",
      "                     RSGKSSIMRSDAPIGKCKSECITPNGSIPNDKPFQNVNRITYGACPRYVKHSTLKLAT\n",
      "                     GMRNVPEKQTRGIFGAIAGFIENGWEGMVDGWYGFRHQNSEGRGQAADLKSTQAAIDQ\n",
      "                     INGKLNRLIGKTNEKFHQIEKEFSEVEGRIQDLEKYVEDTKIDLWSYNAELLVALENQ\n",
      "                     HTXDLTDSEMNKLFEKTKKQLRENAEDMGNGCFKIYHKCDNACIGSIRNGTYDHNVYR\n",
      "                     DEALNNRFQIKGVELKSGYKDWILWISXAISCFLLCVALLGFIMWACQKGNIRCNICI\n",
      "                     \"\n",
      "     mat_peptide     49..1035\n",
      "                     /gene=\"HA\"\n",
      "                     /product=\"HA1\"\n",
      "     mat_peptide     1036..1698\n",
      "                     /gene=\"HA\"\n",
      "                     /product=\"HA2\"\n",
      "ORIGIN      \n",
      "        1 atgaagacta tcattgcttt gagctacatt ctatgtctgg ttttcgctca aaaaattcct\n",
      "       61 ggaaatgaca atagcacggc aacgctgtgc cttgggcacc atgcagtacc aaacggaacg\n",
      "      121 atagtgaaaa caatcacaaa tgaccgaatt gaagttacta atgctactga gctggttcag\n",
      "      181 aattcctcaa taggtgaaat atgcgacagt cctcatcaga tccttgatgg agaaaactgc\n",
      "      241 acactaatag atgctctatt gggagaccct cagtgtgatg gctttcaaaa taagaaatgg\n",
      "      301 gacctttttg ttgaacgaag caaagcctac agcaactgct acccttatga tgtgccggat\n",
      "      361 tatgcctccc ttaggtcact agttgcctca tccggcacac tggagtttaa caatgaaagc\n",
      "      421 ttcaattgga ctggagtcac tcaaaacgga acaagttctg cttgcataag gagatctagt\n",
      "      481 agtagtttct ttagtagatt aaattggttg acccacttaa actacacata cccagcattg\n",
      "      541 aacgtgacta tgccaaacaa tgaacaattt gacaaattgt acatttgggg ggttcaccac\n",
      "      601 ccgggtacgg acaaggacca aatcttcctg tatgctcaat catcaggaag aatcacagta\n",
      "      661 tctaccaaaa gaagccaaca agctgtaatc ccaaatatcg gatctagacc cagaataagg\n",
      "      721 gatatcccta gcagaataag catctattgg acaatagtaa aaccgggaga catacttttg\n",
      "      781 attaacagca cagggaatct aattgctcct aggggttact tcaaaatacg aagtgggaaa\n",
      "      841 agctcaataa tgagatcaga tgcacccatt ggcaaatgca agtctgaatg catcactcca\n",
      "      901 aatggaagca ttcccaatga caaaccattc caaaatgtaa acaggatcac atacggggcc\n",
      "      961 tgtcccagat atgttaagca tagcactcta aaattggcaa caggaatgcg aaatgtacca\n",
      "     1021 gagaaacaaa ctagaggcat atttggcgca atagcgggtt tcatagaaaa tggttgggag\n",
      "     1081 ggaatggtgg atggttggta cggtttcagg catcaaaatt ctgagggaag aggacaagca\n",
      "     1141 gcagatctca aaagcactca agcagcaatc gatcaaatca atgggaagct gaatcgattg\n",
      "     1201 atcgggaaaa ccaacgagaa attccatcag attgaaaaag aattctcaga agtagaagga\n",
      "     1261 agaattcagg accttgagaa atatgttgag gacactaaaa tagatctctg gtcatacaac\n",
      "     1321 gcggagcttc ttgttgccct ggagaaccaa catacarttg atctaactga ctcagaaatg\n",
      "     1381 aacaaactgt ttgaaaaaac aaagaagcaa ctgagggaaa atgctgagga tatgggaaat\n",
      "     1441 ggttgtttca aaatatacca caaatgtgac aatgcctgca taggatcaat aagaaatgga\n",
      "     1501 acttatgacc acaatgtgta cagggatgaa gcattaaaca accggttcca gatcaaggga\n",
      "     1561 gttgagctga agtcagggta caaagattgg atcctatgga tttcctytgc catatcatgt\n",
      "     1621 tttttgcttt gtgttgcttt gttggggttc atcatgtggg cctgccaaaa gggcaacatt\n",
      "     1681 aggtgcaaca tttgcatttg a\n",
      "//\n",
      "\n",
      "\n"
     ]
    }
   ],
   "source": [
    "from Bio import Entrez, SeqIO\n",
    "Entrez.email = \"wilke@austin.utexas.edu\" # put your email here\n",
    "\n",
    "# Download sequence record for genbank id KT220438 (HA from influenza A)\n",
    "# Using text mode\n",
    "handle = Entrez.efetch(db=\"nucleotide\", id=\"KT220438\", rettype=\"gb\", retmode=\"text\")\n",
    "record = handle.read() # read file directly\n",
    "print(record)\n",
    "handle.close()"
   ]
  },
  {
   "cell_type": "markdown",
   "metadata": {},
   "source": [
    "We can also, as we have done before, process this file using the `SeqIO` module:"
   ]
  },
  {
   "cell_type": "code",
   "execution_count": 2,
   "metadata": {},
   "outputs": [
    {
     "name": "stdout",
     "output_type": "stream",
     "text": [
      "ID: KT220438.1\n",
      "Name: KT220438\n",
      "Description: Influenza A virus (A/NewJersey/NHRC_93219/2015(H3N2)) segment 4 hemagglutinin (HA) gene, complete cds\n",
      "Number of features: 5\n",
      "/date=20-JUL-2015\n",
      "/data_file_division=VRL\n",
      "/accessions=['KT220438']\n",
      "/molecule_type=cRNA\n",
      "/references=[Reference(title='GEISS Influenza Surveillance Response Program', ...), Reference(title='Direct Submission', ...)]\n",
      "/sequence_version=1\n",
      "/topology=linear\n",
      "/source=Influenza A virus (A/New Jersey/NHRC_93219/2015(H3N2))\n",
      "/keywords=['']\n",
      "/structured_comment=OrderedDict([('Assembly-Data', OrderedDict([('Sequencing Technology', 'Sanger dideoxy sequencing')]))])\n",
      "/taxonomy=['Viruses', 'ssRNA viruses', 'ssRNA negative-strand viruses', 'Orthomyxoviridae', 'Influenzavirus A']\n",
      "/organism=Influenza A virus (A/New Jersey/NHRC_93219/2015(H3N2))\n",
      "Seq('ATGAAGACTATCATTGCTTTGAGCTACATTCTATGTCTGGTTTTCGCTCAAAAA...TGA', IUPACAmbiguousDNA())\n"
     ]
    }
   ],
   "source": [
    "# Download sequence record for genbank id KT220438 (HA from influenza A)\n",
    "# Using text mode\n",
    "handle = Entrez.efetch(db=\"nucleotide\", id=\"KT220438\", rettype=\"gb\", retmode=\"text\")\n",
    "record = SeqIO.read(handle, \"genbank\") # parse with SeqIO\n",
    "print(record)\n",
    "handle.close()"
   ]
  },
  {
   "cell_type": "markdown",
   "metadata": {},
   "source": [
    "In addition to text mode, we can also download the data in XML mode. XML is a structured data format that allows for easy machine-processing of complex data files. If we just print the raw data, though, it doesn't look appealing:"
   ]
  },
  {
   "cell_type": "code",
   "execution_count": 3,
   "metadata": {},
   "outputs": [
    {
     "name": "stdout",
     "output_type": "stream",
     "text": [
      "<?xml version=\"1.0\" encoding=\"UTF-8\"  ?>\n",
      "<!DOCTYPE GBSet PUBLIC \"-//NCBI//NCBI GBSeq/EN\" \"https://www.ncbi.nlm.nih.gov/dtd/NCBI_GBSeq.dtd\">\n",
      "<GBSet>\n",
      "  <GBSeq>\n",
      "\n",
      "    <GBSeq_locus>KT220438</GBSeq_locus>\n",
      "    <GBSeq_length>1701</GBSeq_length>\n",
      "    <GBSeq_strandedness>single</GBSeq_strandedness>\n",
      "    <GBSeq_moltype>cRNA</GBSeq_moltype>\n",
      "    <GBSeq_topology>linear</GBSeq_topology>\n",
      "    <GBSeq_division>VRL</GBSeq_division>\n",
      "    <GBSeq_update-date>20-JUL-2015</GBSeq_update-date>\n",
      "    <GBSeq_create-date>20-JUL-2015</GBSeq_create-date>\n",
      "    <GBSeq_definition>Influenza A virus (A/NewJersey/NHRC_93219/2015(H3N2)) segment 4 hemagglutinin (HA) gene, complete cds</GBSeq_definition>\n",
      "    <GBSeq_primary-accession>KT220438</GBSeq_primary-accession>\n",
      "    <GBSeq_accession-version>KT220438.1</GBSeq_accession-version>\n",
      "    <GBSeq_other-seqids>\n",
      "      <GBSeqid>gb|KT220438.1|</GBSeqid>\n",
      "      <GBSeqid>gi|887493048</GBSeqid>\n",
      "    </GBSeq_other-seqids>\n",
      "    <GBSeq_source>Influenza A virus (A/New Jersey/NHRC_93219/2015(H3N2))</GBSeq_source>\n",
      "    <GBSeq_organism>Influenza A virus (A/New Jersey/NHRC_93219/2015(H3N2))</GBSeq_organism>\n",
      "    <GBSeq_taxonomy>Viruses; ssRNA viruses; ssRNA negative-strand viruses; Orthomyxoviridae; Influenzavirus A</GBSeq_taxonomy>\n",
      "    <GBSeq_references>\n",
      "      <GBReference>\n",
      "        <GBReference_reference>1</GBReference_reference>\n",
      "        <GBReference_position>1..1701</GBReference_position>\n",
      "        <GBReference_authors>\n",
      "          <GBAuthor>Sitz,C.R.</GBAuthor>\n",
      "          <GBAuthor>Thammavong,H.L.</GBAuthor>\n",
      "          <GBAuthor>Balansay-Ames,M.S.</GBAuthor>\n",
      "          <GBAuthor>Hawksworth,A.W.</GBAuthor>\n",
      "          <GBAuthor>Myers,C.A.</GBAuthor>\n",
      "          <GBAuthor>Brice,G.T.</GBAuthor>\n",
      "        </GBReference_authors>\n",
      "        <GBReference_title>GEISS Influenza Surveillance Response Program</GBReference_title>\n",
      "        <GBReference_journal>Unpublished</GBReference_journal>\n",
      "      </GBReference>\n",
      "      <GBReference>\n",
      "        <GBReference_reference>2</GBReference_reference>\n",
      "        <GBReference_position>1..1701</GBReference_position>\n",
      "        <GBReference_authors>\n",
      "          <GBAuthor>Sitz,C.R.</GBAuthor>\n",
      "          <GBAuthor>Thammavong,H.L.</GBAuthor>\n",
      "          <GBAuthor>Balansay-Ames,M.S.</GBAuthor>\n",
      "          <GBAuthor>Hawksworth,A.W.</GBAuthor>\n",
      "          <GBAuthor>Myers,C.A.</GBAuthor>\n",
      "          <GBAuthor>Brice,G.T.</GBAuthor>\n",
      "        </GBReference_authors>\n",
      "        <GBReference_title>Direct Submission</GBReference_title>\n",
      "        <GBReference_journal>Submitted (29-JUN-2015) Operational Infectious Diseases, Naval Health Research Center, 140 Sylvester Rd., San Diego, CA 92106, USA</GBReference_journal>\n",
      "      </GBReference>\n",
      "    </GBSeq_references>\n",
      "    <GBSeq_comment>##Assembly-Data-START## ; Sequencing Technology :: Sanger dideoxy sequencing ; ##Assembly-Data-END##</GBSeq_comment>\n",
      "    <GBSeq_feature-table>\n",
      "      <GBFeature>\n",
      "        <GBFeature_key>source</GBFeature_key>\n",
      "        <GBFeature_location>1..1701</GBFeature_location>\n",
      "        <GBFeature_intervals>\n",
      "          <GBInterval>\n",
      "            <GBInterval_from>1</GBInterval_from>\n",
      "            <GBInterval_to>1701</GBInterval_to>\n",
      "            <GBInterval_accession>KT220438.1</GBInterval_accession>\n",
      "          </GBInterval>\n",
      "        </GBFeature_intervals>\n",
      "        <GBFeature_quals>\n",
      "          <GBQualifier>\n",
      "            <GBQualifier_name>organism</GBQualifier_name>\n",
      "            <GBQualifier_value>Influenza A virus (A/New Jersey/NHRC_93219/2015(H3N2))</GBQualifier_value>\n",
      "          </GBQualifier>\n",
      "          <GBQualifier>\n",
      "            <GBQualifier_name>mol_type</GBQualifier_name>\n",
      "            <GBQualifier_value>viral cRNA</GBQualifier_value>\n",
      "          </GBQualifier>\n",
      "          <GBQualifier>\n",
      "            <GBQualifier_name>strain</GBQualifier_name>\n",
      "            <GBQualifier_value>A/NewJersey/NHRC_93219/2015</GBQualifier_value>\n",
      "          </GBQualifier>\n",
      "          <GBQualifier>\n",
      "            <GBQualifier_name>serotype</GBQualifier_name>\n",
      "            <GBQualifier_value>H3N2</GBQualifier_value>\n",
      "          </GBQualifier>\n",
      "          <GBQualifier>\n",
      "            <GBQualifier_name>isolation_source</GBQualifier_name>\n",
      "            <GBQualifier_value>nasopharyngeal swab</GBQualifier_value>\n",
      "          </GBQualifier>\n",
      "          <GBQualifier>\n",
      "            <GBQualifier_name>host</GBQualifier_name>\n",
      "            <GBQualifier_value>Homo sapiens</GBQualifier_value>\n",
      "          </GBQualifier>\n",
      "          <GBQualifier>\n",
      "            <GBQualifier_name>db_xref</GBQualifier_name>\n",
      "            <GBQualifier_value>taxon:1682360</GBQualifier_value>\n",
      "          </GBQualifier>\n",
      "          <GBQualifier>\n",
      "            <GBQualifier_name>segment</GBQualifier_name>\n",
      "            <GBQualifier_value>4</GBQualifier_value>\n",
      "          </GBQualifier>\n",
      "          <GBQualifier>\n",
      "            <GBQualifier_name>lab_host</GBQualifier_name>\n",
      "            <GBQualifier_value>MDCK</GBQualifier_value>\n",
      "          </GBQualifier>\n",
      "          <GBQualifier>\n",
      "            <GBQualifier_name>country</GBQualifier_name>\n",
      "            <GBQualifier_value>USA: New Jersey</GBQualifier_value>\n",
      "          </GBQualifier>\n",
      "          <GBQualifier>\n",
      "            <GBQualifier_name>collection_date</GBQualifier_name>\n",
      "            <GBQualifier_value>17-Jan-2015</GBQualifier_value>\n",
      "          </GBQualifier>\n",
      "        </GBFeature_quals>\n",
      "      </GBFeature>\n",
      "      <GBFeature>\n",
      "        <GBFeature_key>gene</GBFeature_key>\n",
      "        <GBFeature_location>1..1701</GBFeature_location>\n",
      "        <GBFeature_intervals>\n",
      "          <GBInterval>\n",
      "            <GBInterval_from>1</GBInterval_from>\n",
      "            <GBInterval_to>1701</GBInterval_to>\n",
      "            <GBInterval_accession>KT220438.1</GBInterval_accession>\n",
      "          </GBInterval>\n",
      "        </GBFeature_intervals>\n",
      "        <GBFeature_quals>\n",
      "          <GBQualifier>\n",
      "            <GBQualifier_name>gene</GBQualifier_name>\n",
      "            <GBQualifier_value>HA</GBQualifier_value>\n",
      "          </GBQualifier>\n",
      "        </GBFeature_quals>\n",
      "      </GBFeature>\n",
      "      <GBFeature>\n",
      "        <GBFeature_key>CDS</GBFeature_key>\n",
      "        <GBFeature_location>1..1701</GBFeature_location>\n",
      "        <GBFeature_intervals>\n",
      "          <GBInterval>\n",
      "            <GBInterval_from>1</GBInterval_from>\n",
      "            <GBInterval_to>1701</GBInterval_to>\n",
      "            <GBInterval_accession>KT220438.1</GBInterval_accession>\n",
      "          </GBInterval>\n",
      "        </GBFeature_intervals>\n",
      "        <GBFeature_quals>\n",
      "          <GBQualifier>\n",
      "            <GBQualifier_name>gene</GBQualifier_name>\n",
      "            <GBQualifier_value>HA</GBQualifier_value>\n",
      "          </GBQualifier>\n",
      "          <GBQualifier>\n",
      "            <GBQualifier_name>function</GBQualifier_name>\n",
      "            <GBQualifier_value>receptor binding and fusion protein</GBQualifier_value>\n",
      "          </GBQualifier>\n",
      "          <GBQualifier>\n",
      "            <GBQualifier_name>codon_start</GBQualifier_name>\n",
      "            <GBQualifier_value>1</GBQualifier_value>\n",
      "          </GBQualifier>\n",
      "          <GBQualifier>\n",
      "            <GBQualifier_name>transl_table</GBQualifier_name>\n",
      "            <GBQualifier_value>1</GBQualifier_value>\n",
      "          </GBQualifier>\n",
      "          <GBQualifier>\n",
      "            <GBQualifier_name>product</GBQualifier_name>\n",
      "            <GBQualifier_value>hemagglutinin</GBQualifier_value>\n",
      "          </GBQualifier>\n",
      "          <GBQualifier>\n",
      "            <GBQualifier_name>protein_id</GBQualifier_name>\n",
      "            <GBQualifier_value>AKQ43545.1</GBQualifier_value>\n",
      "          </GBQualifier>\n",
      "          <GBQualifier>\n",
      "            <GBQualifier_name>translation</GBQualifier_name>\n",
      "            <GBQualifier_value>MKTIIALSYILCLVFAQKIPGNDNSTATLCLGHHAVPNGTIVKTITNDRIEVTNATELVQNSSIGEICDSPHQILDGENCTLIDALLGDPQCDGFQNKKWDLFVERSKAYSNCYPYDVPDYASLRSLVASSGTLEFNNESFNWTGVTQNGTSSACIRRSSSSFFSRLNWLTHLNYTYPALNVTMPNNEQFDKLYIWGVHHPGTDKDQIFLYAQSSGRITVSTKRSQQAVIPNIGSRPRIRDIPSRISIYWTIVKPGDILLINSTGNLIAPRGYFKIRSGKSSIMRSDAPIGKCKSECITPNGSIPNDKPFQNVNRITYGACPRYVKHSTLKLATGMRNVPEKQTRGIFGAIAGFIENGWEGMVDGWYGFRHQNSEGRGQAADLKSTQAAIDQINGKLNRLIGKTNEKFHQIEKEFSEVEGRIQDLEKYVEDTKIDLWSYNAELLVALENQHTXDLTDSEMNKLFEKTKKQLRENAEDMGNGCFKIYHKCDNACIGSIRNGTYDHNVYRDEALNNRFQIKGVELKSGYKDWILWISXAISCFLLCVALLGFIMWACQKGNIRCNICI</GBQualifier_value>\n",
      "          </GBQualifier>\n",
      "        </GBFeature_quals>\n",
      "      </GBFeature>\n",
      "      <GBFeature>\n",
      "        <GBFeature_key>mat_peptide</GBFeature_key>\n",
      "        <GBFeature_location>49..1035</GBFeature_location>\n",
      "        <GBFeature_intervals>\n",
      "          <GBInterval>\n",
      "            <GBInterval_from>49</GBInterval_from>\n",
      "            <GBInterval_to>1035</GBInterval_to>\n",
      "            <GBInterval_accession>KT220438.1</GBInterval_accession>\n",
      "          </GBInterval>\n",
      "        </GBFeature_intervals>\n",
      "        <GBFeature_quals>\n",
      "          <GBQualifier>\n",
      "            <GBQualifier_name>gene</GBQualifier_name>\n",
      "            <GBQualifier_value>HA</GBQualifier_value>\n",
      "          </GBQualifier>\n",
      "          <GBQualifier>\n",
      "            <GBQualifier_name>product</GBQualifier_name>\n",
      "            <GBQualifier_value>HA1</GBQualifier_value>\n",
      "          </GBQualifier>\n",
      "          <GBQualifier>\n",
      "            <GBQualifier_name>peptide</GBQualifier_name>\n",
      "            <GBQualifier_value>QKIPGNDNSTATLCLGHHAVPNGTIVKTITNDRIEVTNATELVQNSSIGEICDSPHQILDGENCTLIDALLGDPQCDGFQNKKWDLFVERSKAYSNCYPYDVPDYASLRSLVASSGTLEFNNESFNWTGVTQNGTSSACIRRSSSSFFSRLNWLTHLNYTYPALNVTMPNNEQFDKLYIWGVHHPGTDKDQIFLYAQSSGRITVSTKRSQQAVIPNIGSRPRIRDIPSRISIYWTIVKPGDILLINSTGNLIAPRGYFKIRSGKSSIMRSDAPIGKCKSECITPNGSIPNDKPFQNVNRITYGACPRYVKHSTLKLATGMRNVPEKQTR</GBQualifier_value>\n",
      "          </GBQualifier>\n",
      "        </GBFeature_quals>\n",
      "      </GBFeature>\n",
      "      <GBFeature>\n",
      "        <GBFeature_key>mat_peptide</GBFeature_key>\n",
      "        <GBFeature_location>1036..1698</GBFeature_location>\n",
      "        <GBFeature_intervals>\n",
      "          <GBInterval>\n",
      "            <GBInterval_from>1036</GBInterval_from>\n",
      "            <GBInterval_to>1698</GBInterval_to>\n",
      "            <GBInterval_accession>KT220438.1</GBInterval_accession>\n",
      "          </GBInterval>\n",
      "        </GBFeature_intervals>\n",
      "        <GBFeature_quals>\n",
      "          <GBQualifier>\n",
      "            <GBQualifier_name>gene</GBQualifier_name>\n",
      "            <GBQualifier_value>HA</GBQualifier_value>\n",
      "          </GBQualifier>\n",
      "          <GBQualifier>\n",
      "            <GBQualifier_name>product</GBQualifier_name>\n",
      "            <GBQualifier_value>HA2</GBQualifier_value>\n",
      "          </GBQualifier>\n",
      "          <GBQualifier>\n",
      "            <GBQualifier_name>peptide</GBQualifier_name>\n",
      "            <GBQualifier_value>GIFGAIAGFIENGWEGMVDGWYGFRHQNSEGRGQAADLKSTQAAIDQINGKLNRLIGKTNEKFHQIEKEFSEVEGRIQDLEKYVEDTKIDLWSYNAELLVALENQHTXDLTDSEMNKLFEKTKKQLRENAEDMGNGCFKIYHKCDNACIGSIRNGTYDHNVYRDEALNNRFQIKGVELKSGYKDWILWISXAISCFLLCVALLGFIMWACQKGNIRCNICI</GBQualifier_value>\n",
      "          </GBQualifier>\n",
      "        </GBFeature_quals>\n",
      "      </GBFeature>\n",
      "    </GBSeq_feature-table>\n",
      "    <GBSeq_sequence>atgaagactatcattgctttgagctacattctatgtctggttttcgctcaaaaaattcctggaaatgacaatagcacggcaacgctgtgccttgggcaccatgcagtaccaaacggaacgatagtgaaaacaatcacaaatgaccgaattgaagttactaatgctactgagctggttcagaattcctcaataggtgaaatatgcgacagtcctcatcagatccttgatggagaaaactgcacactaatagatgctctattgggagaccctcagtgtgatggctttcaaaataagaaatgggacctttttgttgaacgaagcaaagcctacagcaactgctacccttatgatgtgccggattatgcctcccttaggtcactagttgcctcatccggcacactggagtttaacaatgaaagcttcaattggactggagtcactcaaaacggaacaagttctgcttgcataaggagatctagtagtagtttctttagtagattaaattggttgacccacttaaactacacatacccagcattgaacgtgactatgccaaacaatgaacaatttgacaaattgtacatttggggggttcaccacccgggtacggacaaggaccaaatcttcctgtatgctcaatcatcaggaagaatcacagtatctaccaaaagaagccaacaagctgtaatcccaaatatcggatctagacccagaataagggatatccctagcagaataagcatctattggacaatagtaaaaccgggagacatacttttgattaacagcacagggaatctaattgctcctaggggttacttcaaaatacgaagtgggaaaagctcaataatgagatcagatgcacccattggcaaatgcaagtctgaatgcatcactccaaatggaagcattcccaatgacaaaccattccaaaatgtaaacaggatcacatacggggcctgtcccagatatgttaagcatagcactctaaaattggcaacaggaatgcgaaatgtaccagagaaacaaactagaggcatatttggcgcaatagcgggtttcatagaaaatggttgggagggaatggtggatggttggtacggtttcaggcatcaaaattctgagggaagaggacaagcagcagatctcaaaagcactcaagcagcaatcgatcaaatcaatgggaagctgaatcgattgatcgggaaaaccaacgagaaattccatcagattgaaaaagaattctcagaagtagaaggaagaattcaggaccttgagaaatatgttgaggacactaaaatagatctctggtcatacaacgcggagcttcttgttgccctggagaaccaacatacarttgatctaactgactcagaaatgaacaaactgtttgaaaaaacaaagaagcaactgagggaaaatgctgaggatatgggaaatggttgtttcaaaatataccacaaatgtgacaatgcctgcataggatcaataagaaatggaacttatgaccacaatgtgtacagggatgaagcattaaacaaccggttccagatcaagggagttgagctgaagtcagggtacaaagattggatcctatggatttcctytgccatatcatgttttttgctttgtgttgctttgttggggttcatcatgtgggcctgccaaaagggcaacattaggtgcaacatttgcatttga</GBSeq_sequence>\n",
      "  </GBSeq>\n",
      "\n",
      "</GBSet>\n",
      "\n"
     ]
    }
   ],
   "source": [
    "# Download sequence record for genbank id KT220438 (HA from influenza A)\n",
    "# Using XML mode\n",
    "handle = Entrez.efetch(db=\"nucleotide\", id=\"KT220438\", rettype=\"gb\", retmode=\"xml\")\n",
    "record = handle.read() # read file directly\n",
    "print(record)\n",
    "handle.close()"
   ]
  },
  {
   "cell_type": "markdown",
   "metadata": {},
   "source": [
    "The advantage of XML mode is that there is the generic `Entrez.parse()` function that can parse XML files returned from `Entrez.efetch()`. Also, some modules in Biopython cannot work with files obtained in text mode, they can only work on files obtained in XML mode. The documentation will generally tell you for each module what kind of input it expects.\n",
    "\n",
    "Reading the above example with `Entrez.parse()` gives us the following:  "
   ]
  },
  {
   "cell_type": "code",
   "execution_count": 4,
   "metadata": {},
   "outputs": [
    {
     "name": "stdout",
     "output_type": "stream",
     "text": [
      "DictElement({'GBSeq_references': [DictElement({'GBReference_position': '1..1701', 'GBReference_reference': '1', 'GBReference_journal': 'Unpublished', 'GBReference_authors': ['Sitz,C.R.', 'Thammavong,H.L.', 'Balansay-Ames,M.S.', 'Hawksworth,A.W.', 'Myers,C.A.', 'Brice,G.T.'], 'GBReference_title': 'GEISS Influenza Surveillance Response Program'}, attributes={}), DictElement({'GBReference_position': '1..1701', 'GBReference_reference': '2', 'GBReference_journal': 'Submitted (29-JUN-2015) Operational Infectious Diseases, Naval Health Research Center, 140 Sylvester Rd., San Diego, CA 92106, USA', 'GBReference_authors': ['Sitz,C.R.', 'Thammavong,H.L.', 'Balansay-Ames,M.S.', 'Hawksworth,A.W.', 'Myers,C.A.', 'Brice,G.T.'], 'GBReference_title': 'Direct Submission'}, attributes={})], 'GBSeq_topology': 'linear', 'GBSeq_organism': 'Influenza A virus (A/New Jersey/NHRC_93219/2015(H3N2))', 'GBSeq_create-date': '20-JUL-2015', 'GBSeq_length': '1701', 'GBSeq_moltype': 'cRNA', 'GBSeq_locus': 'KT220438', 'GBSeq_accession-version': 'KT220438.1', 'GBSeq_source': 'Influenza A virus (A/New Jersey/NHRC_93219/2015(H3N2))', 'GBSeq_other-seqids': ['gb|KT220438.1|', 'gi|887493048'], 'GBSeq_feature-table': [DictElement({'GBFeature_key': 'source', 'GBFeature_location': '1..1701', 'GBFeature_quals': [DictElement({'GBQualifier_value': 'Influenza A virus (A/New Jersey/NHRC_93219/2015(H3N2))', 'GBQualifier_name': 'organism'}, attributes={}), DictElement({'GBQualifier_value': 'viral cRNA', 'GBQualifier_name': 'mol_type'}, attributes={}), DictElement({'GBQualifier_value': 'A/NewJersey/NHRC_93219/2015', 'GBQualifier_name': 'strain'}, attributes={}), DictElement({'GBQualifier_value': 'H3N2', 'GBQualifier_name': 'serotype'}, attributes={}), DictElement({'GBQualifier_value': 'nasopharyngeal swab', 'GBQualifier_name': 'isolation_source'}, attributes={}), DictElement({'GBQualifier_value': 'Homo sapiens', 'GBQualifier_name': 'host'}, attributes={}), DictElement({'GBQualifier_value': 'taxon:1682360', 'GBQualifier_name': 'db_xref'}, attributes={}), DictElement({'GBQualifier_value': '4', 'GBQualifier_name': 'segment'}, attributes={}), DictElement({'GBQualifier_value': 'MDCK', 'GBQualifier_name': 'lab_host'}, attributes={}), DictElement({'GBQualifier_value': 'USA: New Jersey', 'GBQualifier_name': 'country'}, attributes={}), DictElement({'GBQualifier_value': '17-Jan-2015', 'GBQualifier_name': 'collection_date'}, attributes={})], 'GBFeature_intervals': [DictElement({'GBInterval_to': '1701', 'GBInterval_accession': 'KT220438.1', 'GBInterval_from': '1'}, attributes={})]}, attributes={}), DictElement({'GBFeature_key': 'gene', 'GBFeature_location': '1..1701', 'GBFeature_quals': [DictElement({'GBQualifier_value': 'HA', 'GBQualifier_name': 'gene'}, attributes={})], 'GBFeature_intervals': [DictElement({'GBInterval_to': '1701', 'GBInterval_accession': 'KT220438.1', 'GBInterval_from': '1'}, attributes={})]}, attributes={}), DictElement({'GBFeature_key': 'CDS', 'GBFeature_location': '1..1701', 'GBFeature_quals': [DictElement({'GBQualifier_value': 'HA', 'GBQualifier_name': 'gene'}, attributes={}), DictElement({'GBQualifier_value': 'receptor binding and fusion protein', 'GBQualifier_name': 'function'}, attributes={}), DictElement({'GBQualifier_value': '1', 'GBQualifier_name': 'codon_start'}, attributes={}), DictElement({'GBQualifier_value': '1', 'GBQualifier_name': 'transl_table'}, attributes={}), DictElement({'GBQualifier_value': 'hemagglutinin', 'GBQualifier_name': 'product'}, attributes={}), DictElement({'GBQualifier_value': 'AKQ43545.1', 'GBQualifier_name': 'protein_id'}, attributes={}), DictElement({'GBQualifier_value': 'MKTIIALSYILCLVFAQKIPGNDNSTATLCLGHHAVPNGTIVKTITNDRIEVTNATELVQNSSIGEICDSPHQILDGENCTLIDALLGDPQCDGFQNKKWDLFVERSKAYSNCYPYDVPDYASLRSLVASSGTLEFNNESFNWTGVTQNGTSSACIRRSSSSFFSRLNWLTHLNYTYPALNVTMPNNEQFDKLYIWGVHHPGTDKDQIFLYAQSSGRITVSTKRSQQAVIPNIGSRPRIRDIPSRISIYWTIVKPGDILLINSTGNLIAPRGYFKIRSGKSSIMRSDAPIGKCKSECITPNGSIPNDKPFQNVNRITYGACPRYVKHSTLKLATGMRNVPEKQTRGIFGAIAGFIENGWEGMVDGWYGFRHQNSEGRGQAADLKSTQAAIDQINGKLNRLIGKTNEKFHQIEKEFSEVEGRIQDLEKYVEDTKIDLWSYNAELLVALENQHTXDLTDSEMNKLFEKTKKQLRENAEDMGNGCFKIYHKCDNACIGSIRNGTYDHNVYRDEALNNRFQIKGVELKSGYKDWILWISXAISCFLLCVALLGFIMWACQKGNIRCNICI', 'GBQualifier_name': 'translation'}, attributes={})], 'GBFeature_intervals': [DictElement({'GBInterval_to': '1701', 'GBInterval_accession': 'KT220438.1', 'GBInterval_from': '1'}, attributes={})]}, attributes={}), DictElement({'GBFeature_key': 'mat_peptide', 'GBFeature_location': '49..1035', 'GBFeature_quals': [DictElement({'GBQualifier_value': 'HA', 'GBQualifier_name': 'gene'}, attributes={}), DictElement({'GBQualifier_value': 'HA1', 'GBQualifier_name': 'product'}, attributes={}), DictElement({'GBQualifier_value': 'QKIPGNDNSTATLCLGHHAVPNGTIVKTITNDRIEVTNATELVQNSSIGEICDSPHQILDGENCTLIDALLGDPQCDGFQNKKWDLFVERSKAYSNCYPYDVPDYASLRSLVASSGTLEFNNESFNWTGVTQNGTSSACIRRSSSSFFSRLNWLTHLNYTYPALNVTMPNNEQFDKLYIWGVHHPGTDKDQIFLYAQSSGRITVSTKRSQQAVIPNIGSRPRIRDIPSRISIYWTIVKPGDILLINSTGNLIAPRGYFKIRSGKSSIMRSDAPIGKCKSECITPNGSIPNDKPFQNVNRITYGACPRYVKHSTLKLATGMRNVPEKQTR', 'GBQualifier_name': 'peptide'}, attributes={})], 'GBFeature_intervals': [DictElement({'GBInterval_to': '1035', 'GBInterval_accession': 'KT220438.1', 'GBInterval_from': '49'}, attributes={})]}, attributes={}), DictElement({'GBFeature_key': 'mat_peptide', 'GBFeature_location': '1036..1698', 'GBFeature_quals': [DictElement({'GBQualifier_value': 'HA', 'GBQualifier_name': 'gene'}, attributes={}), DictElement({'GBQualifier_value': 'HA2', 'GBQualifier_name': 'product'}, attributes={}), DictElement({'GBQualifier_value': 'GIFGAIAGFIENGWEGMVDGWYGFRHQNSEGRGQAADLKSTQAAIDQINGKLNRLIGKTNEKFHQIEKEFSEVEGRIQDLEKYVEDTKIDLWSYNAELLVALENQHTXDLTDSEMNKLFEKTKKQLRENAEDMGNGCFKIYHKCDNACIGSIRNGTYDHNVYRDEALNNRFQIKGVELKSGYKDWILWISXAISCFLLCVALLGFIMWACQKGNIRCNICI', 'GBQualifier_name': 'peptide'}, attributes={})], 'GBFeature_intervals': [DictElement({'GBInterval_to': '1698', 'GBInterval_accession': 'KT220438.1', 'GBInterval_from': '1036'}, attributes={})]}, attributes={})], 'GBSeq_strandedness': 'single', 'GBSeq_taxonomy': 'Viruses; ssRNA viruses; ssRNA negative-strand viruses; Orthomyxoviridae; Influenzavirus A', 'GBSeq_update-date': '20-JUL-2015', 'GBSeq_division': 'VRL', 'GBSeq_comment': '##Assembly-Data-START## ; Sequencing Technology :: Sanger dideoxy sequencing ; ##Assembly-Data-END##', 'GBSeq_primary-accession': 'KT220438', 'GBSeq_sequence': 'atgaagactatcattgctttgagctacattctatgtctggttttcgctcaaaaaattcctggaaatgacaatagcacggcaacgctgtgccttgggcaccatgcagtaccaaacggaacgatagtgaaaacaatcacaaatgaccgaattgaagttactaatgctactgagctggttcagaattcctcaataggtgaaatatgcgacagtcctcatcagatccttgatggagaaaactgcacactaatagatgctctattgggagaccctcagtgtgatggctttcaaaataagaaatgggacctttttgttgaacgaagcaaagcctacagcaactgctacccttatgatgtgccggattatgcctcccttaggtcactagttgcctcatccggcacactggagtttaacaatgaaagcttcaattggactggagtcactcaaaacggaacaagttctgcttgcataaggagatctagtagtagtttctttagtagattaaattggttgacccacttaaactacacatacccagcattgaacgtgactatgccaaacaatgaacaatttgacaaattgtacatttggggggttcaccacccgggtacggacaaggaccaaatcttcctgtatgctcaatcatcaggaagaatcacagtatctaccaaaagaagccaacaagctgtaatcccaaatatcggatctagacccagaataagggatatccctagcagaataagcatctattggacaatagtaaaaccgggagacatacttttgattaacagcacagggaatctaattgctcctaggggttacttcaaaatacgaagtgggaaaagctcaataatgagatcagatgcacccattggcaaatgcaagtctgaatgcatcactccaaatggaagcattcccaatgacaaaccattccaaaatgtaaacaggatcacatacggggcctgtcccagatatgttaagcatagcactctaaaattggcaacaggaatgcgaaatgtaccagagaaacaaactagaggcatatttggcgcaatagcgggtttcatagaaaatggttgggagggaatggtggatggttggtacggtttcaggcatcaaaattctgagggaagaggacaagcagcagatctcaaaagcactcaagcagcaatcgatcaaatcaatgggaagctgaatcgattgatcgggaaaaccaacgagaaattccatcagattgaaaaagaattctcagaagtagaaggaagaattcaggaccttgagaaatatgttgaggacactaaaatagatctctggtcatacaacgcggagcttcttgttgccctggagaaccaacatacarttgatctaactgactcagaaatgaacaaactgtttgaaaaaacaaagaagcaactgagggaaaatgctgaggatatgggaaatggttgtttcaaaatataccacaaatgtgacaatgcctgcataggatcaataagaaatggaacttatgaccacaatgtgtacagggatgaagcattaaacaaccggttccagatcaagggagttgagctgaagtcagggtacaaagattggatcctatggatttcctytgccatatcatgttttttgctttgtgttgctttgttggggttcatcatgtgggcctgccaaaagggcaacattaggtgcaacatttgcatttga', 'GBSeq_definition': 'Influenza A virus (A/NewJersey/NHRC_93219/2015(H3N2)) segment 4 hemagglutinin (HA) gene, complete cds'}, attributes={})\n"
     ]
    }
   ],
   "source": [
    "# Download sequence record for genbank id KT220438 (HA from influenza A)\n",
    "handle = Entrez.efetch(db=\"nucleotide\", id=\"KT220438\", rettype=\"gb\", retmode=\"xml\")\n",
    "parsed = Entrez.parse(handle)\n",
    "record = list(parsed)[0] # We need to convert the parsed contents into a list. Here we want just the 0th element.\n",
    "handle.close()\n",
    "print(record)"
   ]
  },
  {
   "cell_type": "markdown",
   "metadata": {},
   "source": [
    "While this output may not seem useful, we now just have a set of nested dictionaries that we can interrogate using standard Python techniques:"
   ]
  },
  {
   "cell_type": "code",
   "execution_count": 5,
   "metadata": {},
   "outputs": [
    {
     "name": "stdout",
     "output_type": "stream",
     "text": [
      "['GBSeq_references', 'GBSeq_topology', 'GBSeq_organism', 'GBSeq_create-date', 'GBSeq_length', 'GBSeq_moltype', 'GBSeq_locus', 'GBSeq_accession-version', 'GBSeq_source', 'GBSeq_other-seqids', 'GBSeq_feature-table', 'GBSeq_strandedness', 'GBSeq_taxonomy', 'GBSeq_update-date', 'GBSeq_division', 'GBSeq_comment', 'GBSeq_primary-accession', 'GBSeq_sequence', 'GBSeq_definition']\n"
     ]
    }
   ],
   "source": [
    "print(list(record.keys())) # print out all the keys in the dictionary"
   ]
  },
  {
   "cell_type": "code",
   "execution_count": 6,
   "metadata": {},
   "outputs": [
    {
     "name": "stdout",
     "output_type": "stream",
     "text": [
      "atgaagactatcattgctttgagctacattctatgtctggttttcgctcaaaaaattcctggaaatgacaatagcacggcaacgctgtgccttgggcaccatgcagtaccaaacggaacgatagtgaaaacaatcacaaatgaccgaattgaagttactaatgctactgagctggttcagaattcctcaataggtgaaatatgcgacagtcctcatcagatccttgatggagaaaactgcacactaatagatgctctattgggagaccctcagtgtgatggctttcaaaataagaaatgggacctttttgttgaacgaagcaaagcctacagcaactgctacccttatgatgtgccggattatgcctcccttaggtcactagttgcctcatccggcacactggagtttaacaatgaaagcttcaattggactggagtcactcaaaacggaacaagttctgcttgcataaggagatctagtagtagtttctttagtagattaaattggttgacccacttaaactacacatacccagcattgaacgtgactatgccaaacaatgaacaatttgacaaattgtacatttggggggttcaccacccgggtacggacaaggaccaaatcttcctgtatgctcaatcatcaggaagaatcacagtatctaccaaaagaagccaacaagctgtaatcccaaatatcggatctagacccagaataagggatatccctagcagaataagcatctattggacaatagtaaaaccgggagacatacttttgattaacagcacagggaatctaattgctcctaggggttacttcaaaatacgaagtgggaaaagctcaataatgagatcagatgcacccattggcaaatgcaagtctgaatgcatcactccaaatggaagcattcccaatgacaaaccattccaaaatgtaaacaggatcacatacggggcctgtcccagatatgttaagcatagcactctaaaattggcaacaggaatgcgaaatgtaccagagaaacaaactagaggcatatttggcgcaatagcgggtttcatagaaaatggttgggagggaatggtggatggttggtacggtttcaggcatcaaaattctgagggaagaggacaagcagcagatctcaaaagcactcaagcagcaatcgatcaaatcaatgggaagctgaatcgattgatcgggaaaaccaacgagaaattccatcagattgaaaaagaattctcagaagtagaaggaagaattcaggaccttgagaaatatgttgaggacactaaaatagatctctggtcatacaacgcggagcttcttgttgccctggagaaccaacatacarttgatctaactgactcagaaatgaacaaactgtttgaaaaaacaaagaagcaactgagggaaaatgctgaggatatgggaaatggttgtttcaaaatataccacaaatgtgacaatgcctgcataggatcaataagaaatggaacttatgaccacaatgtgtacagggatgaagcattaaacaaccggttccagatcaagggagttgagctgaagtcagggtacaaagattggatcctatggatttcctytgccatatcatgttttttgctttgtgttgctttgttggggttcatcatgtgggcctgccaaaagggcaacattaggtgcaacatttgcatttga\n"
     ]
    }
   ],
   "source": [
    "print(record['GBSeq_sequence']) # print out the sequence"
   ]
  },
  {
   "cell_type": "code",
   "execution_count": 7,
   "metadata": {},
   "outputs": [
    {
     "name": "stdout",
     "output_type": "stream",
     "text": [
      "source: 1..1701\n",
      "gene: 1..1701\n",
      "CDS: 1..1701\n",
      "mat_peptide: 49..1035\n",
      "mat_peptide: 1036..1698\n"
     ]
    }
   ],
   "source": [
    "features = record['GBSeq_feature-table'] # extract all the features\n",
    "for feature in features: # loop over features and print feature key and feature location\n",
    "    print(feature['GBFeature_key'] + \": \" + feature['GBFeature_location'])"
   ]
  },
  {
   "cell_type": "markdown",
   "metadata": {},
   "source": [
    "## Running search queries through Entrez\n",
    "\n",
    "So far we have only downloaded specific records from Entrez. In addition to just downloading records, however, we can also run searches directly from python. Any query that you can do on the Entrez website (https://www.ncbi.nlm.nih.gov/) can also be executed directly from python. This allows you to find a large number of records all at once and process them in an automated fashion.\n",
    "\n",
    "For example, below we will see how to automatically run and retrieve the results for the following search term: \"influenza a virus texas h1n1 hemagglutinin complete cds\". A direct link to the search results on the Entrez website is here:    \n",
    "https://www.ncbi.nlm.nih.gov/nuccore/?term=influenza+a+virus+texas+h1n1+hemagglutinin+complete+cds\n",
    "\n",
    "(Note that in the following Python code, we limit the number of search hits returned to the first 10.)"
   ]
  },
  {
   "cell_type": "code",
   "execution_count": 8,
   "metadata": {},
   "outputs": [
    {
     "name": "stdout",
     "output_type": "stream",
     "text": [
      "['1597259311', '1597259287', '1597258925', '1597258900', '1591440116', '1591440105', '1591440078', '1590855198', '1590855179', '1590836043']\n"
     ]
    }
   ],
   "source": [
    "# let's do a search for influenza H1N1 viruses from Texas\n",
    "handle = Entrez.esearch(db=\"nucleotide\",  # database to search\n",
    "                        term=\"influenza a virus texas h1n1 hemagglutinin complete cds\",  # search term\n",
    "                        retmax=10  # number of results that are returned\n",
    "                        )\n",
    "record = Entrez.read(handle)\n",
    "handle.close()\n",
    "\n",
    "gi_list = record[\"IdList\"] # list of genbank identifiers found\n",
    "print(gi_list)"
   ]
  },
  {
   "cell_type": "markdown",
   "metadata": {},
   "source": [
    "Note that even though NCBI is [phasing out sequence GI numbers,](https://www.ncbi.nlm.nih.gov/news/03-02-2016-phase-out-of-GI-numbers/) for now the `esearch()` function still returns GI numbers (numerical sequence identifiers without version information).\n",
    "\n",
    "We can download all the genbank records in the list of identifiers using the `Entrez.efetch()` function. This function provides us with a handle that needs to be processed with `SeqIO.parse()`. (We used `SeqIO.read()` previously, which reads a single record. `SeqIO.parse()` reads multiple records. See [here](http://biopython.org/wiki/SeqIO) for details.) "
   ]
  },
  {
   "cell_type": "code",
   "execution_count": 9,
   "metadata": {},
   "outputs": [
    {
     "name": "stdout",
     "output_type": "stream",
     "text": [
      "Influenza A virus (A/Texas/12/2019(H1N1)) segment 4 hemagglutinin (HA) gene, complete cds\n",
      "Influenza A virus (A/Texas/07/2019(H1N1)) segment 4 hemagglutinin (HA) gene, complete cds\n",
      "Influenza A virus (A/Texas/06/2019(H1N1)) segment 4 hemagglutinin (HA) gene, complete cds\n",
      "Influenza A virus (A/Texas/05/2019(H1N1)) segment 4 hemagglutinin (HA) gene, complete cds\n",
      "Influenza A virus (A/Texas/157/2018(H1N1)) segment 4 hemagglutinin (HA) gene, complete cds\n",
      "Influenza A virus (A/Texas/143/2018(H1N1)) segment 4 hemagglutinin (HA) gene, complete cds\n",
      "Influenza A virus (A/Texas/02/2019(H1N1)) segment 4 hemagglutinin (HA) gene, complete cds\n",
      "Influenza A virus (A/Texas/148/2018(H1N1)) segment 4 hemagglutinin (HA) gene, complete cds\n",
      "Influenza A virus (A/Texas/147/2018(H1N1)) segment 4 hemagglutinin (HA) gene, complete cds\n",
      "Influenza A virus (A/Texas/156/2018(H1N1)) segment 4 hemagglutinin (HA) gene, complete cds\n"
     ]
    }
   ],
   "source": [
    "handle = Entrez.efetch(db=\"nucleotide\", id=gi_list, rettype=\"gb\", retmode=\"text\")\n",
    "records = SeqIO.parse(handle, \"genbank\")\n",
    "\n",
    "for record in records:\n",
    "    print(record.description)\n",
    "    \n",
    "handle.close() # important, close the handle only after you have iterated over the records. Otherwise you will get an error!"
   ]
  },
  {
   "cell_type": "markdown",
   "metadata": {},
   "source": [
    "As another example, let's search the \"pubmed\" database (database of scientific publications) for papers from 2015 written by \"Wilke CO\". The exact search term we need to use is the following: \"Wilke CO[Author] AND 2015[Date - Publication]\"\n",
    "\n",
    "You can [click here](http://www.ncbi.nlm.nih.gov/pubmed/?term=Wilke+CO%5BAuthor%5D+AND+2015%5BDate+-+Publication%5D) to see the result from that search online."
   ]
  },
  {
   "cell_type": "code",
   "execution_count": 10,
   "metadata": {},
   "outputs": [
    {
     "name": "stdout",
     "output_type": "stream",
     "text": [
      "['26770819', '26468068', '26430238', '26397960', '26355089', '26275208', '26020774', '25999509', '25787027', '25737813']\n"
     ]
    }
   ],
   "source": [
    "handle = Entrez.esearch(db=\"pubmed\",  # database to search\n",
    "                        term=\"Wilke CO[Author] AND 2015[Date - Publication]\",  # search term\n",
    "                        retmax=10  # number of results that are returned\n",
    "                        )\n",
    "record = Entrez.read(handle)\n",
    "handle.close()\n",
    "\n",
    "# search returns PubMed IDs (pmids)\n",
    "pmid_list = record[\"IdList\"]\n",
    "print(pmid_list)"
   ]
  },
  {
   "cell_type": "markdown",
   "metadata": {},
   "source": [
    "Just like with genes and genomes, we can download the records corresponding to these identifiers. They are references. We'll print the author(s), title, and reference (source)."
   ]
  },
  {
   "cell_type": "code",
   "execution_count": 11,
   "metadata": {},
   "outputs": [
    {
     "name": "stdout",
     "output_type": "stream",
     "text": [
      "['Meyer AG', 'Spielman SJ', 'Bedford T', 'Wilke CO']\n",
      "Time dependence of evolutionary metrics during the 2009 pandemic influenza virus outbreak.\n",
      "Virus Evol. 2015 Jan;1(1). doi: 10.1093/ve/vev006. Epub 2015 Jan 1.\n",
      "\n",
      "['Meyer AG', 'Wilke CO']\n",
      "The utility of protein structure as a predictor of site-wise dN/dS varies widely among HIV-1 proteins.\n",
      "J R Soc Interface. 2015 Oct 6;12(111):20150579. doi: 10.1098/rsif.2015.0579.\n",
      "\n",
      "['Wilke CO']\n",
      "Evolutionary paths of least resistance.\n",
      "Proc Natl Acad Sci U S A. 2015 Oct 13;112(41):12553-4. doi: 10.1073/pnas.1517390112. Epub 2015 Oct 1.\n",
      "\n",
      "['Spielman SJ', 'Wilke CO']\n",
      "Pyvolve: A Flexible Python Module for Simulating Sequences along Phylogenies.\n",
      "PLoS One. 2015 Sep 23;10(9):e0139047. doi: 10.1371/journal.pone.0139047. eCollection 2015.\n",
      "\n",
      "['Kerr SA', 'Jackson EL', 'Lungu OI', 'Meyer AG', 'Demogines A', 'Ellington AD', 'Georgiou G', 'Wilke CO', 'Sawyer SL']\n",
      "Computational and Functional Analysis of the Virus-Receptor Interface Reveals Host Range Trade-Offs in New World Arenaviruses.\n",
      "J Virol. 2015 Nov;89(22):11643-53. doi: 10.1128/JVI.01408-15. Epub 2015 Sep 9.\n",
      "\n",
      "['Houser JR', 'Barnhart C', 'Boutz DR', 'Carroll SM', 'Dasgupta A', 'Michener JK', 'Needham BD', 'Papoulas O', 'Sridhara V', 'Sydykova DK', 'Marx CJ', 'Trent MS', 'Barrick JE', 'Marcotte EM', 'Wilke CO']\n",
      "Controlled Measurement and Comparative Analysis of Cellular Components in E. coli Reveals Broad Regulatory Changes in Response to Glucose Starvation.\n",
      "PLoS Comput Biol. 2015 Aug 14;11(8):e1004400. doi: 10.1371/journal.pcbi.1004400. eCollection 2015 Aug.\n",
      "\n",
      "['Meyer AG', 'Wilke CO']\n",
      "Geometric Constraints Dominate the Antigenic Evolution of Influenza H3N2 Hemagglutinin.\n",
      "PLoS Pathog. 2015 May 28;11(5):e1004940. doi: 10.1371/journal.ppat.1004940. eCollection 2015 May.\n",
      "\n",
      "['Kachroo AH', 'Laurent JM', 'Yellman CM', 'Meyer AG', 'Wilke CO', 'Marcotte EM']\n",
      "Evolution. Systematic humanization of yeast genes reveals conserved functions and genetic modularity.\n",
      "Science. 2015 May 22;348(6237):921-5. doi: 10.1126/science.aaa0769.\n",
      "\n",
      "['Echave J', 'Jackson EL', 'Wilke CO']\n",
      "Relationship between protein thermodynamic constraints and variation of evolutionary rates among sites.\n",
      "Phys Biol. 2015 Mar 19;12(2):025002. doi: 10.1088/1478-3975/12/2/025002.\n",
      "\n",
      "['Spielman SJ', 'Kumar K', 'Wilke CO']\n",
      "Comprehensive, structurally-informed alignment and phylogeny of vertebrate biogenic amine receptors.\n",
      "PeerJ. 2015 Feb 17;3:e773. doi: 10.7717/peerj.773. eCollection 2015.\n",
      "\n"
     ]
    }
   ],
   "source": [
    "from Bio import Medline\n",
    "handle = Entrez.efetch(db=\"pubmed\", id=pmid_list, rettype=\"medline\", retmode=\"text\")\n",
    "records = Medline.parse(handle)\n",
    "for record in records:\n",
    "    print(record['AU']) # author list\n",
    "    print(record['TI']) # title\n",
    "    print(record['SO']) # source (reference)\n",
    "    print()\n",
    "handle.close()"
   ]
  },
  {
   "cell_type": "markdown",
   "metadata": {},
   "source": [
    "## Problems\n",
    "\n",
    "**Problem 1**\n",
    "\n",
    "Use the following code to download the genbank record `KT220438` in XML and parse it with the `Entrez.parse()` function:"
   ]
  },
  {
   "cell_type": "code",
   "execution_count": 12,
   "metadata": {},
   "outputs": [],
   "source": [
    "# Download sequence record for genbank id KT220438 (HA from influenza A)\n",
    "handle = Entrez.efetch(db=\"nucleotide\", id=\"KT220438\", rettype=\"gb\", retmode=\"xml\")\n",
    "parsed = Entrez.parse(handle)\n",
    "record = list(parsed)[0] # Convert the parsed contents into a list and take element 0.\n",
    "handle.close()"
   ]
  },
  {
   "cell_type": "markdown",
   "metadata": {},
   "source": [
    "Then:\n",
    "\n",
    "(a) Print out the value for the key `GBSeq_definition`.\n",
    "\n",
    "(b) Find the `CDS` feature and print out all its qualifiers. Note that qualifiers are provided under the keyword `GBFeature_quals`."
   ]
  },
  {
   "cell_type": "code",
   "execution_count": 13,
   "metadata": {},
   "outputs": [],
   "source": [
    "# Problem 1a\n",
    "\n",
    "# Your code goes here."
   ]
  },
  {
   "cell_type": "code",
   "execution_count": 14,
   "metadata": {},
   "outputs": [],
   "source": [
    "# Problem 1b\n",
    "\n",
    "# Your code goes here."
   ]
  },
  {
   "cell_type": "markdown",
   "metadata": {},
   "source": [
    "**Problem 2:**\n",
    "\n",
    "(a) Use an Entrez esearch query of the pubmed database to find out how many publications \"Spielman SJ\" wrote in 2015.\n",
    "\n",
    "(b) From the results of part (a), compile a combined list of all the co-authors of \"Spielman SJ\" in 2015."
   ]
  },
  {
   "cell_type": "code",
   "execution_count": 15,
   "metadata": {},
   "outputs": [],
   "source": [
    "# Problem 2a\n",
    "\n",
    "# Your code goes here."
   ]
  },
  {
   "cell_type": "code",
   "execution_count": 16,
   "metadata": {},
   "outputs": [],
   "source": [
    "# Problem 2b\n",
    "\n",
    "# Your code goes here."
   ]
  },
  {
   "cell_type": "markdown",
   "metadata": {},
   "source": [
    "## If this was easy"
   ]
  },
  {
   "cell_type": "markdown",
   "metadata": {},
   "source": [
    "**Problem 3:**\n",
    "\n",
    "For larger searches, NCBI wants you to use the WebEnv method to download all your search results. This is explained in the Biopython tutorial [here.](http://biopython.org/DIST/docs/tutorial/Tutorial.html#sec:entrez-webenv) Rewrite the influenza search from the section \"Running search queries on through Entrez\" in such a way that it uses the WebEnv method. For this downloading method, it makes sense to write all the results into a file and then read the results back in."
   ]
  },
  {
   "cell_type": "code",
   "execution_count": 17,
   "metadata": {},
   "outputs": [],
   "source": [
    "# Problem 3\n",
    "\n",
    "# Your code goes here."
   ]
  }
 ],
 "metadata": {
  "kernelspec": {
   "display_name": "Python 3",
   "language": "python",
   "name": "python3"
  },
  "language_info": {
   "codemirror_mode": {
    "name": "ipython",
    "version": 3
   },
   "file_extension": ".py",
   "mimetype": "text/x-python",
   "name": "python",
   "nbconvert_exporter": "python",
   "pygments_lexer": "ipython3",
   "version": "3.4.3"
  }
 },
 "nbformat": 4,
 "nbformat_minor": 2
}
