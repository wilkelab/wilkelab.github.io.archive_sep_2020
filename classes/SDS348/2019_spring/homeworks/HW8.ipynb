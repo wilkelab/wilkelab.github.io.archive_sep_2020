{
 "cells": [
  {
   "cell_type": "markdown",
   "metadata": {},
   "source": [
    "# Homework 8 Solutions"
   ]
  },
  {
   "cell_type": "markdown",
   "metadata": {},
   "source": [
    "*Enter your name and EID here*\n",
    "\n",
    "**This homework is due on April 9, 2019 at 4:00pm. Please submit as a PDF file on Canvas. Before submission, please re-run all cells by clicking \"Kernel\" and selecting \"Restart & Run All.\"**\n"
   ]
  },
  {
   "cell_type": "markdown",
   "metadata": {},
   "source": [
    "**Problem 1 (5 points):** In bioinformatics, k-mers refer to all the possible subsequences (of length k) from a read obtained through DNA sequencing. For example, if the DNA sequencing read is \"ATCATCATG\", then the 3-mers in that read include \"ATC\" (which occurs twice), \"TCA\" (which occurs twice), \"CAT\" (occurs twice), and \"ATG\" (occurs once). You can read more about k-mers on [Wikipedia](https://en.wikipedia.org/wiki/K-mer).\n",
    "\n",
    "a) Write a function that takes a string of nucleotides as input and returns a **dictionary** with all 2-mers present in that string, and the number of times that each 2-mer occurs. Then use your function to find the 2-mers in the DNA sequence `my_seq` defined below.\n",
    "\n",
    "The output of your function should be a dictionary that is structured like this (although it will have several more entries):\n",
    "\n",
    "`{\"AT\": 2, \"TC\": 2, \"CA\": 1}`\n",
    "\n",
    "where each key is a 2-mer itself (e.g., \"AT\") and each value is the number of times that 2-mer occurs.\n",
    "\n",
    "b) Come up with a short DNA sequence and use it to verify manually that your function generates the correct result. Explain your reasoning in 2-3 sentences."
   ]
  },
  {
   "cell_type": "code",
   "execution_count": 5,
   "metadata": {},
   "outputs": [
    {
     "name": "stdout",
     "output_type": "stream",
     "text": [
      "{'CG': 3, 'CA': 6, 'AT': 6, 'AG': 3, 'TA': 1, 'CT': 7, 'GT': 1, 'TC': 9, 'CC': 5, 'GG': 6, 'TG': 4, 'AC': 4, 'AA': 3, 'GA': 6, 'GC': 2, 'TT': 3}\n",
      "{'AT': 2, 'TC': 1, 'CA': 1}\n"
     ]
    }
   ],
   "source": [
    "# Find all 2-mers in this sequences\n",
    "my_seq = \"CCTCTCCCTTATCGTCAATCTTCTCGAGGATTGGGGACCCTGCGCTGAACATGGAGAACATCACATCAGG\"\n",
    "# test case\n",
    "test_seq = \"ATCAT\"\n",
    "\n",
    "def find_4mer(seq):\n",
    "    # Create an empty dictionary to hold 2-mers\n",
    "    out_dict = {}\n",
    "    # Loop over every position in the sequence except for the last 1\n",
    "    for i in range(len(seq) - 1):\n",
    "        # Check if 2-mer is already in the output dictionary\n",
    "        if seq[i:i+2] in out_dict:\n",
    "            out_dict[seq[i:i+2]] += 1\n",
    "        else:\n",
    "            out_dict[seq[i:i+2]] = 1\n",
    "    return out_dict\n",
    "\n",
    "print(find_4mer(my_seq))\n",
    "print(find_4mer(test_seq))"
   ]
  },
  {
   "cell_type": "markdown",
   "metadata": {},
   "source": [
    "By looking at the sequence \"ATCAT\", we can see that \"AT\" occurs twice, \"TC\" occurs once, and \"CA\" occurs once. Our function reproduces these counts. "
   ]
  },
  {
   "cell_type": "markdown",
   "metadata": {},
   "source": [
    "**Problem 2 (5 points):** DNA sequences are typically stored in a format called FASTA (pronounced fast-ay). A single FASTA file may contain many different sequences. For example, you may have a FASTA file for a mouse, and each mouse gene sequence is stored as a separate sequence in that FASTA file. All sequences in a FASTA file begin on a new line with a greater-than symbol \"`>`\" (without quotes). \n",
    "\n",
    "Write a function that takes the *name* of a FASTA file as input, opens that file, counts the number of sequences in the file (by counting the number of lines in the file that start with a “>” symbol), and returns the count. Download the file \"[hepatitis_b_genome.fasta](http://wilkelab.org/classes/SDS348/2019_spring/homeworks/hepatitis_b_genome.fasta)\" to your computer and use your function to count the number of sequences in the file."
   ]
  },
  {
   "cell_type": "code",
   "execution_count": 2,
   "metadata": {},
   "outputs": [
    {
     "name": "stdout",
     "output_type": "stream",
     "text": [
      "7\n"
     ]
    }
   ],
   "source": [
    "def count_seqs(fasta):\n",
    "    # Set counter to 0\n",
    "    seq_count = 0\n",
    "    # Open the fasta file\n",
    "    # We use 'r' here because we only want to read the contents of the file, not modify the file\n",
    "    with open(fasta, 'r') as file:\n",
    "        # Loop over each line in the file\n",
    "        for line in file:\n",
    "            # If the first character of the line is '>', add one to the counter\n",
    "            if line[0] == '>':\n",
    "                seq_count += 1\n",
    "    return seq_count\n",
    "\n",
    "print(count_seqs(\"hepatitis_b_genome.fasta\"))"
   ]
  },
  {
   "cell_type": "code",
   "execution_count": null,
   "metadata": {},
   "outputs": [],
   "source": []
  }
 ],
 "metadata": {
  "kernelspec": {
   "display_name": "Python 3",
   "language": "python",
   "name": "python3"
  },
  "language_info": {
   "codemirror_mode": {
    "name": "ipython",
    "version": 3
   },
   "file_extension": ".py",
   "mimetype": "text/x-python",
   "name": "python",
   "nbconvert_exporter": "python",
   "pygments_lexer": "ipython3",
   "version": "3.4.3"
  }
 },
 "nbformat": 4,
 "nbformat_minor": 1
}
