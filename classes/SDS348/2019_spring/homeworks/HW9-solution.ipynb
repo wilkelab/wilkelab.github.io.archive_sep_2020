{
 "cells": [
  {
   "cell_type": "markdown",
   "metadata": {},
   "source": [
    "# Homework 9 Solutions"
   ]
  },
  {
   "cell_type": "markdown",
   "metadata": {},
   "source": [
    "*Enter your name and EID here*\n",
    "\n",
    "**This homework is due on April 16, 2019 at 4:00pm. Please submit as a PDF file on Canvas. Before submission, please re-run all cells by clicking \"Kernel\" and selecting \"Restart & Run All.\"**\n"
   ]
  },
  {
   "cell_type": "markdown",
   "metadata": {},
   "source": [
    "**Problem 1 (2 points):** Using Biopython and the Pubmed database, calculate the average number of papers per year that Dr. Wilke has published from 2015-2019 (inclusive, so that's 5 years total). \n",
    "\n",
    "**Hints**: Dr. Wilke will always appear as \"Wilke CO\" in the Pubmed database. Also, make sure to set the `retmax` argument to at least `50` in `Entrez.esearch()` so that you retrieve all of the papers. "
   ]
  },
  {
   "cell_type": "code",
   "execution_count": 1,
   "metadata": {
    "scrolled": true
   },
   "outputs": [
    {
     "name": "stdout",
     "output_type": "stream",
     "text": [
      "8.8\n"
     ]
    }
   ],
   "source": [
    "# You will need Entrez and Medline to solve this problem\n",
    "from Bio import Entrez, Medline\n",
    "\n",
    "Entrez.email = \"dariya.k.sydykova@gmail.com\"\n",
    "\n",
    "handle = Entrez.esearch(db=\"pubmed\",  # database to search\n",
    "                        term=\"Wilke CO[Author] AND 2015[Date - Publication]:2019[Date - Publication]\",  # search term\n",
    "                        retmax=50 # Maximum number of results to return\n",
    "                        )\n",
    "record = Entrez.read(handle)\n",
    "handle.close()\n",
    "\n",
    "# search returns PubMed IDs (pmids)\n",
    "pmid_list = record[\"IdList\"]\n",
    "\n",
    "# Count the average number of items in pmid_list\n",
    "average = len(pmid_list)/5\n",
    "\n",
    "print(average)"
   ]
  },
  {
   "cell_type": "markdown",
   "metadata": {},
   "source": [
    "**Problem 2 (4 points):** From the years 2015-2019 (inclusive), how many different co-authors did Dr. Wilke publish with and how many times did Dr. Wilke publish a paper with each co-author? Print out each co-author and the number of times Dr. Wilke published a paper with that co-author. Make sure you don't print the same co-author's name twice.\n",
    "\n",
    "**Hint**: In class 21, we parsed the results of a literature search with `Medline.parse()`. This allows us to look at the references we found and to retrieve different parts of the reference with a key. For example, to retrieve the abstract, we would write `record['AB']`. You can find a list of possible keys [here](https://www.nlm.nih.gov/bsd/mms/medlineelements.html)."
   ]
  },
  {
   "cell_type": "code",
   "execution_count": 2,
   "metadata": {},
   "outputs": [
    {
     "name": "stdout",
     "output_type": "stream",
     "text": [
      "Dr. Wilke's co-authors are:\n",
      "  Johnson MM: 2x\n",
      "  Houser JR: 2x\n",
      "  Barclay W: 1x\n",
      "  Georgiou G: 1x\n",
      "  Lloyd-Smith JO: 1x\n",
      "  Kasson PM: 1x\n",
      "  Lungu OI: 1x\n",
      "  Knauf GA: 1x\n",
      "  Krug RM: 1x\n",
      "  Arnold JJ: 1x\n",
      "  Herfst S: 1x\n",
      "  Kerr SA: 1x\n",
      "  B Kc D: 1x\n",
      "  Russell CA: 1x\n",
      "  Lambowitz AM: 1x\n",
      "  Jack BR: 6x\n",
      "  Cameron CE: 1x\n",
      "  Lenoir WF: 1x\n",
      "  Sawyer SL: 2x\n",
      "  Needham BD: 1x\n",
      "  Jewett MC: 1x\n",
      "  Kachroo AH: 3x\n",
      "  Carroll SM: 2x\n",
      "  Belser JA: 1x\n",
      "  Cunningham AL: 1x\n",
      "  Papoulas O: 1x\n",
      "  Ho KS: 1x\n",
      "  Laurent JM: 3x\n",
      "  Wu DC: 1x\n",
      "  Barrick JE: 3x\n",
      "  Cobey S: 1x\n",
      "  Dasgupta A: 2x\n",
      "  Derryberry DZ: 1x\n",
      "  Smith BL: 5x\n",
      "  Demogines A: 1x\n",
      "  Marcotte EM: 6x\n",
      "  Chapman SD: 1x\n",
      "  Paff ML: 2x\n",
      "  Handel A: 1x\n",
      "  Huang TJ: 1x\n",
      "  Adami C: 1x\n",
      "  Jackson EL: 5x\n",
      "  Yellman CM: 1x\n",
      "  McWhite CD: 1x\n",
      "  Woodman A: 1x\n",
      "  Jiang Q: 1x\n",
      "  Bull JJ: 2x\n",
      "  Person MD: 1x\n",
      "  Raman R: 1x\n",
      "  Ellington AD: 1x\n",
      "  Tucker AT: 1x\n",
      "  Sridhara V: 3x\n",
      "  Spielman SJ: 10x\n",
      "  Riley S: 1x\n",
      "  Maurer-Stroh S: 1x\n",
      "  Vander Wood D: 1x\n",
      "  Shahmoradi A: 2x\n",
      "  Liu W: 1x\n",
      "  Yao J: 1x\n",
      "  Bedford T: 2x\n",
      "  Murcia PR: 1x\n",
      "  Wan S: 1x\n",
      "  Barnhart CS: 1x\n",
      "  Mao Z: 1x\n",
      "  Chen G: 1x\n",
      "  Davies BW: 1x\n",
      "  Barnhart C: 1x\n",
      "  Marx CJ: 2x\n",
      "  Caglar MU: 4x\n",
      "  Kumar K: 1x\n",
      "  Brown CW: 1x\n",
      "  Li S: 1x\n",
      "  Russell CJ: 1x\n",
      "  Boutz DR: 4x\n",
      "  Amaral LAN: 1x\n",
      "  Leonard SP: 1x\n",
      "  Friedrich TC: 1x\n",
      "  Beauchemin CA: 1x\n",
      "  Teufel AI: 6x\n",
      "  Trent MS: 2x\n",
      "  Hockenberry AJ: 2x\n",
      "  Liberles DA: 1x\n",
      "  Sydykova DK: 4x\n",
      "  Roche B: 1x\n",
      "  Cowperthwaite MC: 1x\n",
      "  Lipsitch M: 1x\n",
      "  Ritchie AM: 1x\n",
      "  Guo F: 1x\n",
      "  Meyer AG: 7x\n",
      "  DuBois CD: 1x\n",
      "  Echave J: 4x\n",
      "  Michener JK: 1x\n"
     ]
    }
   ],
   "source": [
    "# Your code goes here\n",
    "handle = Entrez.efetch(db=\"pubmed\", id=pmid_list, rettype=\"medline\", retmode=\"text\")\n",
    "records = Medline.parse(handle)\n",
    "\n",
    "# Create an empty dictionary to keep author names and counts\n",
    "author_dict = {}\n",
    "for record in records:\n",
    "     \n",
    "    # retrieve author names \n",
    "    author_lst = record[\"AU\"]\n",
    "    \n",
    "    for author in author_lst:\n",
    "        \n",
    "        # skip Dr. Wilke's name\n",
    "        if author == \"Wilke CO\":\n",
    "            continue\n",
    "        \n",
    "        # check if author is in the dictionary\n",
    "        if author in author_dict:\n",
    "            author_dict[author] += 1 # increment the count of author by 1\n",
    "        else:\n",
    "            author_dict[author] = 1 # set the count of author to 1\n",
    "\n",
    "# Close the efetch handle    \n",
    "handle.close()\n",
    "\n",
    "# print final journal name and count\n",
    "print(\"Dr. Wilke's co-authors are:\")\n",
    "for author in author_dict:\n",
    "    print(\" \", author + \":\", str(author_dict[author]) + \"x\")"
   ]
  },
  {
   "cell_type": "markdown",
   "metadata": {},
   "source": [
    "**Problem 3 (4 points):** From 2015-2019 (inclusive), how many of Dr. Wilke's papers contain the terms \"evolution\" or \"evolutionary\" in the abstract? Use python and **regular expressions** to find an answer.\n",
    "\n",
    "**Hint:** In a regular expression, you can match the same word with slightly different endings using the \"`|`\" (or) operator. For example, the regex \"bacteri(a|um)\" would match both \"bacteria\" and \"bacterium\"."
   ]
  },
  {
   "cell_type": "code",
   "execution_count": 3,
   "metadata": {},
   "outputs": [
    {
     "name": "stdout",
     "output_type": "stream",
     "text": [
      "27 of the abstracts contain \"evolution\" or \"evolutionary\"\n"
     ]
    }
   ],
   "source": [
    "# You'll need the module re for regular expressions\n",
    "import re\n",
    "\n",
    "handle = Entrez.efetch(db=\"pubmed\", id=pmid_list, rettype=\"medline\", retmode=\"text\")\n",
    "records = Medline.parse(handle)\n",
    "\n",
    "# Start a counter\n",
    "ab_count = 0\n",
    "\n",
    "for record in records:\n",
    "    \n",
    "    # check if a record has an abstract\n",
    "    if \"AB\" in record:\n",
    "        \n",
    "        # Check for the term \"evolution\" or \"evolutionary\" in the abstract \n",
    "        match = re.search(r\"evolution(|ary)\", record[\"AB\"].lower())\n",
    "        \n",
    "        # if \"evolution\" or \"evolutionary\" is in the abstract, increment the count by 1 \n",
    "        if match: \n",
    "            ab_count += 1\n",
    "\n",
    "# Close the efetch handle    \n",
    "handle.close()\n",
    "\n",
    "print(ab_count, 'of the abstracts contain \"evolution\" or \"evolutionary\"')\n"
   ]
  },
  {
   "cell_type": "code",
   "execution_count": null,
   "metadata": {},
   "outputs": [],
   "source": []
  }
 ],
 "metadata": {
  "kernelspec": {
   "display_name": "Python 3",
   "language": "python",
   "name": "python3"
  },
  "language_info": {
   "codemirror_mode": {
    "name": "ipython",
    "version": 3
   },
   "file_extension": ".py",
   "mimetype": "text/x-python",
   "name": "python",
   "nbconvert_exporter": "python",
   "pygments_lexer": "ipython3",
   "version": "3.4.3"
  }
 },
 "nbformat": 4,
 "nbformat_minor": 1
}
