{
 "cells": [
  {
   "cell_type": "markdown",
   "metadata": {},
   "source": [
    "# Homework 11"
   ]
  },
  {
   "cell_type": "markdown",
   "metadata": {},
   "source": [
    "*Enter your name and EID here*\n",
    "\n",
    "**Problem 2 of this homework is due on April 30, 2019 at 4:00pm. Please submit Part 2 as a PDF file on Canvas. Before submission, please re-run all cells by clicking \"Kernel\" and selecting \"Restart & Run All.\"**\n",
    "\n",
    "\n",
    "**Problem 1 is due, on paper, within the first ten minutes of lab on May 1, 2019. Problem 1 should not contain any code!**"
   ]
  },
  {
   "cell_type": "markdown",
   "metadata": {},
   "source": [
    "**Problem 1 (5 points):** Using **Smith-Waterman** (not Needleman-Wunsch!), align the following two sequences by hand:\n",
    "\n",
    "```\n",
    "ACCAG\n",
    "ACAAGT\n",
    "```\n",
    "\n",
    "Draw out a score matrix, **with the back-tracing arrows**, using the following scoring function:\n",
    "\n",
    "```\n",
    "Match: +2\n",
    "Mismatch: -1\n",
    "Gap: -2\n",
    "```\n",
    "\n",
    "After you have filled out your score matrix, be sure to **write out the final alignment or alignments**."
   ]
  },
  {
   "cell_type": "markdown",
   "metadata": {},
   "source": [
    "**Problem 2 (5 points):** Modify the code from the Lab 13 Worksheet, Part 1 so that it runs the **Smith-Waterman** algorithm. Several helper functions are provided for you below. Your function final should produce the matrix of scores only. You **do not** need to do back-tracing. Use the same scoring function as in Problem 1. \n",
    "\n",
    "Run the sequences from Problem 1 through your function and print the output using `print_matrix()`. "
   ]
  },
  {
   "cell_type": "code",
   "execution_count": 1,
   "metadata": {},
   "outputs": [
    {
     "name": "stdout",
     "output_type": "stream",
     "text": [
      "[0\t0\t0\t0\t0\t0]\n",
      "\n",
      "[0\t0\t0\t0\t0\t0]\n",
      "\n",
      "[0\t0\t0\t0\t0\t0]\n",
      "\n",
      "[0\t0\t0\t0\t0\t0]\n",
      "\n",
      "[0\t0\t0\t0\t0\t0]\n",
      "\n",
      "[0\t0\t0\t0\t0\t0]\n",
      "\n",
      "[0\t0\t0\t0\t0\t0]\n",
      "\n"
     ]
    }
   ],
   "source": [
    "# Use these values to calculate scores\n",
    "match_award = 2\n",
    "mismatch_penalty = -1\n",
    "gap_penalty = -2\n",
    "\n",
    "# Make a score matrix with these two sequences\n",
    "seq1 = \"ACCAG\"\n",
    "seq2 = \"ACAAGT\"\n",
    "\n",
    "# Here is a helper function to print out matrices\n",
    "def print_matrix(mat):\n",
    "    # Loop over all rows\n",
    "    for i in range(0, len(mat)):\n",
    "        print(\"[\", end = \"\")\n",
    "        # Loop over each column in row i\n",
    "        for j in range(0, len(mat[i])):\n",
    "            # Print out the value in row i, column j\n",
    "            print(mat[i][j], end = \"\")\n",
    "            # Only add a tab if we're not in the last column\n",
    "            if j != len(mat[i]) - 1:\n",
    "                print(\"\\t\", end = \"\")\n",
    "        print(\"]\\n\")\n",
    "\n",
    "# A function for making a matrix of zeroes\n",
    "def zeros(rows, cols):\n",
    "    # Define an empty list\n",
    "    retval = []\n",
    "    # Set up the rows of the matrix\n",
    "    for x in range(rows):\n",
    "        # For each row, add an empty list\n",
    "        retval.append([])\n",
    "        # Set up the columns in each row\n",
    "        for y in range(cols):\n",
    "            # Add a zero to each column in each row\n",
    "            retval[-1].append(0)\n",
    "    # Return the matrix of zeros\n",
    "    return retval\n",
    "\n",
    "# A function for determining the score between any two bases in alignment\n",
    "def match_score(alpha, beta):\n",
    "    if alpha == beta:\n",
    "        return match_award\n",
    "    elif alpha == '-' or beta == '-':\n",
    "        return gap_penalty\n",
    "    else:\n",
    "        return mismatch_penalty\n",
    "\n",
    "# The function that actually fills out a matrix of scores\n",
    "def smith_waterman(seq1, seq2):\n",
    "    \n",
    "    # length of two sequences\n",
    "    n = len(seq1)\n",
    "    m = len(seq2)  \n",
    "    \n",
    "    # Generate matrix of zeros to store scores\n",
    "    score = zeros(m+1, n+1)\n",
    "    \n",
    "    ########################\n",
    "    # Your code goes here\n",
    "    ########################\n",
    "    \n",
    "    return score\n",
    "\n",
    "print_matrix(smith_waterman(seq1, seq2))"
   ]
  },
  {
   "cell_type": "code",
   "execution_count": null,
   "metadata": {},
   "outputs": [],
   "source": []
  }
 ],
 "metadata": {
  "kernelspec": {
   "display_name": "Python 3",
   "language": "python",
   "name": "python3"
  },
  "language_info": {
   "codemirror_mode": {
    "name": "ipython",
    "version": 3
   },
   "file_extension": ".py",
   "mimetype": "text/x-python",
   "name": "python",
   "nbconvert_exporter": "python",
   "pygments_lexer": "ipython3",
   "version": "3.4.3"
  }
 },
 "nbformat": 4,
 "nbformat_minor": 1
}
