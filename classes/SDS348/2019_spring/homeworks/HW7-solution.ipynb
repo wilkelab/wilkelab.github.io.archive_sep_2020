{
 "cells": [
  {
   "cell_type": "markdown",
   "metadata": {},
   "source": [
    "# Homework 7 Solutions"
   ]
  },
  {
   "cell_type": "markdown",
   "metadata": {},
   "source": [
    "*Enter your name and EID here*\n",
    "\n",
    "**This homework is due on Mar. 20, 2018 at 7:00pm. Please submit as a PDF file on Canvas. Before submission, please re-run all cells by clicking \"Kernel\" and selecting \"Restart & Run All.\"**\n",
    "\n",
    "**Problem 1 (5 pts)**: Create a list with the names of your favorite animals. Your list should contain at least 5 animals. Then, complete the following steps using python. *Each step should be completed in a different cell and your results should be printed with `print()`.*\n",
    "\n",
    "1. Sort the list so that the names appear in alphabetical order.\n",
    "2. How many items are in the list? *Hint:* use the function `len()`.\n",
    "3. Remove an animal from your list and print the length of the list again.\n",
    "4. Add the animal \"ostrich\" to your list.\n",
    "5. Make a new list in which every animal name in your original list is repeated 3 times."
   ]
  },
  {
   "cell_type": "code",
   "execution_count": 1,
   "metadata": {
    "collapsed": true
   },
   "outputs": [],
   "source": [
    "animals = ['zebra', 'polar bear', 'penguin', 'parrot', 'giraffe']"
   ]
  },
  {
   "cell_type": "code",
   "execution_count": 2,
   "metadata": {
    "collapsed": false
   },
   "outputs": [
    {
     "name": "stdout",
     "output_type": "stream",
     "text": [
      "['zebra', 'polar bear', 'penguin', 'parrot', 'giraffe']\n",
      "['giraffe', 'parrot', 'penguin', 'polar bear', 'zebra']\n"
     ]
    }
   ],
   "source": [
    "print(animals)\n",
    "animals.sort()\n",
    "print(animals)"
   ]
  },
  {
   "cell_type": "code",
   "execution_count": 3,
   "metadata": {
    "collapsed": false
   },
   "outputs": [
    {
     "name": "stdout",
     "output_type": "stream",
     "text": [
      "5\n"
     ]
    }
   ],
   "source": [
    "print(len(animals))"
   ]
  },
  {
   "cell_type": "code",
   "execution_count": 4,
   "metadata": {
    "collapsed": false
   },
   "outputs": [
    {
     "name": "stdout",
     "output_type": "stream",
     "text": [
      "4\n"
     ]
    }
   ],
   "source": [
    "animals.remove('parrot')\n",
    "print(len(animals))"
   ]
  },
  {
   "cell_type": "code",
   "execution_count": 5,
   "metadata": {
    "collapsed": false
   },
   "outputs": [
    {
     "name": "stdout",
     "output_type": "stream",
     "text": [
      "['giraffe', 'penguin', 'polar bear', 'zebra', 'ostrich']\n"
     ]
    }
   ],
   "source": [
    "animals.append('ostrich')\n",
    "print(animals)"
   ]
  },
  {
   "cell_type": "code",
   "execution_count": 6,
   "metadata": {
    "collapsed": false
   },
   "outputs": [
    {
     "name": "stdout",
     "output_type": "stream",
     "text": [
      "['giraffe', 'penguin', 'polar bear', 'zebra', 'ostrich', 'giraffe', 'penguin', 'polar bear', 'zebra', 'ostrich', 'giraffe', 'penguin', 'polar bear', 'zebra', 'ostrich']\n"
     ]
    }
   ],
   "source": [
    "new_animals = animals * 3\n",
    "print(new_animals)"
   ]
  },
  {
   "cell_type": "markdown",
   "metadata": {},
   "source": [
    "**Problem 2 (5 pts)**: Now imagine that you have gone to the zoo to see your favorite animals listed in Problem 1. Create a dictionary that contains the names of the animals as keys and counts for each animal as the values. (For example, if there are 3 giraffes at the zoo, the key would be \"giraffe\" and the value would be 3.) The counts should just be made-up counts. Then, complete the following steps using python. *Each step should be completed in a different cell and your results should be printed with `print()`.*\n",
    "\n",
    "1. Write code that counts how many animals total you observed. (In other words, add up all of the animal counts.)\n",
    "2. Add an animal \"monkey\" to your dictionary and give it a count of 5.\n",
    "3. Print out a list of the *keys* and a list of the *values* in your dictionary (i.e., the animal names and the counts).\n",
    "4. Change the count for one of the animals in your dictionary (i.e., monkey's count 5 to 8).\n",
    "5. Remove a key-value pair from your dictionary."
   ]
  },
  {
   "cell_type": "code",
   "execution_count": 7,
   "metadata": {
    "collapsed": false
   },
   "outputs": [
    {
     "name": "stdout",
     "output_type": "stream",
     "text": [
      "{'zebra': 5, 'polar bear': 2, 'penguin': 7, 'parrot': 1, 'giraffe': 3}\n"
     ]
    }
   ],
   "source": [
    "animal_dict = {'zebra': 5, 'polar bear': 2, 'penguin': 7, 'parrot': 1, 'giraffe': 3}\n",
    "print(animal_dict)"
   ]
  },
  {
   "cell_type": "code",
   "execution_count": 8,
   "metadata": {
    "collapsed": false
   },
   "outputs": [
    {
     "name": "stdout",
     "output_type": "stream",
     "text": [
      "18\n"
     ]
    }
   ],
   "source": [
    "total = 0\n",
    "for key in animal_dict.keys():\n",
    "    total += animal_dict[key]\n",
    "print(total)"
   ]
  },
  {
   "cell_type": "code",
   "execution_count": 9,
   "metadata": {
    "collapsed": false
   },
   "outputs": [
    {
     "name": "stdout",
     "output_type": "stream",
     "text": [
      "{'zebra': 5, 'polar bear': 2, 'penguin': 7, 'parrot': 1, 'giraffe': 3, 'monkey': 5}\n"
     ]
    }
   ],
   "source": [
    "animal_dict['monkey'] = 5\n",
    "print(animal_dict)"
   ]
  },
  {
   "cell_type": "code",
   "execution_count": 10,
   "metadata": {
    "collapsed": false
   },
   "outputs": [
    {
     "name": "stdout",
     "output_type": "stream",
     "text": [
      "dict_keys(['zebra', 'polar bear', 'penguin', 'parrot', 'giraffe', 'monkey'])\n",
      "dict_values([5, 2, 7, 1, 3, 5])\n"
     ]
    }
   ],
   "source": [
    "print(animal_dict.keys())\n",
    "print(animal_dict.values())"
   ]
  },
  {
   "cell_type": "code",
   "execution_count": 11,
   "metadata": {
    "collapsed": false
   },
   "outputs": [
    {
     "name": "stdout",
     "output_type": "stream",
     "text": [
      "{'zebra': 5, 'polar bear': 2, 'penguin': 7, 'parrot': 1, 'giraffe': 3, 'monkey': 8}\n"
     ]
    }
   ],
   "source": [
    "animal_dict['monkey'] = 8\n",
    "print(animal_dict)"
   ]
  },
  {
   "cell_type": "code",
   "execution_count": 12,
   "metadata": {
    "collapsed": false
   },
   "outputs": [
    {
     "name": "stdout",
     "output_type": "stream",
     "text": [
      "{'zebra': 5, 'polar bear': 2, 'penguin': 7, 'parrot': 1, 'monkey': 8}\n"
     ]
    }
   ],
   "source": [
    "del animal_dict['giraffe']\n",
    "print(animal_dict)"
   ]
  }
 ],
 "metadata": {
  "kernelspec": {
   "display_name": "Python 3",
   "language": "python",
   "name": "python3"
  },
  "language_info": {
   "codemirror_mode": {
    "name": "ipython",
    "version": 3
   },
   "file_extension": ".py",
   "mimetype": "text/x-python",
   "name": "python",
   "nbconvert_exporter": "python",
   "pygments_lexer": "ipython3",
   "version": "3.6.0"
  }
 },
 "nbformat": 4,
 "nbformat_minor": 0
}
