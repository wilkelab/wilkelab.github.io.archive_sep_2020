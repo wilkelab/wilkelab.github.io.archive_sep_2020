{
 "cells": [
  {
   "cell_type": "markdown",
   "metadata": {},
   "source": [
    "# Project 3\n",
    "\n",
    "*Enter your name and EID here*\n",
    "\n",
    "\n",
    "## Instructions\n",
    "\n",
    "After completing this Jupyter notebook, please convert it to pdf and submit both the pdf and the original notebook on Canvas **no later than 4:00 pm on May 9, 2019**. The two documents will be graded jointly, so they must be consistent (as in, don't change the Jupyter notebook without also updating the converted pdf!).\n",
    "\n",
    "All results presented **must** have corresponding code. Any answers/results given without the corresponding python code that generated the result will be considered absent. All code reported in your final project document should work properly.\n",
    "\n",
    "Before submitting the Jupyter notebook part, please re-run all cells by clicking \"Kernel\" and selecting \"Restart & Run All.\"\n",
    "\n",
    "The project consists of two problems. For both problems, please follow these guidelines:\n",
    "\n",
    "- Final output needs to be nicely formatted and human readable. For example, if your result is a count, don't just print the value of the count, print \"The count is: ...\".\n",
    "- For each problem, limit your total code to less than 100 lines.\n",
    "- Write comments and explanatory text, so we understand what you are doing.\n",
    "- Do not print out large datasets, such as an entire genome, or a list of all genes in a genome, etc.\n",
    "- Verify that nothing of importance (code, comments, other text) is cut off in your final pdf. \n"
   ]
  },
  {
   "cell_type": "markdown",
   "metadata": {},
   "source": [
    "## Problem 1\n",
    "\n",
    "The bacteria called *Salmonella enterica* Typhimurium are pathogenic bacteria closely related to *E. coli*. They cause typhoid fever in humans. There are many different *S. enterica* Typhimurium strains, and here we will compare two such strains, LT2 and CT18. LT2 is the canonical strain that is most commonly used as a reference. CT18 is another widely used reference.\n",
    "\n",
    "Before we can work with these two genomes, we need to download them. Note: Running the next cell may take a few minutes."
   ]
  },
  {
   "cell_type": "code",
   "execution_count": 1,
   "metadata": {
    "scrolled": true
   },
   "outputs": [
    {
     "name": "stdout",
     "output_type": "stream",
     "text": [
      "Downloaded S. enterica LT2\n",
      "Downloaded S. enterica CT18\n"
     ]
    }
   ],
   "source": [
    "from Bio import Entrez\n",
    "Entrez.email = ... # put your email here\n",
    "\n",
    "# Download S. enterica strain LT2 and write into file \"S_enterica_LT2.gb\":\n",
    "download_handle = Entrez.efetch(db=\"nucleotide\", id=\"NC_003197\", rettype=\"gbwithparts\", retmode=\"text\")\n",
    "out_handle = open(\"S_enterica_LT2.gb\", \"w\")\n",
    "out_handle.write(download_handle.read())\n",
    "download_handle.close()\n",
    "out_handle.close()\n",
    "print(\"Downloaded S. enterica LT2\")\n",
    "\n",
    "# Download S. enterica strain CT18 and write into file \"S_enterica_CT18.gb\":\n",
    "download_handle = Entrez.efetch(db=\"nucleotide\", id=\"NC_003198\", rettype=\"gbwithparts\", retmode=\"text\")\n",
    "out_handle = open(\"S_enterica_CT18.gb\", \"w\")\n",
    "out_handle.write(download_handle.read())\n",
    "download_handle.close()\n",
    "out_handle.close()\n",
    "print(\"Downloaded S. enterica CT18\")"
   ]
  },
  {
   "cell_type": "markdown",
   "metadata": {},
   "source": [
    "**Problem 1a (30 pts):** How many named protein-coding genes are in *S. enterica* LT2? And how many of these genes have synonyms in *S. enterica* CT18?\n",
    "\n",
    "Hint: Gene names have been defined for the LT2 strain. You can find these names in the \"gene\" qualifier of CDS features. When equivalent genes exist in CT18, they are listed under the \"gene_synonym\" qualifer of the CDS features. As an example, manually open the two genome files and look for the \"thrL\" gene in each genome."
   ]
  },
  {
   "cell_type": "markdown",
   "metadata": {},
   "source": [
    "*Provide a brief introduction (1 paragraph max) explaining how you are going to answer the questions.*"
   ]
  },
  {
   "cell_type": "code",
   "execution_count": 2,
   "metadata": {},
   "outputs": [],
   "source": [
    "from Bio import SeqIO\n",
    "\n",
    "# read in the LT2 genome\n",
    "in_handle = open(\"S_enterica_LT2.gb\", \"r\")\n",
    "record_LT2 = SeqIO.read(in_handle, \"genbank\")\n",
    "in_handle.close()\n",
    "\n",
    "# read in the CT18 genome\n",
    "in_handle = open(\"S_enterica_CT18.gb\", \"r\")\n",
    "record_CT18 = SeqIO.read(in_handle, \"genbank\")\n",
    "in_handle.close()\n",
    "\n",
    "# your code goes here"
   ]
  },
  {
   "cell_type": "markdown",
   "metadata": {},
   "source": [
    "*Provide a brief conclusion (1 paragraph max) explaining what your code shows.*"
   ]
  },
  {
   "cell_type": "markdown",
   "metadata": {},
   "source": [
    "**Problem 1b (20 pts):** How many of the named genes in LT2 without a synonym in CT18 have their product listed as \"hypothetical protein\"?"
   ]
  },
  {
   "cell_type": "markdown",
   "metadata": {},
   "source": [
    "*Provide a brief introduction (1 paragraph max) explaining how you are going to answer the question.*"
   ]
  },
  {
   "cell_type": "code",
   "execution_count": 3,
   "metadata": {},
   "outputs": [],
   "source": [
    "# your code goes here"
   ]
  },
  {
   "cell_type": "markdown",
   "metadata": {},
   "source": [
    "*Provide a brief conclusion (1 paragraph max) explaining what your code shows.*"
   ]
  },
  {
   "cell_type": "markdown",
   "metadata": {},
   "source": [
    "## Problem 2\n",
    "\n",
    "**(50 pts)**\n",
    "\n",
    "Ask a question about the genomes from Problem 1 and then write python code that generates an answer. The question does not have to be conceptual, and it can be about only one of the two genomes or about the two genomes jointly.\n",
    "\n",
    "For full credit, the answer code must meet the following conditions:\n",
    "\n",
    "- contains at least one `for` loop\n",
    "- contains at least one `if` statement\n",
    "- uses at least one list or dictionary\n",
    "- uses at least one regular expression"
   ]
  },
  {
   "cell_type": "markdown",
   "metadata": {},
   "source": [
    "**Question:** *your question goes here*\n",
    "\n",
    "*Provide a brief introduction (1-2 paragraphs) explaining how you are going to answer the question.*"
   ]
  },
  {
   "cell_type": "code",
   "execution_count": 4,
   "metadata": {},
   "outputs": [],
   "source": [
    "# your code goes here"
   ]
  },
  {
   "cell_type": "markdown",
   "metadata": {},
   "source": [
    "*Provide a brief conclusion (1-2 paragraphs) explaining what you have learned about your question from your code.*"
   ]
  }
 ],
 "metadata": {
  "kernelspec": {
   "display_name": "Python 3",
   "language": "python",
   "name": "python3"
  },
  "language_info": {
   "codemirror_mode": {
    "name": "ipython",
    "version": 3
   },
   "file_extension": ".py",
   "mimetype": "text/x-python",
   "name": "python",
   "nbconvert_exporter": "python",
   "pygments_lexer": "ipython3",
   "version": "3.4.3"
  }
 },
 "nbformat": 4,
 "nbformat_minor": 2
}
