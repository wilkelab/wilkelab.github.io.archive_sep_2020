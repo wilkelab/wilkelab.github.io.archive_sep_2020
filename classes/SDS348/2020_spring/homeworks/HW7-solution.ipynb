{
 "cells": [
  {
   "cell_type": "markdown",
   "metadata": {},
   "source": [
    "# Homework 7 Solutions"
   ]
  },
  {
   "cell_type": "markdown",
   "metadata": {},
   "source": [
    "*Enter your name and EID here*\n",
    "\n",
    "**This homework is due on Mar. 30, 2020 at 12:00pm. Please submit as a PDF file on Canvas. Before submission, please re-run all cells by clicking \"Kernel\" and selecting \"Restart & Run All.\"**"
   ]
  },
  {
   "cell_type": "markdown",
   "metadata": {},
   "source": [
    "**Problem 1 (5 pts)**: Create a list with the names of your favorite foods. Your list should contain at least 5 different kinds of food. Then, complete the following steps using python. **Each step should be completed in a different cell and your results should be printed with `print()`.**\n",
    "\n",
    "1. Sort the list so that the names appear in alphabetical order. *Hint:* use the function `.sort()`.\n",
    "2. How many items are in the list? *Hint:* use the function `len()`.\n",
    "3. Remove a food from your list and print the length of the list again. *Hint:* use the function `.remove()`\n",
    "4. Add the food \"falafel\" to your list. *Hint:* use the function `.append()`\n",
    "5. Make a new list in which every food name in your original list is repeated 5 times."
   ]
  },
  {
   "cell_type": "code",
   "execution_count": 1,
   "metadata": {},
   "outputs": [
    {
     "name": "stdout",
     "output_type": "stream",
     "text": [
      "['tacos', 'sushi', 'pizza', 'shawarma', 'pho']\n"
     ]
    }
   ],
   "source": [
    "food = ['tacos', 'sushi', 'pizza', 'shawarma', 'pho']\n",
    "print(food)"
   ]
  },
  {
   "cell_type": "code",
   "execution_count": 2,
   "metadata": {},
   "outputs": [
    {
     "name": "stdout",
     "output_type": "stream",
     "text": [
      "['pho', 'pizza', 'shawarma', 'sushi', 'tacos']\n"
     ]
    }
   ],
   "source": [
    "food.sort()\n",
    "print(food)"
   ]
  },
  {
   "cell_type": "code",
   "execution_count": 3,
   "metadata": {},
   "outputs": [
    {
     "name": "stdout",
     "output_type": "stream",
     "text": [
      "5\n"
     ]
    }
   ],
   "source": [
    "print(len(food))"
   ]
  },
  {
   "cell_type": "code",
   "execution_count": 4,
   "metadata": {},
   "outputs": [
    {
     "name": "stdout",
     "output_type": "stream",
     "text": [
      "4\n"
     ]
    }
   ],
   "source": [
    "food.remove('shawarma')\n",
    "print(len(food))"
   ]
  },
  {
   "cell_type": "code",
   "execution_count": 5,
   "metadata": {},
   "outputs": [
    {
     "name": "stdout",
     "output_type": "stream",
     "text": [
      "['pho', 'pizza', 'sushi', 'tacos', 'falafel']\n"
     ]
    }
   ],
   "source": [
    "food.append('falafel')\n",
    "print(food)"
   ]
  },
  {
   "cell_type": "code",
   "execution_count": 6,
   "metadata": {},
   "outputs": [
    {
     "name": "stdout",
     "output_type": "stream",
     "text": [
      "['pho', 'pizza', 'sushi', 'tacos', 'falafel', 'pho', 'pizza', 'sushi', 'tacos', 'falafel', 'pho', 'pizza', 'sushi', 'tacos', 'falafel', 'pho', 'pizza', 'sushi', 'tacos', 'falafel', 'pho', 'pizza', 'sushi', 'tacos', 'falafel']\n"
     ]
    }
   ],
   "source": [
    "new_food = food * 5\n",
    "print(new_food)"
   ]
  },
  {
   "cell_type": "markdown",
   "metadata": {},
   "source": [
    "**Problem 2 (5 pts)**: Now imagine that you have spent a week eating only your favorite foods listed in Problem 1. Create a dictionary that contains the names of the food as keys & counts for each time you ate that food as values. For example, if you ate tacos 12 times, the key would be \"tacos\" and the value would be 12. The counts should just be made-up counts. Then, complete the following steps using python. **Each step should be completed in a different cell and your results should be printed with `print()`.**\n",
    "\n",
    "1. Write code that counts how many times you ate. (In other words, add up all of the food counts.) *Hint:* use a `for` loop.\n",
    "2. Add the food \"ramen\" to your dictionary and give it a count of 7.\n",
    "3. Print out a list of the *keys* and a list of the *values* in your dictionary (i.e., the food names and the counts). *Hint:* use the functions `.keys()` and `.values()`.\n",
    "4. Change the count for one of the foods in your dictionary (i.e., ramen's count from 7 to 10).\n",
    "5. Remove a key-value pair from your dictionary. *Hint:* Google \"python delete dictionary entry\" to find the answer."
   ]
  },
  {
   "cell_type": "code",
   "execution_count": 7,
   "metadata": {},
   "outputs": [
    {
     "name": "stdout",
     "output_type": "stream",
     "text": [
      "{'pizza': 5, 'pho': 2, 'tacos': 7, 'sushi': 1, 'falafel': 3}\n"
     ]
    }
   ],
   "source": [
    "food_dict = {'pizza': 5, 'pho': 2, 'tacos': 7, 'sushi': 1, 'falafel': 3}\n",
    "print(food_dict)"
   ]
  },
  {
   "cell_type": "code",
   "execution_count": 8,
   "metadata": {},
   "outputs": [
    {
     "name": "stdout",
     "output_type": "stream",
     "text": [
      "18\n"
     ]
    }
   ],
   "source": [
    "total = 0\n",
    "for key in food_dict.keys():\n",
    "    total += food_dict[key]\n",
    "print(total)"
   ]
  },
  {
   "cell_type": "code",
   "execution_count": 9,
   "metadata": {},
   "outputs": [
    {
     "name": "stdout",
     "output_type": "stream",
     "text": [
      "{'pizza': 5, 'pho': 2, 'tacos': 7, 'sushi': 1, 'falafel': 3, 'ramen': 7}\n"
     ]
    }
   ],
   "source": [
    "food_dict['ramen'] = 7\n",
    "print(food_dict)"
   ]
  },
  {
   "cell_type": "code",
   "execution_count": 10,
   "metadata": {},
   "outputs": [
    {
     "name": "stdout",
     "output_type": "stream",
     "text": [
      "dict_keys(['pizza', 'pho', 'tacos', 'sushi', 'falafel', 'ramen'])\n",
      "dict_values([5, 2, 7, 1, 3, 7])\n"
     ]
    }
   ],
   "source": [
    "print(food_dict.keys())\n",
    "print(food_dict.values())"
   ]
  },
  {
   "cell_type": "code",
   "execution_count": 11,
   "metadata": {},
   "outputs": [
    {
     "name": "stdout",
     "output_type": "stream",
     "text": [
      "{'pizza': 5, 'pho': 2, 'tacos': 7, 'sushi': 1, 'falafel': 3, 'ramen': 10}\n"
     ]
    }
   ],
   "source": [
    "food_dict['ramen'] = 10\n",
    "print(food_dict)"
   ]
  },
  {
   "cell_type": "code",
   "execution_count": 12,
   "metadata": {},
   "outputs": [
    {
     "name": "stdout",
     "output_type": "stream",
     "text": [
      "{'pizza': 5, 'tacos': 7, 'sushi': 1, 'falafel': 3, 'ramen': 10}\n"
     ]
    }
   ],
   "source": [
    "del food_dict['pho']\n",
    "print(food_dict)"
   ]
  }
 ],
 "metadata": {
  "kernelspec": {
   "display_name": "Python 3",
   "language": "python",
   "name": "python3"
  },
  "language_info": {
   "codemirror_mode": {
    "name": "ipython",
    "version": 3
   },
   "file_extension": ".py",
   "mimetype": "text/x-python",
   "name": "python",
   "nbconvert_exporter": "python",
   "pygments_lexer": "ipython3",
   "version": "3.6.9"
  }
 },
 "nbformat": 4,
 "nbformat_minor": 1
}
