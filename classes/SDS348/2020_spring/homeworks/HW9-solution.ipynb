{
 "cells": [
  {
   "cell_type": "markdown",
   "metadata": {},
   "source": [
    "# Homework 9 Solutions"
   ]
  },
  {
   "cell_type": "markdown",
   "metadata": {},
   "source": [
    "*Enter your name and EID here*\n",
    "\n",
    "**This homework is due on April 20, 2020 at 12:00pm. Please submit as a PDF file on Canvas. Before submission, please re-run all cells by clicking \"Kernel\" and selecting \"Restart & Run All.\"**\n"
   ]
  },
  {
   "cell_type": "markdown",
   "metadata": {},
   "source": [
    "**Problem 1 (4 points):** The complete genome of the virus SARS-CoV-2 can be accessed from the NCBI Entrez/PubMed website with the ID `NC_045512`. Using Biopython and Pubmed, download the GenBank record associated with SARS-CoV-2. Then, for each CDS in the record, print the locus tag and the name of the protein product associated with the gene at that locus."
   ]
  },
  {
   "cell_type": "code",
   "execution_count": 1,
   "metadata": {},
   "outputs": [
    {
     "name": "stdout",
     "output_type": "stream",
     "text": [
      "GU280_gp01: ORF1ab polyprotein\n",
      "GU280_gp01: ORF1a polyprotein\n",
      "GU280_gp02: surface glycoprotein\n",
      "GU280_gp03: ORF3a protein\n",
      "GU280_gp04: envelope protein\n",
      "GU280_gp05: membrane glycoprotein\n",
      "GU280_gp06: ORF6 protein\n",
      "GU280_gp07: ORF7a protein\n",
      "GU280_gp08: ORF7b\n",
      "GU280_gp09: ORF8 protein\n",
      "GU280_gp10: nucleocapsid phosphoprotein\n",
      "GU280_gp11: ORF10 protein\n"
     ]
    }
   ],
   "source": [
    "from Bio import Entrez, SeqIO\n",
    "Entrez.email = \"rachaelcox@utexas.edu\" # put your email here\n",
    "\n",
    "# download sequence record for genbank id NC_045512\n",
    "handle = Entrez.efetch(db=\"nucleotide\", id=\"NC_045512\", rettype=\"gb\", retmode=\"text\")\n",
    "record = SeqIO.read(handle, \"genbank\")\n",
    "handle.close()\n",
    "\n",
    "# loop over all features in the record\n",
    "for feature in record.features:\n",
    "    if feature.type == 'CDS':\n",
    "        # extract locus tag and protein product info\n",
    "        locus_tag = feature.qualifiers['locus_tag'][0]\n",
    "        product = feature.qualifiers['product'][0]\n",
    "        print(locus_tag + \": \" + product)"
   ]
  },
  {
   "cell_type": "markdown",
   "metadata": {},
   "source": [
    "**Problem 2 (2 points):** Frances Arnold is an American chemical engineer, recently winning the Nobel Prize in Chemistry for using directed evolution to engineer enzymes. Using Biopython and the Pubmed database, calculate the average number of papers per year that Dr. Arnold has published from 2015-2019 (inclusive, so that's 5 years total). \n",
    "\n",
    "**Hints**: Dr. Arnold will always appear as \"Arnold FH\" in the Pubmed database. Also, make sure to set the `retmax` argument to at least `100` in `Entrez.esearch()` so that you retrieve all of the papers. See the Class 21 Worksheet as an additional resource for the syntax required to access these publications. "
   ]
  },
  {
   "cell_type": "code",
   "execution_count": 2,
   "metadata": {
    "scrolled": true
   },
   "outputs": [
    {
     "name": "stdout",
     "output_type": "stream",
     "text": [
      "total # of papers = 62\n",
      "average # of papers/year = 12.4\n"
     ]
    }
   ],
   "source": [
    "# you will need Entrez and Medline to solve this problem\n",
    "from Bio import Entrez, Medline\n",
    "\n",
    "Entrez.email = \"rachaelcox@utexas.edu\"\n",
    "\n",
    "handle = Entrez.esearch(db=\"pubmed\",  # database to search\n",
    "                        term=\"Arnold FH[Author] AND 2015[Date - Publication]:2019[Date - Publication]\",  # search term\n",
    "                        retmax=100 # maximum number of results to return\n",
    "                        )\n",
    "record = Entrez.read(handle)\n",
    "handle.close()\n",
    "\n",
    "# search returns PubMed IDs (pmids)\n",
    "pmid_list = record[\"IdList\"]\n",
    "print('total # of papers =', len(pmid_list))\n",
    "\n",
    "# count the average number of items in pmid_list\n",
    "average = len(pmid_list)/5\n",
    "\n",
    "print('average # of papers/year =', average)"
   ]
  },
  {
   "cell_type": "markdown",
   "metadata": {},
   "source": [
    "**Problem 3 (4 points):** From 2015-2019 (inclusive), how many of Dr. Arnold's papers contain the terms \"evolution\" or \"evolutionary\" in the abstract? Use python and **regular expressions** to find an answer.\n",
    "\n",
    "**Hint \\#1:** In class 21, we parsed the results of a literature search with Medline.parse(). This allows us to look at the references we found and to retrieve different parts of the reference with a key. For example, to retrieve the abstract, we would write record['AB']. \n",
    "\n",
    "**Hint \\#2:** In a regular expression, you can match the same word with slightly different endings using the \"`|`\" (or) operator. For example, the regex \"bacteri(a|um)\" would match both \"bacteria\" and \"bacterium\"."
   ]
  },
  {
   "cell_type": "code",
   "execution_count": 3,
   "metadata": {},
   "outputs": [
    {
     "name": "stdout",
     "output_type": "stream",
     "text": [
      "The term 'evolutionary' was found in record #1.\n",
      "The term 'evolution' was found in record #2.\n",
      "The term 'evolution' was found in record #3.\n",
      "The term 'evolution' was found in record #5.\n",
      "The term 'evolution' was found in record #7.\n",
      "The term 'evolution' was found in record #8.\n",
      "The term 'evolution' was found in record #9.\n",
      "The term 'evolution' was found in record #11.\n",
      "The term 'evolution' was found in record #12.\n",
      "The term 'evolution' was found in record #13.\n",
      "The term 'evolution' was found in record #15.\n",
      "The term 'evolution' was found in record #16.\n",
      "The term 'evolution' was found in record #22.\n",
      "The term 'evolution' was found in record #24.\n",
      "The term 'evolution' was found in record #26.\n",
      "The term 'evolution' was found in record #27.\n",
      "The term 'evolution' was found in record #29.\n",
      "The term 'evolution' was found in record #31.\n",
      "The term 'evolution' was found in record #33.\n",
      "The term 'evolution' was found in record #36.\n",
      "The term 'evolution' was found in record #37.\n",
      "The term 'evolution' was found in record #40.\n",
      "The term 'evolution' was found in record #42.\n",
      "The term 'evolution' was found in record #43.\n",
      "The term 'evolution' was found in record #47.\n",
      "The term 'evolutionary' was found in record #51.\n",
      "The term 'evolution' was found in record #52.\n",
      "The term 'evolution' was found in record #53.\n",
      "The term 'evolution' was found in record #55.\n",
      "The term 'evolution' was found in record #56.\n",
      "The term 'evolution' was found in record #59.\n",
      "The term 'evolutionary' was found in record #61.\n",
      "The term 'evolution' was found in record #62.\n",
      "\n",
      "Thus, 33 of the 62 abstracts contain \"evolution\" or \"evolutionary.\"\n"
     ]
    }
   ],
   "source": [
    "# you will need the module `re` for regular expressions to solve this problem\n",
    "import re\n",
    "from Bio import Entrez, Medline\n",
    "\n",
    "handle = Entrez.efetch(db=\"pubmed\", id=pmid_list, rettype=\"medline\", retmode=\"text\")\n",
    "records = Medline.parse(handle)\n",
    "\n",
    "ab_count = 0 # start a counter\n",
    "rec_count = 0 # start a counter for record number\n",
    "\n",
    "for record in records:\n",
    "    \n",
    "    rec_count += 1\n",
    "    \n",
    "    # check if a record has an abstract\n",
    "    if \"AB\" in record:\n",
    "        \n",
    "        # Check for the term \"evolution\" or \"evolutionary\" in the abstract \n",
    "        match = re.search(r\"evolution(\\b|ary)\", record[\"AB\"].lower())\n",
    "        \n",
    "        # if \"evolution\" or \"evolutionary\" is in the abstract, increment the count by 1 \n",
    "        if match: \n",
    "            ab_count += 1\n",
    "            print(\"The term '{}' was found in record #{}.\".format(match.group(), rec_count))\n",
    "\n",
    "# close the efetch handle    \n",
    "handle.close()\n",
    "\n",
    "print()\n",
    "print('Thus, {} of the {} abstracts contain \"evolution\" or \"evolutionary.\"'.format(ab_count, rec_count))\n"
   ]
  }
 ],
 "metadata": {
  "kernelspec": {
   "display_name": "Python 3",
   "language": "python",
   "name": "python3"
  },
  "language_info": {
   "codemirror_mode": {
    "name": "ipython",
    "version": 3
   },
   "file_extension": ".py",
   "mimetype": "text/x-python",
   "name": "python",
   "nbconvert_exporter": "python",
   "pygments_lexer": "ipython3",
   "version": "3.6.9"
  }
 },
 "nbformat": 4,
 "nbformat_minor": 1
}
