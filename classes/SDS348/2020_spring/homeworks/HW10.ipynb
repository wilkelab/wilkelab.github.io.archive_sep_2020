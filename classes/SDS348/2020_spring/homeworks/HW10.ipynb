{
 "cells": [
  {
   "cell_type": "markdown",
   "metadata": {},
   "source": [
    "# Homework 10"
   ]
  },
  {
   "cell_type": "markdown",
   "metadata": {},
   "source": [
    "*Enter your name and EID here*\n",
    "\n",
    "**This homework is due on Apr. 27, 2020 at 12:00pm. Please submit as a PDF file on Canvas. Before submission, please re-run all cells by clicking \"Kernel\" and selecting \"Restart & Run All.\"**\n",
    "\n",
    "**Problem 1 (5 pts)**: Often in bioinformatics, we need to format unique gene and/or protein identifiers. For instance, FASTA files downloaded from the UniProt database will have sequence identifiers that look like `>sp|Q8WZ42|TITIN_HUMAN`. For cross-referencing purposes (i.e., the way this ID is stored in other databases), we just need the `Q8WZ42` part. Write code that extracts this group between the `|` characters. Use this code to extract the UniProt IDs from both strings given below.\n",
    "\n",
    "**Hint:** Remember, the `|` symbol is normally used to say \"this or this\" or `this|this`. To match `|` in a string, as opposed to using it as a Boolean operator, you will need to escape the character with a backslash like so: `\\|`."
   ]
  },
  {
   "cell_type": "code",
   "execution_count": 1,
   "metadata": {},
   "outputs": [],
   "source": [
    "# You will need re to solve this problem\n",
    "import re\n",
    "\n",
    "titin_human = \">sp|Q8WZ42|TITIN_HUMAN\"\n",
    "lysozyme_frog = \">tr|A0A060A0J8|A0A060A0J8_XENLA\""
   ]
  },
  {
   "cell_type": "code",
   "execution_count": null,
   "metadata": {},
   "outputs": [],
   "source": [
    "# your code here"
   ]
  },
  {
   "cell_type": "markdown",
   "metadata": {},
   "source": [
    "**Problem 2 (5 pts)**: We will work with the Microcystis aeruginosa genome. This cyanobacteria is partially responsible (along with Anabaena) for the toxic \"blue-green algal\" blooms affecting bodies of water in Central Texas in the latter half of 2019.  First, we download it and save it locally **(note, this code may take a minute or two to run)**:"
   ]
  },
  {
   "cell_type": "code",
   "execution_count": 2,
   "metadata": {},
   "outputs": [],
   "source": [
    "from Bio import Entrez\n",
    "\n",
    "Entrez.email = \"your.email@utexas.edu\" # put your email here\n",
    "\n",
    "# download Microcystic aeruginosa genome & save it locally:\n",
    "with open(\"Maeruginosa.gb\", \"w\") as outfile:\n",
    "    handle = Entrez.efetch(db=\"nucleotide\", id=\"NC_010296\", rettype=\"gbwithparts\", retmode=\"text\")\n",
    "    data = handle.read()\n",
    "    outfile.write(data)\n",
    "    handle.close()"
   ]
  },
  {
   "cell_type": "markdown",
   "metadata": {},
   "source": [
    "Write code that loops over all features in the M. aeruginosa genome, and counts the number of tRNAs and rRNAs that are contained within it. Use **regular expressions** to find the answer."
   ]
  },
  {
   "cell_type": "code",
   "execution_count": null,
   "metadata": {},
   "outputs": [],
   "source": [
    "# your code here"
   ]
  }
 ],
 "metadata": {
  "kernelspec": {
   "display_name": "Python 3",
   "language": "python",
   "name": "python3"
  },
  "language_info": {
   "codemirror_mode": {
    "name": "ipython",
    "version": 3
   },
   "file_extension": ".py",
   "mimetype": "text/x-python",
   "name": "python",
   "nbconvert_exporter": "python",
   "pygments_lexer": "ipython3",
   "version": "3.6.9"
  }
 },
 "nbformat": 4,
 "nbformat_minor": 2
}
