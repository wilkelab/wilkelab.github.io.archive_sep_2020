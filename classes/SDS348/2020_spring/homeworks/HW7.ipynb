{
 "cells": [
  {
   "cell_type": "markdown",
   "metadata": {},
   "source": [
    "# Homework 7"
   ]
  },
  {
   "cell_type": "markdown",
   "metadata": {},
   "source": [
    "*Enter your name and EID here*\n",
    "\n",
    "**This homework is due on Mar. 30, 2020 at 12:00pm. Please submit as a PDF file on Canvas. Before submission, please re-run all cells by clicking \"Kernel\" and selecting \"Restart & Run All.\"**"
   ]
  },
  {
   "cell_type": "markdown",
   "metadata": {},
   "source": [
    "**Problem 1 (5 pts)**: Create a list with the names of your favorite foods. Your list should contain at least 5 different kinds of food. Then, complete the following steps using python. **Each step should be completed in a different cell and your results should be printed with `print()`.**\n",
    "\n",
    "1. Sort the list so that the names appear in alphabetical order. *Hint:* use the function `.sort()`.\n",
    "2. How many items are in the list? *Hint:* use the function `len()`.\n",
    "3. Remove a food from your list and print the length of the list again. *Hint:* use the function `.remove()`\n",
    "4. Add the food \"falafel\" to your list. *Hint:* use the function `.append()`\n",
    "5. Make a new list in which every food name in your original list is repeated 5 times."
   ]
  },
  {
   "cell_type": "code",
   "execution_count": 1,
   "metadata": {},
   "outputs": [],
   "source": [
    "# Your code here"
   ]
  },
  {
   "cell_type": "markdown",
   "metadata": {},
   "source": [
    "**Problem 2 (5 pts)**: Now imagine that you have spent a week eating only your favorite foods listed in Problem 1. Create a dictionary that contains the names of the food as keys & counts for each time you ate that food as values. For example, if you ate tacos 12 times, the key would be \"tacos\" and the value would be 12. The counts should just be made-up counts. Then, complete the following steps using python. **Each step should be completed in a different cell and your results should be printed with `print()`.**\n",
    "\n",
    "1. Write code that counts how many times you ate. (In other words, add up all of the food counts.) *Hint:* use a `for` loop.\n",
    "2. Add the food \"ramen\" to your dictionary and give it a count of 7.\n",
    "3. Print out a list of the *keys* and a list of the *values* in your dictionary (i.e., the food names and the counts). *Hint:* use the functions `.keys()` and `.values()`.\n",
    "4. Change the count for one of the foods in your dictionary (i.e., ramen's count from 7 to 10).\n",
    "5. Remove a key-value pair from your dictionary. *Hint:* Google \"python delete dictionary entry\" to find the answer."
   ]
  },
  {
   "cell_type": "code",
   "execution_count": 2,
   "metadata": {},
   "outputs": [],
   "source": [
    "# Your code here"
   ]
  }
 ],
 "metadata": {
  "kernelspec": {
   "display_name": "Python 3",
   "language": "python",
   "name": "python3"
  },
  "language_info": {
   "codemirror_mode": {
    "name": "ipython",
    "version": 3
   },
   "file_extension": ".py",
   "mimetype": "text/x-python",
   "name": "python",
   "nbconvert_exporter": "python",
   "pygments_lexer": "ipython3",
   "version": "3.6.9"
  }
 },
 "nbformat": 4,
 "nbformat_minor": 1
}
