{
 "cells": [
  {
   "cell_type": "markdown",
   "metadata": {},
   "source": [
    "# Homework 10 Solutions"
   ]
  },
  {
   "cell_type": "markdown",
   "metadata": {},
   "source": [
    "*Enter your name and EID here*\n",
    "\n",
    "**This homework is due on Apr. 27, 2020 at 12:00pm. Please submit as a PDF file on Canvas. Before submission, please re-run all cells by clicking \"Kernel\" and selecting \"Restart & Run All.\"**\n",
    "\n",
    "**Problem 1 (5 pts)**: Often in bioinformatics, we need to format unique gene and/or protein identifiers. For instance, FASTA files downloaded from the UniProt database will have sequence identifiers that look like `>sp|Q8WZ42|TITIN_HUMAN`. For cross-referencing purposes (i.e., the way this ID is stored in other databases), we just need the `Q8WZ42` part. Write code that extracts this group between the `|` characters. Use this code to extract the UniProt IDs from both strings given below.\n",
    "\n",
    "**Hint:** Remember, the `|` symbol is normally used to say \"this or this\" or `this|this`. To match `|` in a string, as opposed to using it as a Boolean operator, you will need to escape the character with a backslash like so: `\\|`."
   ]
  },
  {
   "cell_type": "code",
   "execution_count": 1,
   "metadata": {},
   "outputs": [],
   "source": [
    "# You will need re to solve this problem\n",
    "import re\n",
    "\n",
    "titin_human = \">sp|Q8WZ42|TITIN_HUMAN\"\n",
    "lysozyme_frog = \">tr|A0A060A0J8|A0A060A0J8_XENLA\"\n",
    "\n",
    "def extract_id(input_string):\n",
    "    pattern = r'^>(tr|sp)\\|(.*)\\|\\S*'\n",
    "    match = re.search(pattern, input_string)\n",
    "    if match:\n",
    "        print(match.group(2))"
   ]
  },
  {
   "cell_type": "code",
   "execution_count": 2,
   "metadata": {},
   "outputs": [
    {
     "name": "stdout",
     "output_type": "stream",
     "text": [
      "Q8WZ42\n",
      "A0A060A0J8\n"
     ]
    }
   ],
   "source": [
    "extract_id(titin_human)\n",
    "extract_id(lysozyme_frog)"
   ]
  },
  {
   "cell_type": "markdown",
   "metadata": {},
   "source": [
    "**Problem 2 (5 pts)**: We will work with the Microcystis aeruginosa genome. This cyanobacteria is partially responsible (along with Anabaena) for the toxic \"blue-green algal\" blooms affecting bodies of water in Central Texas in the latter half of 2019.  First, we download it and save it locally **(note, this code may take a minute or two to run)**:"
   ]
  },
  {
   "cell_type": "code",
   "execution_count": 3,
   "metadata": {},
   "outputs": [],
   "source": [
    "from Bio import Entrez\n",
    "\n",
    "Entrez.email = \"rachaelcox@utexas.edu\" # put your email here\n",
    "\n",
    "# download Microcystic aeruginosa genome & save it locally:\n",
    "with open(\"Maeruginosa.gb\", \"w\") as outfile:\n",
    "    handle = Entrez.efetch(db=\"nucleotide\", id=\"NC_010296\", rettype=\"gbwithparts\", retmode=\"text\")\n",
    "    data = handle.read()\n",
    "    outfile.write(data)\n",
    "    handle.close()"
   ]
  },
  {
   "cell_type": "markdown",
   "metadata": {},
   "source": [
    "Write code that loops over all features in the M. aeruginosa genome, and counts the number of tRNAs and rRNAs that are contained within it. Use **regular expressions** to find the answer."
   ]
  },
  {
   "cell_type": "code",
   "execution_count": 4,
   "metadata": {},
   "outputs": [
    {
     "name": "stdout",
     "output_type": "stream",
     "text": [
      "48\n"
     ]
    }
   ],
   "source": [
    "# you will need re and SeqIO to solve this problem\n",
    "import re\n",
    "from Bio import SeqIO\n",
    "\n",
    "# read in the M. aeruginosa genome from local storage\n",
    "in_handle = open(\"Maeruginosa.gb\", \"r\")\n",
    "record = SeqIO.read(in_handle, \"genbank\")\n",
    "in_handle.close()\n",
    "\n",
    "i = 0 # counter that will keep track of the number of tRNAs and rRNAs found\n",
    "for feature in record.features:\n",
    "    # match if the feature type starts with \"t\" or \"r\" and ends with \"RNA\"\n",
    "    match = re.search(r\"^(t|r)RNA$\", feature.type)\n",
    "    if match:\n",
    "        # yes, we found a match\n",
    "        i += 1\n",
    "        \n",
    "print(i)"
   ]
  }
 ],
 "metadata": {
  "kernelspec": {
   "display_name": "Python 3",
   "language": "python",
   "name": "python3"
  },
  "language_info": {
   "codemirror_mode": {
    "name": "ipython",
    "version": 3
   },
   "file_extension": ".py",
   "mimetype": "text/x-python",
   "name": "python",
   "nbconvert_exporter": "python",
   "pygments_lexer": "ipython3",
   "version": "3.6.9"
  }
 },
 "nbformat": 4,
 "nbformat_minor": 2
}
