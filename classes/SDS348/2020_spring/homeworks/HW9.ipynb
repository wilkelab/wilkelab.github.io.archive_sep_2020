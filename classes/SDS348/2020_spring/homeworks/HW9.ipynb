{
 "cells": [
  {
   "cell_type": "markdown",
   "metadata": {},
   "source": [
    "# Homework 9"
   ]
  },
  {
   "cell_type": "markdown",
   "metadata": {},
   "source": [
    "*Enter your name and EID here*\n",
    "\n",
    "**This homework is due on April 20, 2020 at 12:00pm. Please submit as a PDF file on Canvas. Before submission, please re-run all cells by clicking \"Kernel\" and selecting \"Restart & Run All.\"**\n"
   ]
  },
  {
   "cell_type": "markdown",
   "metadata": {},
   "source": [
    "**Problem 1 (4 points):** The complete genome of the virus SARS-CoV-2 can be accessed from the NCBI Entrez/PubMed website with the ID `NC_045512`. Using Biopython and Pubmed, download the GenBank record associated with SARS-CoV-2. Then, for each CDS in the record, print the locus tag and the name of the protein product associated with the gene at that locus."
   ]
  },
  {
   "cell_type": "code",
   "execution_count": 1,
   "metadata": {},
   "outputs": [],
   "source": [
    "# you will need Entrez and SeqIO to solve this problem\n",
    "from Bio import Entrez, SeqIO\n",
    "Entrez.email = \"your.email@utexas.edu\" # put your email here\n",
    "\n",
    "# your code here"
   ]
  },
  {
   "cell_type": "markdown",
   "metadata": {},
   "source": [
    "**Problem 2 (2 points):** Frances Arnold is an American chemical engineer, recently winning the Nobel Prize in Chemistry for using directed evolution to engineer enzymes. Using Biopython and the Pubmed database, calculate the average number of papers per year that Dr. Arnold has published from 2015-2019 (inclusive, so that's 5 years total). \n",
    "\n",
    "**Hints**: Dr. Arnold will always appear as \"Arnold FH\" in the Pubmed database. Also, make sure to set the `retmax` argument to at least `100` in `Entrez.esearch()` so that you retrieve all of the papers. See the Class 21 Worksheet as an additional resource for the syntax required to access these publications. "
   ]
  },
  {
   "cell_type": "code",
   "execution_count": 2,
   "metadata": {
    "scrolled": true
   },
   "outputs": [],
   "source": [
    "# you will need Entrez and Medline to solve this problem\n",
    "from Bio import Entrez, Medline\n",
    "Entrez.email = \"your.email@utexas.edu\" # put your email here\n",
    "\n",
    "# your code here"
   ]
  },
  {
   "cell_type": "markdown",
   "metadata": {},
   "source": [
    "**Problem 3 (4 points):** From 2015-2019 (inclusive), how many of Dr. Arnold's papers contain the terms \"evolution\" or \"evolutionary\" in the abstract? Use python and **regular expressions** to find an answer.\n",
    "\n",
    "**Hint \\#1:** In class 21, we parsed the results of a literature search with Medline.parse(). This allows us to look at the references we found and to retrieve different parts of the reference with a key. For example, to retrieve the abstract, we would write record['AB']. \n",
    "\n",
    "**Hint \\#2:** In a regular expression, you can match the same word with slightly different endings using the \"`|`\" (or) operator. For example, the regex \"bacteri(a|um)\" would match both \"bacteria\" and \"bacterium\"."
   ]
  },
  {
   "cell_type": "code",
   "execution_count": 3,
   "metadata": {},
   "outputs": [],
   "source": [
    "# you will need the module `re` for regular expressions to solve this problem\n",
    "import re\n",
    "Entrez.email = \"your.email@utexas.edu\" # put your email here\n",
    "\n",
    "# your code here"
   ]
  }
 ],
 "metadata": {
  "kernelspec": {
   "display_name": "Python 3",
   "language": "python",
   "name": "python3"
  },
  "language_info": {
   "codemirror_mode": {
    "name": "ipython",
    "version": 3
   },
   "file_extension": ".py",
   "mimetype": "text/x-python",
   "name": "python",
   "nbconvert_exporter": "python",
   "pygments_lexer": "ipython3",
   "version": "3.6.9"
  }
 },
 "nbformat": 4,
 "nbformat_minor": 1
}
