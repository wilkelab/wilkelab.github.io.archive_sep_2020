{
 "cells": [
  {
   "cell_type": "markdown",
   "metadata": {},
   "source": [
    "# Lab Worksheet 9 Solutions"
   ]
  },
  {
   "cell_type": "markdown",
   "metadata": {},
   "source": [
    "**Problem 1:** Write a class `NameSet` that collects a unique set of names. Within the class, names should be stored in a list. `NameSet` should accept names in any format (upper case, lower case, etc.), but keep them capitalized. \n",
    "\n",
    "Hint - when solving this question, these string functions may be useful: `upper()`, `lower()`, and `capitalize()`."
   ]
  },
  {
   "cell_type": "code",
   "execution_count": 1,
   "metadata": {},
   "outputs": [
    {
     "name": "stdout",
     "output_type": "stream",
     "text": [
      "['Isabelle', 'Tom', 'Timmy', 'Coco']\n"
     ]
    }
   ],
   "source": [
    "class NameSet:\n",
    "    \n",
    "    def __init__(self):\n",
    "        self.unique_list = []    # creates an empty list to keep unique names\n",
    "\n",
    "    def add_name(self, name):   # if a name is unique, adds it to the list\n",
    "        if name.capitalize() in self.unique_list: # check if a name is already in the list\n",
    "            pass \n",
    "        else: # if the name is not in the list, then add it\n",
    "            self.unique_list.append(name.capitalize()) \n",
    "\n",
    "names = NameSet()\n",
    "\n",
    "names.add_name(\"Isabelle\")\n",
    "names.add_name(\"isabelle\")\n",
    "names.add_name(\"Tom\")\n",
    "names.add_name(\"ToM\")\n",
    "names.add_name(\"Timmy\")\n",
    "names.add_name(\"TiMMy\")\n",
    "names.add_name(\"Coco\")\n",
    "names.add_name(\"COCO\")\n",
    "\n",
    "print(names.unique_list)"
   ]
  },
  {
   "cell_type": "markdown",
   "metadata": {},
   "source": [
    "**Problem 2:** Write a class `CountNuc` that stores the counts of A's, C's, G's, and T's in a DNA sequence. Your class should be able to accept both upper and lower case DNA sequences. Nucleotide counts in `CountNuc` should be stored in a dictionary. Once your class has been written, confirm your class operates correctly on a test string \"AGct\". After that, determine the counts of A's, C's, G's, and T's in `dna_string` string given below, and print the counts."
   ]
  },
  {
   "cell_type": "code",
   "execution_count": 2,
   "metadata": {},
   "outputs": [
    {
     "name": "stdout",
     "output_type": "stream",
     "text": [
      "{'A': 1, 'G': 1, 'C': 1, 'T': 1}\n",
      "{'A': 13, 'T': 9, 'C': 7, 'G': 8}\n"
     ]
    }
   ],
   "source": [
    "class CountNuc:\n",
    "\n",
    "    def __init__(self):\n",
    "        self.nuc_dict = {}   # creates a dictionary to keep counts of nucleotides\n",
    "    \n",
    "    def add_nuc(self, nuc):   # increments the count for a nucleotide by 1\n",
    "        nuc = nuc.upper()    # convert a nucleotide to upper case\n",
    "        \n",
    "        if nuc in self.nuc_dict: # check if nucleotide is in the dictionary\n",
    "            self.nuc_dict[nuc] += 1 # increment the count of a nucleotide by 1\n",
    "        else: # if nucleotide is not in the dictionary\n",
    "            self.nuc_dict[nuc] = 1 # set the count for a nucleotide to 1\n",
    "\n",
    "# test the class `CountNuc` with small test string\n",
    "test_dna_string = \"AGct\"\n",
    "\n",
    "nuc_count1 = CountNuc() \n",
    "\n",
    "for N in test_dna_string:\n",
    "    nuc_count1.add_nuc(N)\n",
    "\n",
    "print(nuc_count1.nuc_dict)\n",
    "\n",
    "# determine the counts of A's, C's, G's and T's of this string:\n",
    "dna_string = \"ATCGAGCTataCCGATACAGGcTGGTATAAAAgatTC\"\n",
    "\n",
    "nuc_count2 = CountNuc()\n",
    "\n",
    "for N in dna_string:\n",
    "    nuc_count2.add_nuc(N)\n",
    "    \n",
    "print(nuc_count2.nuc_dict)"
   ]
  }
 ],
 "metadata": {
  "kernelspec": {
   "display_name": "Python 3",
   "language": "python",
   "name": "python3"
  },
  "language_info": {
   "codemirror_mode": {
    "name": "ipython",
    "version": 3
   },
   "file_extension": ".py",
   "mimetype": "text/x-python",
   "name": "python",
   "nbconvert_exporter": "python",
   "pygments_lexer": "ipython3",
   "version": "3.6.9"
  }
 },
 "nbformat": 4,
 "nbformat_minor": 1
}
