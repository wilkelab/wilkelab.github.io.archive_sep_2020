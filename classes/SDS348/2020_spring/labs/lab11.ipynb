{
 "cells": [
  {
   "cell_type": "markdown",
   "metadata": {},
   "source": [
    "# Lab Worksheet 11"
   ]
  },
  {
   "cell_type": "markdown",
   "metadata": {},
   "source": [
    "Last week, we talked about how to use Entrez to access genomic information from the NCBI database. This week, we're focusing on how to use Entrez and Medline to search the PubMed (literature) database. For this module, a list of important abbreviations and their meanings can be found here: https://www.nlm.nih.gov/bsd/mms/medlineelements.html"
   ]
  },
  {
   "cell_type": "markdown",
   "metadata": {},
   "source": [
    "**Problem 1:**\n",
    "\n",
    "(a) Download the Medline record for the publication with pubmed id 32191846 and parse it with the `Medline.parse()` function. Then print a list of all key-value pairs returned in that record. \n",
    "\n",
    "(b) Use an Entrez esearch query of the pubmed database to find out how many publications \"Marcotte EM\" wrote in 2020.\n",
    "\n",
    "(c) From the results of part (b), compile a dictionary of all the publication titles and abstracts for \"Marcotte EM\" in 2020. Print each publication title, followed by that paper's abstract."
   ]
  },
  {
   "cell_type": "code",
   "execution_count": 1,
   "metadata": {},
   "outputs": [],
   "source": [
    "# problem 1a\n",
    "\n",
    "from Bio import Entrez, Medline\n",
    "Entrez.email = \"your.email@utexas.edu\"\n",
    "\n",
    "# your code here\n",
    "# hint--you'll need this code after running `Entrez.efetch`:\n",
    "\n",
    "#records = Medline.parse(handle)\n",
    "#record = list(records)[0] "
   ]
  },
  {
   "cell_type": "code",
   "execution_count": 2,
   "metadata": {},
   "outputs": [],
   "source": [
    "# problem 1b\n",
    "\n",
    "from Bio import Entrez\n",
    "Entrez.email = \"your.email@utexas.edu\"\n",
    "\n",
    "# your code here"
   ]
  },
  {
   "cell_type": "code",
   "execution_count": 3,
   "metadata": {},
   "outputs": [],
   "source": [
    "# problem 1c\n",
    "\n",
    "from Bio import Medline\n",
    "Entrez.email = \"your.email@utexas.edu\"\n",
    "\n",
    "# your code here"
   ]
  },
  {
   "cell_type": "markdown",
   "metadata": {},
   "source": [
    "### If that was easy..."
   ]
  },
  {
   "cell_type": "markdown",
   "metadata": {},
   "source": [
    "**Problem 4:** From the results of part (b), compile a dictionary with each publication title and its associated author list (AU), source (SO), and abstract (AB) for \"Marcotte EM\" in 2020. From that dictionary, print each publication title, followed by that paper's author list, then source, then abstract."
   ]
  },
  {
   "cell_type": "code",
   "execution_count": 4,
   "metadata": {},
   "outputs": [],
   "source": [
    "# problem 2\n",
    "\n",
    "from Bio import Medline\n",
    "Entrez.email = \"your.email@utexas.edu\"\n",
    "\n",
    "# your code here"
   ]
  }
 ],
 "metadata": {
  "kernelspec": {
   "display_name": "Python 3",
   "language": "python",
   "name": "python3"
  },
  "language_info": {
   "codemirror_mode": {
    "name": "ipython",
    "version": 3
   },
   "file_extension": ".py",
   "mimetype": "text/x-python",
   "name": "python",
   "nbconvert_exporter": "python",
   "pygments_lexer": "ipython3",
   "version": "3.6.9"
  }
 },
 "nbformat": 4,
 "nbformat_minor": 1
}
