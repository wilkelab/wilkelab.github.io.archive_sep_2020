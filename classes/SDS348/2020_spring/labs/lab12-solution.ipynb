{
 "cells": [
  {
   "cell_type": "markdown",
   "metadata": {},
   "source": [
    "# Lab Worksheet 12 Solutions"
   ]
  },
  {
   "cell_type": "markdown",
   "metadata": {},
   "source": [
    "**Problem 1:** Write a function that searches the NCBI Nucleotide Database for any given search term. Your function should require the following parameters: an email, a search term, and the max number of results to return. The function should return a list of GenBank accession numbers."
   ]
  },
  {
   "cell_type": "code",
   "execution_count": 1,
   "metadata": {},
   "outputs": [],
   "source": [
    "# you will need Entrez and Medline to solve this problem\n",
    "from Bio import Entrez, SeqIO\n",
    "\n",
    "def get_accessions(email, search_term, max_return):\n",
    "\n",
    "    Entrez.email = email\n",
    "    handle = Entrez.esearch(db = \"nucleotide\",  # database to search\n",
    "                        term = search_term,  # search term\n",
    "                        retmax = max_return) # maximum number of results to return\n",
    "    record = Entrez.read(handle)\n",
    "    handle.close()\n",
    "\n",
    "    # search returns PubMed IDs (pmids)\n",
    "    accession_list = record[\"IdList\"]\n",
    "    print('total number of results from search term \"{}\" = {}'.format(search_term, len(accession_list)))\n",
    "    print('accession list =', accession_list)\n",
    "    \n",
    "    return(accession_list)"
   ]
  },
  {
   "cell_type": "code",
   "execution_count": 2,
   "metadata": {
    "scrolled": true
   },
   "outputs": [
    {
     "name": "stdout",
     "output_type": "stream",
     "text": [
      "total number of results from search term \"Archaea[Organism] AND tRNA[Feature Key] AND \"complete genome\"\" = 5\n",
      "accession list = ['1147362626', '1125709198', '313124788', '14518450', '1832147357']\n"
     ]
    }
   ],
   "source": [
    "archaea = get_accessions('rachaelcox@utexas.edu', 'Archaea[Organism] AND tRNA[Feature Key] AND \"complete genome\"', 5)"
   ]
  },
  {
   "cell_type": "code",
   "execution_count": 3,
   "metadata": {},
   "outputs": [
    {
     "name": "stdout",
     "output_type": "stream",
     "text": [
      "total number of results from search term \"Bacteria[Organism] AND tRNA[Feature Key] AND \"complete genome\"\" = 5\n",
      "accession list = ['1832554406', '1832553669', '1832553647', '1832478644', '1832159315']\n"
     ]
    }
   ],
   "source": [
    "bacteria = get_accessions('rachaelcox@utexas.edu', 'Bacteria[Organism] AND tRNA[Feature Key] AND \"complete genome\"', 5)"
   ]
  },
  {
   "cell_type": "markdown",
   "metadata": {},
   "source": [
    "**Problem 2:** Write a function that takes a list of GenBank identifiers (obtained from your function above) and fetches the records associated with those IDs from the NCBI Nucleotide database. Your function should require the following parameters: an email, a list of GenBank accessions, and the name of an output file to hold the records. The function should write a file containing all of the data from each GenBank record given to the function."
   ]
  },
  {
   "cell_type": "code",
   "execution_count": 4,
   "metadata": {},
   "outputs": [],
   "source": [
    "def write_gb_file(email, accession_list, outfile_name):\n",
    "    \n",
    "    # fetch records from the database\n",
    "    Entrez.email = email\n",
    "    handle = Entrez.efetch(db = \"nucleotide\", \n",
    "                           id = accession_list, \n",
    "                           rettype = \"gbwithparts\", \n",
    "                           retmode = \"text\")\n",
    "    data = handle.read()\n",
    "    handle.close() # close the handle\n",
    "\n",
    "    # write data to a file\n",
    "    with open(outfile_name, \"w\") as outfile:\n",
    "        outfile.write(data)\n",
    "    \n",
    "    print(\"GenBank files successfully written to {}\".format(outfile_name))"
   ]
  },
  {
   "cell_type": "code",
   "execution_count": 5,
   "metadata": {},
   "outputs": [
    {
     "name": "stdout",
     "output_type": "stream",
     "text": [
      "GenBank files successfully written to archaea_genomes.gb\n"
     ]
    }
   ],
   "source": [
    "write_gb_file('rachaelcox@utexas.edu', archaea, 'archaea_genomes.gb')"
   ]
  },
  {
   "cell_type": "code",
   "execution_count": 6,
   "metadata": {},
   "outputs": [
    {
     "name": "stdout",
     "output_type": "stream",
     "text": [
      "GenBank files successfully written to bacteria_genomes.gb\n"
     ]
    }
   ],
   "source": [
    "write_gb_file('rachaelcox@utexas.edu', bacteria, 'bacteria_genomes.gb')"
   ]
  },
  {
   "cell_type": "markdown",
   "metadata": {},
   "source": [
    "**Problem 3:** Write a function that takes a GenBank file and computes the tRNA count for each record in that file. The code in your function should find the \"tRNA\" `type` in `record.features` and count the number of occurrences for each record. Your function should require one parameter: a file containing one or more GenBank records."
   ]
  },
  {
   "cell_type": "code",
   "execution_count": 7,
   "metadata": {},
   "outputs": [],
   "source": [
    "def get_tRNA_counts(gb_file):\n",
    "    \n",
    "    with open (gb_file, 'r') as infile:\n",
    "        \n",
    "        # use `SeqIO.parse` to read a file with many GenBank records\n",
    "        all_records = SeqIO.parse(infile, \"genbank\")\n",
    "        count_dict = {} # dictionary to hold the tRNA counts for each GenBank accession\n",
    "        \n",
    "        # loop through each record and count the number of tRNAs found\n",
    "        for record in all_records:\n",
    "\n",
    "            i = 0 # counter that will keep track of the number of tRNAs\n",
    "            for feature in record.features:\n",
    "                \n",
    "                # match if the feature type is \"tRNA\"\n",
    "                if feature.type == \"tRNA\":\n",
    "                    i += 1\n",
    "            \n",
    "            # add the final count `i` to the dictionary for each record\n",
    "            count_dict[record.id] = i\n",
    "\n",
    "            print(\"The record specifying the \\\"{}\\\" has {} tRNAs.\".format(record.description, i))\n",
    "    \n",
    "    return(count_dict)"
   ]
  },
  {
   "cell_type": "code",
   "execution_count": 8,
   "metadata": {},
   "outputs": [
    {
     "name": "stdout",
     "output_type": "stream",
     "text": [
      "The record specifying the \"Haloterrigena daqingensis strain JX313 chromosome, complete genome\" has 46 tRNAs.\n",
      "The record specifying the \"Ignicoccus islandicus DSM 13165 strain DSM 13166 chromosome, complete genome\" has 45 tRNAs.\n",
      "The record specifying the \"Halogeometricum borinquense DSM 11551, complete sequence\" has 52 tRNAs.\n",
      "The record specifying the \"Pyrococcus abyssi GE5, complete genome\" has 46 tRNAs.\n",
      "The record specifying the \"Acidianus brierleyi strain DSM 1651 chromosome, complete genome\" has 46 tRNAs.\n"
     ]
    },
    {
     "data": {
      "text/plain": [
       "{'NZ_CP019327.1': 46,\n",
       " 'NZ_CP006867.1': 45,\n",
       " 'NC_014729.1': 52,\n",
       " 'NC_000868.1': 46,\n",
       " 'NZ_CP029289.2': 46}"
      ]
     },
     "execution_count": 8,
     "metadata": {},
     "output_type": "execute_result"
    }
   ],
   "source": [
    "get_tRNA_counts('archaea_genomes.gb')"
   ]
  },
  {
   "cell_type": "code",
   "execution_count": 9,
   "metadata": {},
   "outputs": [
    {
     "name": "stdout",
     "output_type": "stream",
     "text": [
      "The record specifying the \"Limnospira fusiformis SAG 85.79 chromosome, complete genome\" has 41 tRNAs.\n",
      "The record specifying the \"Pectobacterium punjabense strain SS95 chromosome, complete genome\" has 76 tRNAs.\n",
      "The record specifying the \"Halomonas sp. NBT06E8 chromosome, complete genome\" has 60 tRNAs.\n",
      "The record specifying the \"[Clostridium] innocuum strain ATCC 14501 chromosome, complete genome\" has 48 tRNAs.\n",
      "The record specifying the \"Halomonas sp. NBT06E8 chromosome, complete genome\" has 60 tRNAs.\n"
     ]
    },
    {
     "data": {
      "text/plain": [
       "{'CP051185.1': 41,\n",
       " 'NZ_CP038498.1': 76,\n",
       " 'NZ_CP048602.1': 60,\n",
       " 'NZ_CP048838.1': 48,\n",
       " 'CP048602.1': 60}"
      ]
     },
     "execution_count": 9,
     "metadata": {},
     "output_type": "execute_result"
    }
   ],
   "source": [
    "get_tRNA_counts('bacteria_genomes.gb')"
   ]
  }
 ],
 "metadata": {
  "kernelspec": {
   "display_name": "Python 3",
   "language": "python",
   "name": "python3"
  },
  "language_info": {
   "codemirror_mode": {
    "name": "ipython",
    "version": 3
   },
   "file_extension": ".py",
   "mimetype": "text/x-python",
   "name": "python",
   "nbconvert_exporter": "python",
   "pygments_lexer": "ipython3",
   "version": "3.6.9"
  }
 },
 "nbformat": 4,
 "nbformat_minor": 1
}
