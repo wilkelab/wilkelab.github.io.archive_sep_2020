{
 "cells": [
  {
   "cell_type": "markdown",
   "metadata": {},
   "source": [
    "# Lab Worksheet 8 Solutions"
   ]
  },
  {
   "cell_type": "markdown",
   "metadata": {},
   "source": [
    "**Problem 1:** Create a list with your favor amino acids (use Google if you can't remember your amino acids); your list should have at least 5 amino acids. Then, complete the following steps using Python.\n",
    "1. Sort the list so that the amino acids appear in alphabetical order.\n",
    "2. Use `len()` to find the number of items in the list.\n",
    "3. Remove any number of amino acids from your list using `.remove()`.\n",
    "4. How many amino acids are in your list now? (Use `len()` again.)\n",
    "5. Add the amino acid \"selenocysteine\" to your list using the function `append()`."
   ]
  },
  {
   "cell_type": "code",
   "execution_count": 1,
   "metadata": {},
   "outputs": [
    {
     "name": "stdout",
     "output_type": "stream",
     "text": [
      "['arginine', 'alanine', 'cysteine', 'histidine', 'alanine', 'glutamic acid', 'leucine']\n"
     ]
    }
   ],
   "source": [
    "# create a list containing the amino acids arginine, alanine, cysteine,\n",
    "# histine, glutamic acid, and leucine\n",
    "aa = ['arginine', 'alanine', 'cysteine', 'histidine', \n",
    "      'alanine', 'glutamic acid', 'leucine']\n",
    "print(aa)"
   ]
  },
  {
   "cell_type": "code",
   "execution_count": 2,
   "metadata": {},
   "outputs": [
    {
     "name": "stdout",
     "output_type": "stream",
     "text": [
      "['alanine', 'alanine', 'arginine', 'cysteine', 'glutamic acid', 'histidine', 'leucine']\n"
     ]
    }
   ],
   "source": [
    "# sort the list alphabetically\n",
    "aa.sort()\n",
    "print(aa)"
   ]
  },
  {
   "cell_type": "code",
   "execution_count": 3,
   "metadata": {},
   "outputs": [
    {
     "name": "stdout",
     "output_type": "stream",
     "text": [
      "length of list = 7\n"
     ]
    }
   ],
   "source": [
    "# find the length of the list\n",
    "aa_length = len(aa)\n",
    "print(\"length of list =\", aa_length)"
   ]
  },
  {
   "cell_type": "code",
   "execution_count": 4,
   "metadata": {},
   "outputs": [
    {
     "name": "stdout",
     "output_type": "stream",
     "text": [
      "length of new list = 6\n"
     ]
    }
   ],
   "source": [
    "# remove 'alanine' from the list\n",
    "aa.remove('alanine')\n",
    "aa_length = len(aa)\n",
    "print(\"length of new list =\", aa_length)"
   ]
  },
  {
   "cell_type": "code",
   "execution_count": 5,
   "metadata": {},
   "outputs": [],
   "source": [
    "# note that only one 'alanine' was removed from the list"
   ]
  },
  {
   "cell_type": "code",
   "execution_count": 6,
   "metadata": {},
   "outputs": [
    {
     "name": "stdout",
     "output_type": "stream",
     "text": [
      "['alanine', 'arginine', 'cysteine', 'glutamic acid', 'histidine', 'leucine', 'selenocysteine']\n"
     ]
    }
   ],
   "source": [
    "# add selenocysteine to the list\n",
    "aa.append(\"selenocysteine\")\n",
    "print(aa)"
   ]
  },
  {
   "cell_type": "markdown",
   "metadata": {},
   "source": [
    "**Problem 2:** Create a dictionary using the amino acids from the first (unedited) list you created above, where the amino acid is the key and their one-letter code is the value (use Google to find the one-letter codes if you can't remember them). Then, complete the following steps using Python.\n",
    "1. Add \"selenocysteine\" to your dictionary and give it a value of \"U\".\n",
    "2. Remove a key-value pair from your dictionary. Google \"python delete entry from dictionary\" to find out how.\n",
    "3. Print out a list of the keys and a list of the values in your dictionary (i.e., the amino acid names and their one-letter codes).\n",
    "4. Create a string from the one-letter codes in your amino acid dictionary. **Hint:** Use a `for` loop. "
   ]
  },
  {
   "cell_type": "code",
   "execution_count": 7,
   "metadata": {},
   "outputs": [
    {
     "name": "stdout",
     "output_type": "stream",
     "text": [
      "{'arginine': 'R', 'alanine': 'A', 'cysteine': 'C', 'histidine': 'H', 'glutamic acid': 'E', 'leucine': 'L'}\n"
     ]
    }
   ],
   "source": [
    "# define a dictionary where the keys are the amino acids\n",
    "# and the values are the one-letter codes\n",
    "aa_dict = {'arginine':'R', 'alanine':'A', 'cysteine':'C', 'histidine':'H',\n",
    "           'alanine':'A', 'glutamic acid':'E', 'leucine':'L'}\n",
    "print(aa_dict)"
   ]
  },
  {
   "cell_type": "code",
   "execution_count": 8,
   "metadata": {},
   "outputs": [
    {
     "name": "stdout",
     "output_type": "stream",
     "text": [
      "{'arginine': 'R', 'alanine': 'A', 'cysteine': 'C', 'histidine': 'H', 'glutamic acid': 'E', 'leucine': 'L', 'selenocysteine': 'U'}\n"
     ]
    }
   ],
   "source": [
    "# add a 'selenocysteine' key to the dictionary\n",
    "# give it a one-letter code (value) of 'U'\n",
    "aa_dict['selenocysteine'] = 'U'\n",
    "print(aa_dict)"
   ]
  },
  {
   "cell_type": "code",
   "execution_count": 9,
   "metadata": {},
   "outputs": [
    {
     "name": "stdout",
     "output_type": "stream",
     "text": [
      "{'arginine': 'R', 'alanine': 'A', 'cysteine': 'C', 'histidine': 'H', 'glutamic acid': 'E', 'leucine': 'L'}\n"
     ]
    }
   ],
   "source": [
    "# remove a key-value pair from the dictionary\n",
    "aa_dict.pop('selenocysteine')\n",
    "print(aa_dict)"
   ]
  },
  {
   "cell_type": "code",
   "execution_count": 10,
   "metadata": {},
   "outputs": [
    {
     "name": "stdout",
     "output_type": "stream",
     "text": [
      "RACHEL\n"
     ]
    }
   ],
   "source": [
    "# define an empty string\n",
    "sequence = ''\n",
    "\n",
    "# loop through the values (letters) in the dictionary\n",
    "# and add each letter to the string\n",
    "for letter in aa_dict.values():\n",
    "    sequence += letter\n",
    "print(sequence)"
   ]
  },
  {
   "cell_type": "markdown",
   "metadata": {},
   "source": [
    "**Problem 3:** Using only list indexing and the string function `split()`, write code that extracts the weight (here the number 7) from `data_string` defined below, and print out the result. What is the type of your final result? Use Python's `type()` function to find out."
   ]
  },
  {
   "cell_type": "code",
   "execution_count": 11,
   "metadata": {},
   "outputs": [
    {
     "name": "stdout",
     "output_type": "stream",
     "text": [
      "7 <class 'str'>\n",
      "7 <class 'str'>\n"
     ]
    }
   ],
   "source": [
    "data_string = \"height: 15; weight: 7; width: 5;\"\n",
    "\n",
    "# here are two approaches for solving this question \n",
    "# there are more ways, particularly using regular expressions!\n",
    "\n",
    "# one way \n",
    "split_data = data_string.split(\": \")\n",
    "weight = split_data[2][0]\n",
    "print(weight, type(weight))\n",
    "\n",
    "# another way\n",
    "split_data = data_string.split(\"; \")\n",
    "weight_raw = split_data[1]\n",
    "weight = weight_raw.split(\" \")[1]\n",
    "print(weight, type(weight))"
   ]
  },
  {
   "cell_type": "markdown",
   "metadata": {},
   "source": [
    "**Problem 4:** Using only string indexing, write code that does each of the following. In each case, store the result in a new variable and print its contents.\n",
    "\n",
    "1. Extract the first 10 characters from the string `data_string`.\n",
    "2. Extract characters 27 to 52 (corresponding to the upper-case letters of the alphabet) from the string `data_string`.\n",
    "3. Extract characters 1 to 26 (corresponding to the lower-case letters of the alphabet) and characters 53 to 62 (corresponding to the numbers) from the string `data_string` and combine them into a single, new string that should look like this: \"abcdefghijklmnopqrstuvwxyz0123456789\"\n",
    "4. Replace the letter at position 5 in `data_string` (the lower-case e) with a captial X. Do **not** use the function `replace()`.\n",
    "5. Take the resulting string from the previous point and convert it all to upper case."
   ]
  },
  {
   "cell_type": "code",
   "execution_count": 12,
   "metadata": {},
   "outputs": [
    {
     "name": "stdout",
     "output_type": "stream",
     "text": [
      "abcdefghij\n",
      "ABCDEFGHIJKLMNOPQRSTUVWXYZ\n",
      "abcdefghijklmnopqrstuvwxyz0123456789\n",
      "abcdXfghijklmnopqrstuvwxyzABCDEFGHIJKLMNOPQRSTUVWXYZ0123456789\n",
      "ABCDXFGHIJKLMNOPQRSTUVWXYZABCDEFGHIJKLMNOPQRSTUVWXYZ0123456789\n"
     ]
    }
   ],
   "source": [
    "data_string = \"abcdefghijklmnopqrstuvwxyzABCDEFGHIJKLMNOPQRSTUVWXYZ0123456789\"\n",
    "\n",
    "# extract the first 10 characters\n",
    "print(data_string[:10])\n",
    "\n",
    "# extract characters 27-52\n",
    "print(data_string[26:52])\n",
    "\n",
    "# extract characters 1-26 and 53-62\n",
    "combined_string = data_string[:26] + data_string[52:]\n",
    "print(combined_string)\n",
    "\n",
    "# replace e with X\n",
    "substituted_string = data_string[:4] + \"X\" + data_string[5:]\n",
    "print(substituted_string)\n",
    "\n",
    "# turn the previous string to uppercase\n",
    "print(substituted_string.upper())"
   ]
  }
 ],
 "metadata": {
  "kernelspec": {
   "display_name": "Python 3",
   "language": "python",
   "name": "python3"
  },
  "language_info": {
   "codemirror_mode": {
    "name": "ipython",
    "version": 3
   },
   "file_extension": ".py",
   "mimetype": "text/x-python",
   "name": "python",
   "nbconvert_exporter": "python",
   "pygments_lexer": "ipython3",
   "version": "3.6.9"
  }
 },
 "nbformat": 4,
 "nbformat_minor": 1
}
