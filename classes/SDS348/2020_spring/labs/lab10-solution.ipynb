{
 "cells": [
  {
   "cell_type": "markdown",
   "metadata": {},
   "source": [
    "# Lab Worksheet 10 Solutions"
   ]
  },
  {
   "cell_type": "markdown",
   "metadata": {},
   "source": [
    "In bioinformatics, we are often interested in determining whether or not two DNA or amino acid sequences are similar. One simple measure of similarity is called pairwise sequence identity. To calculate pairwise sequence identity, we take two sequences, count the number of positions in which both sequences share the same nucleotide or amino acid, and then divide by the total number of positions. For example, say we have these two DNA sequences: "
   ]
  },
  {
   "cell_type": "markdown",
   "metadata": {},
   "source": [
    "```      \n",
    "      Position: 1 2 3 4 5 6\n",
    "    Sequence 1: A T C G T A\n",
    "    Sequence 2: A T G A G A\n",
    "Identical(y/n): y y n n n y \n",
    "```"
   ]
  },
  {
   "cell_type": "markdown",
   "metadata": {},
   "source": [
    "There are 3 positions that match out of 6 total positions, so the sequence identity is 50% (3/6)."
   ]
  },
  {
   "cell_type": "markdown",
   "metadata": {},
   "source": [
    "**Problem 1:** Write code that outputs the example above to a CSV file. The CSV file should be written in **tidy** format, and it should contain one column for `position`, one column for `Sequence 1`, one column for `Sequence 2`, and one column for `Identical`. Use `sequence1` and `sequence2` to write a CSV file. Your code should generate a number for a position and check each position for a match. Once you produced a file, verify that the file was written correctly by opening it in R Studio."
   ]
  },
  {
   "cell_type": "code",
   "execution_count": 1,
   "metadata": {},
   "outputs": [],
   "source": [
    "sequence1 = \"ATCGTA\"\n",
    "sequence2 = \"ATGAGA\"\n",
    "\n",
    "# open a file for writing\n",
    "with open(\"sequence_identity.csv\", \"w\") as file:\n",
    "    \n",
    "    # write variable names as the header\n",
    "    file.write(\"position,sequence_1,sequence_2,identical\\n\")\n",
    "    \n",
    "    # loop over the positions\n",
    "    for i in range(len(sequence1)):\n",
    "        \n",
    "        # check a position for a match\n",
    "        if sequence1[i] == sequence2[i]:\n",
    "            identical = \"y\"\n",
    "        else:\n",
    "            identical = \"n\"\n",
    "            \n",
    "        # new line with values separated by \",\"\n",
    "        line = str(i+1) + \",\" + sequence1[i] + \",\" + sequence2[i] + \",\" + identical + \"\\n\"\n",
    "                \n",
    "        # write the line to the file\n",
    "        file.write(line)\n",
    "        "
   ]
  },
  {
   "cell_type": "markdown",
   "metadata": {},
   "source": [
    "**Problem 2:** Write a function that calculates the pairwise sequence identity for any two sequences of the same length. (Do not worry about properly aligning the two sequences. Sequence alignment is a concept we will return to later.) Your function should take two arguments: `seq1` and `seq2`. Make sure that your function checks for equal sequence lengths. If the input sequences are of different lengths, your function should return an error message. Otherwise, your function should return the pairwise sequence identity as a percentage.\n",
    "\n",
    "Finally, use your function to calculate the pairwise sequence identity of the two amino acid sequences below."
   ]
  },
  {
   "cell_type": "code",
   "execution_count": 2,
   "metadata": {},
   "outputs": [
    {
     "data": {
      "text/plain": [
       "96.32352941176471"
      ]
     },
     "execution_count": 2,
     "metadata": {},
     "output_type": "execute_result"
    }
   ],
   "source": [
    "mouse_histone = \"MARTKQTARKSTGGKAPRKQLATKAARKSAPATGGVKKPHRYRPLTVALREIRRYQKSTELLIRKLPFQRLVREIAQDFKTDLRFQSSAVMALQEACEAYLVGLFEDTNLCAIHAKRVTIMPKDIQLARRIRGERA\"\n",
    "human_histone = \"MARTKQTARKSTGGKAPRKQLATKAQRKSARATGGVKKPHRYRPGTVALREIRRYQKSTELLIRKLPFQRLVTEIAQDFKTDLRFQSSAVNALQEACEAYLVGLFEDTNLCAIHAKRVTIMPKDIQLARRIRGERA\"\n",
    "\n",
    "def calc_seq_identity(seq1, seq2):\n",
    "    \n",
    "    # Check that input sequences are the same length\n",
    "    if len(seq1) != len(seq2):\n",
    "        return \"Error, input sequences are of different lengths.\"\n",
    "    \n",
    "    # Start a counter for the number of matches that we find\n",
    "    matches = 0\n",
    "    \n",
    "    # Loop over the sequences\n",
    "    for i in range(len(seq1)):\n",
    "        # At each position i, check if letters are identical\n",
    "        if seq1[i] == seq2[i]:\n",
    "            matches += 1\n",
    "    \n",
    "    # Calculate a percentage\n",
    "    return (matches/len(seq1))*100\n",
    "\n",
    "calc_seq_identity(mouse_histone, human_histone)\n",
    "    "
   ]
  },
  {
   "cell_type": "markdown",
   "metadata": {},
   "source": [
    "**Problem 3:** Write a function that counts the occurence of each amino acid in a sequence and writes them to a CSV file. Amino acids in the output file should appear in the alphabetical order. Your function should write a file in **tidy** format. Use your function to output amino acid counts in sequences `mouse_histone` and `human_histone` from the previous problem. **HINT:** You can use `sorted()` to sort dictionary keys."
   ]
  },
  {
   "cell_type": "code",
   "execution_count": 4,
   "metadata": {},
   "outputs": [
    {
     "name": "stdout",
     "output_type": "stream",
     "text": [
      "A,18\n",
      "\n",
      "C,2\n",
      "\n",
      "D,4\n",
      "\n",
      "E,7\n",
      "\n",
      "F,4\n",
      "\n",
      "G,6\n",
      "\n",
      "H,2\n",
      "\n",
      "I,7\n",
      "\n",
      "K,13\n",
      "\n",
      "L,13\n",
      "\n",
      "M,3\n",
      "\n",
      "N,1\n",
      "\n",
      "P,6\n",
      "\n",
      "Q,8\n",
      "\n",
      "R,18\n",
      "\n",
      "S,5\n",
      "\n",
      "T,10\n",
      "\n",
      "V,6\n",
      "\n",
      "Y,3\n",
      "\n",
      "A,17\n",
      "\n",
      "C,2\n",
      "\n",
      "D,4\n",
      "\n",
      "E,7\n",
      "\n",
      "F,4\n",
      "\n",
      "G,7\n",
      "\n",
      "H,2\n",
      "\n",
      "I,7\n",
      "\n",
      "K,13\n",
      "\n",
      "L,12\n",
      "\n",
      "M,2\n",
      "\n",
      "N,2\n",
      "\n",
      "P,5\n",
      "\n",
      "Q,9\n",
      "\n",
      "R,18\n",
      "\n",
      "S,5\n",
      "\n",
      "T,11\n",
      "\n",
      "V,6\n",
      "\n",
      "Y,3\n",
      "\n"
     ]
    }
   ],
   "source": [
    "mouse_histone = \"MARTKQTARKSTGGKAPRKQLATKAARKSAPATGGVKKPHRYRPLTVALREIRRYQKSTELLIRKLPFQRLVREIAQDFKTDLRFQSSAVMALQEACEAYLVGLFEDTNLCAIHAKRVTIMPKDIQLARRIRGERA\"\n",
    "human_histone = \"MARTKQTARKSTGGKAPRKQLATKAQRKSARATGGVKKPHRYRPGTVALREIRRYQKSTELLIRKLPFQRLVTEIAQDFKTDLRFQSSAVNALQEACEAYLVGLFEDTNLCAIHAKRVTIMPKDIQLARRIRGERA\"\n",
    "\n",
    "# define function to count amino acids and write them to a file\n",
    "def count_aa(seq, csv_file):\n",
    "    \n",
    "    aa_dict = {} # dictionary to store amino acid counts\n",
    "    \n",
    "    # loop over amino acids in the sequence\n",
    "    for aa in seq:\n",
    "        \n",
    "        # check if amino acid is in the dictionary\n",
    "        if aa in aa_dict:\n",
    "            aa_dict[aa] += 1 # increment the count of an amino acid by 1\n",
    "        else:\n",
    "            aa_dict[aa] = 1 # set the count of an amino acid to 1\n",
    "    \n",
    "    # open a file for writing\n",
    "    with open(csv_file, \"w\") as file:\n",
    "        \n",
    "        # sort amino acids \n",
    "        aa_list=sorted(aa_dict.keys())\n",
    "        \n",
    "        # write variable names as the header\n",
    "        file.write(\"amino_acid,count\\n\")\n",
    "        \n",
    "        # loop over sorted keys\n",
    "        for aa in aa_list:\n",
    "            # new line with values separated by \",\"\n",
    "            line = str(aa) + ',' + str(aa_dict[aa]) + '\\n'\n",
    "            print(line)\n",
    "            \n",
    "            # write to the file\n",
    "            file.write(line)\n",
    "    \n",
    "# run the function on sequences mouse_histone and human_histone\n",
    "count_aa(mouse_histone,\"mouse_histone_aa_count.csv\")\n",
    "count_aa(human_histone,\"human_histone_aa_count.csv\")"
   ]
  }
 ],
 "metadata": {
  "kernelspec": {
   "display_name": "Python 3",
   "language": "python",
   "name": "python3"
  },
  "language_info": {
   "codemirror_mode": {
    "name": "ipython",
    "version": 3
   },
   "file_extension": ".py",
   "mimetype": "text/x-python",
   "name": "python",
   "nbconvert_exporter": "python",
   "pygments_lexer": "ipython3",
   "version": "3.6.9"
  }
 },
 "nbformat": 4,
 "nbformat_minor": 1
}
