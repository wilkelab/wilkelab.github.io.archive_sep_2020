{
 "cells": [
  {
   "cell_type": "markdown",
   "metadata": {},
   "source": [
    "# Lab Worksheet 11 Solutions"
   ]
  },
  {
   "cell_type": "markdown",
   "metadata": {},
   "source": [
    "Last week, we talked about how to use Entrez to access genomic information from the NCBI database. This week, we're focusing on how to use Entrez and Medline to search the PubMed (literature) database. For this module, a list of important abbreviations and their meanings can be found here: https://www.nlm.nih.gov/bsd/mms/medlineelements.html"
   ]
  },
  {
   "cell_type": "markdown",
   "metadata": {},
   "source": [
    "**Problem 1:**\n",
    "\n",
    "(a) Download the Medline record for the publication with pubmed id 32191846 and parse it with the `Medline.parse()` function. Then print a list of all key-value pairs returned in that record. \n",
    "\n",
    "(b) Use an Entrez esearch query of the pubmed database to find out how many publications \"Marcotte EM\" wrote in 2020.\n",
    "\n",
    "(c) From the results of part (b), compile a dictionary of all the publication titles and abstracts for \"Marcotte EM\" in 2020. Print each publication title, followed by that paper's abstract."
   ]
  },
  {
   "cell_type": "code",
   "execution_count": 1,
   "metadata": {},
   "outputs": [
    {
     "name": "stdout",
     "output_type": "stream",
     "text": [
      "PMID: 32191846\n",
      "OWN: NLM\n",
      "STAT: Publisher\n",
      "LR: 20200319\n",
      "IS: 1097-4172 (Electronic) 0092-8674 (Linking)\n",
      "DP: 2020 Mar 16\n",
      "TI: A Pan-plant Protein Complex Map Reveals Deep Conservation and Novel Assemblies.\n",
      "LID: S0092-8674(20)30226-9 [pii] 10.1016/j.cell.2020.02.049 [doi]\n",
      "AB: Plants are foundational for global ecological and economic systems, but most plant proteins remain uncharacterized. Protein interaction networks often suggest protein functions and open new avenues to characterize genes and proteins. We therefore systematically determined protein complexes from 13 plant species of scientific and agricultural importance, greatly expanding the known repertoire of stable protein complexes in plants. By using co-fractionation mass spectrometry, we recovered known complexes, confirmed complexes predicted to occur in plants, and identified previously unknown interactions conserved over 1.1 billion years of green plant evolution. Several novel complexes are involved in vernalization and pathogen defense, traits critical for agriculture. We also observed plant analogs of animal complexes with distinct molecular assemblies, including a megadalton-scale tRNA multi-synthetase complex. The resulting map offers a cross-species view of conserved, stable protein assemblies shared across plant cells and provides a mechanistic, biochemical framework for interpreting plant genetics and mutant phenotypes.\n",
      "CI: ['Copyright (c) 2020 Elsevier Inc. All rights reserved.']\n",
      "FAU: ['McWhite, Claire D', 'Papoulas, Ophelia', 'Drew, Kevin', 'Cox, Rachael M', 'June, Viviana', 'Dong, Oliver Xiaoou', 'Kwon, Taejoon', 'Wan, Cuihong', 'Salmi, Mari L', 'Roux, Stanley J', 'Browning, Karen S', 'Chen, Z Jeffrey', 'Ronald, Pamela C', 'Marcotte, Edward M']\n",
      "AU: ['McWhite CD', 'Papoulas O', 'Drew K', 'Cox RM', 'June V', 'Dong OX', 'Kwon T', 'Wan C', 'Salmi ML', 'Roux SJ', 'Browning KS', 'Chen ZJ', 'Ronald PC', 'Marcotte EM']\n",
      "AD: Department of Molecular Biosciences, Center for Systems and Synthetic Biology, University of Texas, Austin, TX 78712, USA. Department of Molecular Biosciences, Center for Systems and Synthetic Biology, University of Texas, Austin, TX 78712, USA. Department of Molecular Biosciences, Center for Systems and Synthetic Biology, University of Texas, Austin, TX 78712, USA. Department of Molecular Biosciences, Center for Systems and Synthetic Biology, University of Texas, Austin, TX 78712, USA. Department of Molecular Biosciences, Center for Systems and Synthetic Biology, University of Texas, Austin, TX 78712, USA. Department of Plant Pathology and The Genome Center, University of California, Davis, Davis, CA 95616, USA; Joint Bioenergy Institute, Emeryville, CA 94608, USA. Department of Biomedical Engineering, School of Life Sciences, Ulsan National Institute of Science and Technology (UNIST), 50 UNIST-gil, Ulju-gun, Ulsan 44919, Republic of Korea. Department of Molecular Biosciences, Center for Systems and Synthetic Biology, University of Texas, Austin, TX 78712, USA; Hubei Key Lab of Genetic Regulation and Integrative Biology, School of Life Sciences, Central China Normal University, No. 152 Luoyu Road, Wuhan 430079, P.R. China. Department of Molecular Biosciences, Center for Systems and Synthetic Biology, University of Texas, Austin, TX 78712, USA. Department of Molecular Biosciences, Center for Systems and Synthetic Biology, University of Texas, Austin, TX 78712, USA. Department of Molecular Biosciences, Center for Systems and Synthetic Biology, University of Texas, Austin, TX 78712, USA. Department of Molecular Biosciences, Center for Systems and Synthetic Biology, University of Texas, Austin, TX 78712, USA. Department of Plant Pathology and The Genome Center, University of California, Davis, Davis, CA 95616, USA; Joint Bioenergy Institute, Emeryville, CA 94608, USA. Department of Molecular Biosciences, Center for Systems and Synthetic Biology, University of Texas, Austin, TX 78712, USA. Electronic address: marcotte@icmb.utexas.edu.\n",
      "LA: ['eng']\n",
      "PT: ['Journal Article']\n",
      "DEP: 20200316\n",
      "PL: United States\n",
      "TA: Cell\n",
      "JT: Cell\n",
      "JID: 0413066\n",
      "SB: IM\n",
      "OTO: ['NOTNLM']\n",
      "OT: ['co-fractionation mass spectrometry (CF-MS)', 'comparative proteomics', 'cross-linking mass spectrometry (CL-MS)', 'evolution', 'interaction-to-phenotype', 'pathogen defense', 'plants', 'protein complexes', 'protein interactions']\n",
      "COIS: ['Declaration of Interests The authors declare no competing interests.']\n",
      "EDAT: 2020/03/20 06:00\n",
      "MHDA: 2020/03/20 06:00\n",
      "CRDT: ['2020/03/20 06:00']\n",
      "PHST: ['2019/10/15 00:00 [received]', '2020/01/08 00:00 [revised]', '2020/02/21 00:00 [accepted]', '2020/03/20 06:00 [entrez]', '2020/03/20 06:00 [pubmed]', '2020/03/20 06:00 [medline]']\n",
      "AID: ['S0092-8674(20)30226-9 [pii]', '10.1016/j.cell.2020.02.049 [doi]']\n",
      "PST: aheadofprint\n",
      "SO: Cell. 2020 Mar 16. pii: S0092-8674(20)30226-9. doi: 10.1016/j.cell.2020.02.049.\n"
     ]
    }
   ],
   "source": [
    "# Problem 1a\n",
    "\n",
    "from Bio import Entrez, Medline\n",
    "Entrez.email = \"rachaelcox@utexas.edu\"\n",
    "\n",
    "handle = Entrez.efetch(db=\"pubmed\", id='32191846', rettype=\"medline\", retmode=\"text\")\n",
    "records = Medline.parse(handle) ## Hint\n",
    "record = list(records)[0] ## Hint\n",
    "handle.close()\n",
    "\n",
    "for key in record.keys():\n",
    "    print(key + \":\", record[key])"
   ]
  },
  {
   "cell_type": "code",
   "execution_count": 2,
   "metadata": {},
   "outputs": [
    {
     "name": "stdout",
     "output_type": "stream",
     "text": [
      "Publications found: ['32191846', '32129706', '32129623', '31825225', '31726096', '31416630']\n",
      "Number of publications: 6\n"
     ]
    }
   ],
   "source": [
    "# Problem 1b\n",
    "\n",
    "from Bio import Entrez\n",
    "Entrez.email = \"rachaelcox@utexas.edu\"\n",
    "\n",
    "handle = Entrez.esearch(db=\"pubmed\",  # database to search\n",
    "                        term=\"Marcotte EM[Author] AND 2020[Date - Publication]\",  # search term\n",
    "                        retmax=10  # number of results that are returned\n",
    "                        )\n",
    "record = Entrez.read(handle)\n",
    "handle.close()\n",
    "\n",
    "# search returns PubMed IDs (pmids)\n",
    "pmid_list = record[\"IdList\"]\n",
    "print(\"Publications found:\", pmid_list)\n",
    "print(\"Number of publications:\", len(pmid_list))"
   ]
  },
  {
   "cell_type": "code",
   "execution_count": 3,
   "metadata": {},
   "outputs": [
    {
     "name": "stdout",
     "output_type": "stream",
     "text": [
      "Publication information for \"Marcotte EM\" in 2020:\n",
      "\n",
      "\u001b[1mA Pan-plant Protein Complex Map Reveals Deep Conservation and Novel Assemblies.\n",
      "\u001b[0mPlants are foundational for global ecological and economic systems, but most plant proteins remain uncharacterized. Protein interaction networks often suggest protein functions and open new avenues to characterize genes and proteins. We therefore systematically determined protein complexes from 13 plant species of scientific and agricultural importance, greatly expanding the known repertoire of stable protein complexes in plants. By using co-fractionation mass spectrometry, we recovered known complexes, confirmed complexes predicted to occur in plants, and identified previously unknown interactions conserved over 1.1 billion years of green plant evolution. Several novel complexes are involved in vernalization and pathogen defense, traits critical for agriculture. We also observed plant analogs of animal complexes with distinct molecular assemblies, including a megadalton-scale tRNA multi-synthetase complex. The resulting map offers a cross-species view of conserved, stable protein assemblies shared across plant cells and provides a mechanistic, biochemical framework for interpreting plant genetics and mutant phenotypes.\n",
      "\n",
      "\u001b[1mAbundances of transcripts, proteins, and metabolites in the cell cycle of budding yeast reveal coordinate control of lipid metabolism.\n",
      "\u001b[0mEstablishing the pattern of abundance of molecules of interest during cell division has been a long-standing goal of cell cycle studies. Here, for the first time in any system, we present experiment-matched datasets of the levels of RNAs, proteins, metabolites, and lipids from un-arrested, growing, and synchronously dividing yeast cells. Overall, transcript and protein levels were correlated, but specific processes that appeared to change at the RNA level (e.g., ribosome biogenesis), did not do so at the protein level, and vice versa. We also found no significant changes in codon usage or the ribosome content during the cell cycle. We describe an unexpected mitotic peak in the abundance of ergosterol and thiamine biosynthesis enzymes. Although the levels of several metabolites changed in the cell cycle, by far the most significant changes were in the lipid repertoire, with phospholipids and triglycerides peaking strongly late in the cell cycle. Our findings provide an integrated view of the abundance of biomolecules in the eukaryotic cell cycle and point to a coordinate mitotic control of lipid metabolism.\n",
      "\n",
      "\u001b[1mStructural Biology in the Multi-Omics Era.\n",
      "\u001b[0mRapid developments in cryogenic electron microscopy have opened new avenues to probe the structures of protein assemblies in their near native states. Recent studies have begun applying single -particle analysis to heterogeneous mixtures, revealing the potential of structural-omics approaches that combine the power of mass spectrometry and electron microscopy. Here we highlight advances and challenges in sample preparation, data processing, and molecular modeling for handling increasingly complex mixtures. Such advances will help structural-omics methods extend to cellular-level models of structural biology.\n",
      "\n",
      "\u001b[1mSynthesis of Carboxy ATTO 647N Using Redox Cycling for Xanthone Access.\n",
      "\u001b[0mA synthesis of the carbopyronine dye Carboxy ATTO 647N from simple materials is reported. This route proceeds in 11 forward steps from 3-bromoaniline with the key xanthone intermediate formed using a new oxidation methodology. The step utilizes an oxidation cycle with base, water, iodine, and more than doubles the yield of the standard permanganate oxidation methodology, accessing gram-scale quantities of this late-stage product. From this, Carboxy ATTO 647N was prepared in only four additional steps. This facile route to a complex fluorophore is expected to enable further studies in fluorescence imaging.\n",
      "\n",
      "\u001b[1mSeparating distinct structures of multiple macromolecular assemblies from cryo-EM projections.\n",
      "\u001b[0mSingle particle analysis for structure determination in cryo-electron microscopy is traditionally applied to samples purified to near homogeneity as current reconstruction algorithms are not designed to handle heterogeneous mixtures of structures from many distinct macromolecular complexes. We extend on long established methods and demonstrate that relating two-dimensional projection images by their common lines in a graphical framework is sufficient for partitioning distinct protein and multiprotein complexes within the same data set. The feasibility of this approach is first demonstrated on a large set of synthetic reprojections from 35 unique macromolecular structures spanning a mass range of hundreds to thousands of kilodaltons. We then apply our algorithm on cryo-EM data collected from a mixture of five protein complexes and use existing methods to solve multiple three-dimensional structures ab initio. Incorporating methods to sort single particle cryo-EM data from extremely heterogeneous mixtures will alleviate the need for stringent purification and pave the way toward investigation of samples containing many unique structures.\n",
      "\n",
      "\u001b[1mBringing Microscopy-By-Sequencing into View.\n",
      "\u001b[0mThe spatial distribution of molecules and cells is fundamental to understanding biological systems. Traditionally, microscopies based on electromagnetic waves such as visible light have been used to localize cellular components by direct visualization. However, these techniques suffer from limitations of transmissibility and throughput. Complementary to optical approaches, biochemical techniques such as crosslinking can colocalize molecules without suffering the same limitations. However, biochemical approaches are often unable to combine individual colocalizations into a map across entire cells or tissues. Microscopy-by-sequencing techniques aim to biochemically colocalize DNA-barcoded molecules and, by tracking their thus unique identities, reconcile all colocalizations into a global spatial map. Here, we review this new field and discuss its enormous potential to answer a broad spectrum of questions.\n",
      "\n"
     ]
    }
   ],
   "source": [
    "# Problem 1c\n",
    "\n",
    "from Bio import Medline\n",
    "Entrez.email = \"rachaelcox@utexas.edu\"\n",
    "\n",
    "handle = Entrez.efetch(db=\"pubmed\", id=pmid_list, rettype=\"medline\", retmode=\"text\")\n",
    "records = Medline.parse(handle)\n",
    "\n",
    "lit_dict = {} # start with empty list of paper titles\n",
    "for record in records:\n",
    "    title = record['TI']\n",
    "    abstract = record['AB']\n",
    "    lit_dict[title] = abstract\n",
    "\n",
    "handle.close()\n",
    "print('Publication information for \"Marcotte EM\" in 2020:\\n')\n",
    "for title in lit_dict:\n",
    "    print('\\033[1m' + title) # print title in bold with '\\033[1m'\n",
    "    print('\\033[0m' + lit_dict[title]) # switch back to regular font with '\\033[0m'\n",
    "    print()"
   ]
  },
  {
   "cell_type": "markdown",
   "metadata": {},
   "source": [
    "### If that was easy..."
   ]
  },
  {
   "cell_type": "markdown",
   "metadata": {},
   "source": [
    "**Problem 4:** From the results of part (b), compile a dictionary with each publication title and its associated author list (AU), source (SO), and abstract (AB) for \"Marcotte EM\" in 2020. Print each publication title, followed by that paper's author list, then source, then abstract."
   ]
  },
  {
   "cell_type": "code",
   "execution_count": 4,
   "metadata": {},
   "outputs": [
    {
     "name": "stdout",
     "output_type": "stream",
     "text": [
      "Publication information for \"Marcotte EM\" in 2020:\n",
      "\n",
      "\u001b[1m\n",
      "A Pan-plant Protein Complex Map Reveals Deep Conservation and Novel Assemblies.\n",
      "\u001b[0mMcWhite CD, Papoulas O, Drew K, Cox RM, June V, Dong OX, Kwon T, Wan C, Salmi ML, Roux SJ, Browning KS, Chen ZJ, Ronald PC, Marcotte EM\n",
      "Cell. 2020 Mar 16. pii: S0092-8674(20)30226-9. doi: 10.1016/j.cell.2020.02.049.\n",
      "Plants are foundational for global ecological and economic systems, but most plant proteins remain uncharacterized. Protein interaction networks often suggest protein functions and open new avenues to characterize genes and proteins. We therefore systematically determined protein complexes from 13 plant species of scientific and agricultural importance, greatly expanding the known repertoire of stable protein complexes in plants. By using co-fractionation mass spectrometry, we recovered known complexes, confirmed complexes predicted to occur in plants, and identified previously unknown interactions conserved over 1.1 billion years of green plant evolution. Several novel complexes are involved in vernalization and pathogen defense, traits critical for agriculture. We also observed plant analogs of animal complexes with distinct molecular assemblies, including a megadalton-scale tRNA multi-synthetase complex. The resulting map offers a cross-species view of conserved, stable protein assemblies shared across plant cells and provides a mechanistic, biochemical framework for interpreting plant genetics and mutant phenotypes.\n",
      "\u001b[1m\n",
      "Abundances of transcripts, proteins, and metabolites in the cell cycle of budding yeast reveal coordinate control of lipid metabolism.\n",
      "\u001b[0mBlank HM, Papoulas O, Maitra N, Garge R, Kennedy BK, Schilling B, Marcotte EM, Polymenis M\n",
      "Mol Biol Cell. 2020 Mar 4:mbcE19120708. doi: 10.1091/mbc.E19-12-0708.\n",
      "Establishing the pattern of abundance of molecules of interest during cell division has been a long-standing goal of cell cycle studies. Here, for the first time in any system, we present experiment-matched datasets of the levels of RNAs, proteins, metabolites, and lipids from un-arrested, growing, and synchronously dividing yeast cells. Overall, transcript and protein levels were correlated, but specific processes that appeared to change at the RNA level (e.g., ribosome biogenesis), did not do so at the protein level, and vice versa. We also found no significant changes in codon usage or the ribosome content during the cell cycle. We describe an unexpected mitotic peak in the abundance of ergosterol and thiamine biosynthesis enzymes. Although the levels of several metabolites changed in the cell cycle, by far the most significant changes were in the lipid repertoire, with phospholipids and triglycerides peaking strongly late in the cell cycle. Our findings provide an integrated view of the abundance of biomolecules in the eukaryotic cell cycle and point to a coordinate mitotic control of lipid metabolism.\n",
      "\u001b[1m\n",
      "Structural Biology in the Multi-Omics Era.\n",
      "\u001b[0mMcCafferty CL, Verbeke EJ, Marcotte EM, Taylor DW\n",
      "J Chem Inf Model. 2020 Mar 10. doi: 10.1021/acs.jcim.9b01164.\n",
      "Rapid developments in cryogenic electron microscopy have opened new avenues to probe the structures of protein assemblies in their near native states. Recent studies have begun applying single -particle analysis to heterogeneous mixtures, revealing the potential of structural-omics approaches that combine the power of mass spectrometry and electron microscopy. Here we highlight advances and challenges in sample preparation, data processing, and molecular modeling for handling increasingly complex mixtures. Such advances will help structural-omics methods extend to cellular-level models of structural biology.\n",
      "\u001b[1m\n",
      "Synthesis of Carboxy ATTO 647N Using Redox Cycling for Xanthone Access.\n",
      "\u001b[0mBachman JL, Pavlich CI, Boley AJ, Marcotte EM, Anslyn EV\n",
      "Org Lett. 2020 Jan 17;22(2):381-385. doi: 10.1021/acs.orglett.9b03981. Epub 2019 Dec 11.\n",
      "A synthesis of the carbopyronine dye Carboxy ATTO 647N from simple materials is reported. This route proceeds in 11 forward steps from 3-bromoaniline with the key xanthone intermediate formed using a new oxidation methodology. The step utilizes an oxidation cycle with base, water, iodine, and more than doubles the yield of the standard permanganate oxidation methodology, accessing gram-scale quantities of this late-stage product. From this, Carboxy ATTO 647N was prepared in only four additional steps. This facile route to a complex fluorophore is expected to enable further studies in fluorescence imaging.\n",
      "\u001b[1m\n",
      "Separating distinct structures of multiple macromolecular assemblies from cryo-EM projections.\n",
      "\u001b[0mVerbeke EJ, Zhou Y, Horton AP, Mallam AL, Taylor DW, Marcotte EM\n",
      "J Struct Biol. 2020 Jan 1;209(1):107416. doi: 10.1016/j.jsb.2019.107416. Epub 2019 Nov 11.\n",
      "Single particle analysis for structure determination in cryo-electron microscopy is traditionally applied to samples purified to near homogeneity as current reconstruction algorithms are not designed to handle heterogeneous mixtures of structures from many distinct macromolecular complexes. We extend on long established methods and demonstrate that relating two-dimensional projection images by their common lines in a graphical framework is sufficient for partitioning distinct protein and multiprotein complexes within the same data set. The feasibility of this approach is first demonstrated on a large set of synthetic reprojections from 35 unique macromolecular structures spanning a mass range of hundreds to thousands of kilodaltons. We then apply our algorithm on cryo-EM data collected from a mixture of five protein complexes and use existing methods to solve multiple three-dimensional structures ab initio. Incorporating methods to sort single particle cryo-EM data from extremely heterogeneous mixtures will alleviate the need for stringent purification and pave the way toward investigation of samples containing many unique structures.\n",
      "\u001b[1m\n",
      "Bringing Microscopy-By-Sequencing into View.\n",
      "\u001b[0mBoulgakov AA, Ellington AD, Marcotte EM\n",
      "Trends Biotechnol. 2020 Feb;38(2):154-162. doi: 10.1016/j.tibtech.2019.06.001. Epub 2019 Aug 12.\n",
      "The spatial distribution of molecules and cells is fundamental to understanding biological systems. Traditionally, microscopies based on electromagnetic waves such as visible light have been used to localize cellular components by direct visualization. However, these techniques suffer from limitations of transmissibility and throughput. Complementary to optical approaches, biochemical techniques such as crosslinking can colocalize molecules without suffering the same limitations. However, biochemical approaches are often unable to combine individual colocalizations into a map across entire cells or tissues. Microscopy-by-sequencing techniques aim to biochemically colocalize DNA-barcoded molecules and, by tracking their thus unique identities, reconcile all colocalizations into a global spatial map. Here, we review this new field and discuss its enormous potential to answer a broad spectrum of questions.\n"
     ]
    }
   ],
   "source": [
    "from Bio import Medline\n",
    "handle = Entrez.efetch(db=\"pubmed\", id=pmid_list, rettype=\"medline\", retmode=\"text\")\n",
    "records = Medline.parse(handle)\n",
    "\n",
    "lit_dict = {} # start with empty list of paper titles\n",
    "for record in records:\n",
    "    info = []\n",
    "    title = record['TI']\n",
    "    info.append(record['AU'])\n",
    "    info.append(record['SO'])\n",
    "    info.append(record['AB'])\n",
    "    lit_dict[title] = info\n",
    "\n",
    "handle.close()\n",
    "\n",
    "print('Publication information for \"Marcotte EM\" in 2020:\\n')\n",
    "for title in lit_dict:\n",
    "    print('\\033[1m') # switch to bold fond for title \n",
    "    print(title) # print title\n",
    "    print('\\033[0m', end = '') # switch back to regular font\n",
    "    print(*lit_dict[title][0], sep = ', ')\n",
    "    print(lit_dict[title][1])\n",
    "    print(lit_dict[title][2])"
   ]
  }
 ],
 "metadata": {
  "kernelspec": {
   "display_name": "Python 3",
   "language": "python",
   "name": "python3"
  },
  "language_info": {
   "codemirror_mode": {
    "name": "ipython",
    "version": 3
   },
   "file_extension": ".py",
   "mimetype": "text/x-python",
   "name": "python",
   "nbconvert_exporter": "python",
   "pygments_lexer": "ipython3",
   "version": "3.6.9"
  }
 },
 "nbformat": 4,
 "nbformat_minor": 1
}
