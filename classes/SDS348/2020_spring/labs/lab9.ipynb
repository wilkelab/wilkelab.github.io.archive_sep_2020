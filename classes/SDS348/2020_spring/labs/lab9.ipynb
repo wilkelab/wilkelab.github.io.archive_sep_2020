{
 "cells": [
  {
   "cell_type": "markdown",
   "metadata": {},
   "source": [
    "# Lab Worksheet 9"
   ]
  },
  {
   "cell_type": "markdown",
   "metadata": {},
   "source": [
    "**Problem 1:** Write a class `NameSet` that collects a unique set of names. Within the class, names should be stored in a list. `NameSet` should accept names in any format (upper case, lower case, etc.), but keep them capitalized. \n",
    "\n",
    "Hint - when solving this question and the next question, these string functions may be useful: `upper()`, `lower()`, and `capitalize()`."
   ]
  },
  {
   "cell_type": "code",
   "execution_count": 1,
   "metadata": {},
   "outputs": [],
   "source": [
    "class NameSet:\n",
    "    \n",
    "    def __init__(self):\n",
    "        self.unique_list = []  # creates an empty list to keep unique names \n"
   ]
  },
  {
   "cell_type": "markdown",
   "metadata": {},
   "source": [
    "**Problem 2:** Write a class `CountNuc` that stores the counts of A's, C's, G's, and T's in a DNA sequence. Your class should be able to accept both upper and lower case DNA sequences. Nucleotide counts in `CountNuc` should be stored in a dictionary. Once your class has been written, confirm your class operates correctly on a test string \"AGct\". After that, determine the counts of A's, C's, G's, and T's in `dna_string` string given below, and print the counts."
   ]
  },
  {
   "cell_type": "code",
   "execution_count": 2,
   "metadata": {},
   "outputs": [],
   "source": [
    "class CountNuc:\n",
    "\n",
    "    def __init__(self):\n",
    "        self.nuc_dict = {}   # creates an empty dictionary to keep counts of nucleotides\n"
   ]
  },
  {
   "cell_type": "code",
   "execution_count": 3,
   "metadata": {},
   "outputs": [],
   "source": [
    "# test the class `CountNuc` with small test string\n",
    "test_dna_string = \"AGct\"\n",
    "\n",
    "# determine the counts of A's, C's, G's and T's of this string:\n",
    "dna_string = \"ATCGAGCTataCCGATACAGGcTGGTATAAAAgatTC\""
   ]
  }
 ],
 "metadata": {
  "kernelspec": {
   "display_name": "Python 3",
   "language": "python",
   "name": "python3"
  },
  "language_info": {
   "codemirror_mode": {
    "name": "ipython",
    "version": 3
   },
   "file_extension": ".py",
   "mimetype": "text/x-python",
   "name": "python",
   "nbconvert_exporter": "python",
   "pygments_lexer": "ipython3",
   "version": "3.6.8"
  },
  "varInspector": {
   "cols": {
    "lenName": 16,
    "lenType": 16,
    "lenVar": 40
   },
   "kernels_config": {
    "python": {
     "delete_cmd_postfix": "",
     "delete_cmd_prefix": "del ",
     "library": "var_list.py",
     "varRefreshCmd": "print(var_dic_list())"
    },
    "r": {
     "delete_cmd_postfix": ") ",
     "delete_cmd_prefix": "rm(",
     "library": "var_list.r",
     "varRefreshCmd": "cat(var_dic_list()) "
    }
   },
   "types_to_exclude": [
    "module",
    "function",
    "builtin_function_or_method",
    "instance",
    "_Feature"
   ],
   "window_display": false
  }
 },
 "nbformat": 4,
 "nbformat_minor": 1
}
