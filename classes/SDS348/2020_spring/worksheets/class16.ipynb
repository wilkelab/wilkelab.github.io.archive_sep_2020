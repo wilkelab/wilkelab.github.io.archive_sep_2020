{
 "cells": [
  {
   "cell_type": "markdown",
   "metadata": {},
   "source": [
    "# In-class worksheet 16\n",
    "\n",
    "**Mar 12, 2020**\n",
    "\n",
    "## Introduction to functions in Python\n",
    "Python, like all computer languages, contains many built-in functions, such as `print()`, `range()`, `len()`. These functions carry out commonly-used tasks. Because most programming problems have their own commonly-used tasks specific to the given problem, it is often necessary to write custom functions. In fact, functions are an integral part of programming, allowing your code to be modular, repeatable, and readable.\n",
    "\n",
    "In Python, functions are defined with the `def` command. Similar to `if` and `for`, code following the `def` command must be indented. Functions generally take arguments as input and return results from the computation as output. To end the function and return a result, we use the command `return`.\n",
    "\n",
    "The basic format for defining a function is:\n",
    "```\n",
    "def my_function(argument1, argument2, ...):\n",
    "    code \n",
    "    code\n",
    "    more code\n",
    "    return x\n",
    "```\n",
    "\n",
    "Note that the variable names (above, `argument1` and `argument2`) are completely arbitrary and exist only within the code of the function itself.\n",
    "\n",
    "Here is an example of a simple function to add two numbers together:"
   ]
  },
  {
   "cell_type": "code",
   "execution_count": 1,
   "metadata": {},
   "outputs": [
    {
     "name": "stdout",
     "output_type": "stream",
     "text": [
      "103\n",
      "103\n"
     ]
    }
   ],
   "source": [
    "# Define a function called `add`. \n",
    "# This function takes 2 arguments and returns their sum.\n",
    "def add(x, y):\n",
    "    return x + y\n",
    "\n",
    "# To execute the code inside the function, run the function:\n",
    "print(add(4, 99))\n",
    "\n",
    "# We can also use variables as input to the function:\n",
    "number1 = 4\n",
    "number2 = 99\n",
    "print(add(number1, number2))"
   ]
  },
  {
   "cell_type": "markdown",
   "metadata": {},
   "source": [
    "Variables that are defined inside of functions do not exist outside of the function. For example, in this case, the function `add` defines a variable `result` but this does not change the value of the variable `result` outside of the function:"
   ]
  },
  {
   "cell_type": "code",
   "execution_count": 2,
   "metadata": {},
   "outputs": [
    {
     "name": "stdout",
     "output_type": "stream",
     "text": [
      "15\n",
      "15\n"
     ]
    }
   ],
   "source": [
    "result = 15 # define variable `result`\n",
    "\n",
    "def add(x, y): # define function `add`, which uses a variable `result`\n",
    "    result = x + y\n",
    "    return result\n",
    "\n",
    "print(result) # result is 15\n",
    "add(1, 2) # add numbers 1 and 2\n",
    "print(result) # result still 15"
   ]
  },
  {
   "cell_type": "markdown",
   "metadata": {},
   "source": [
    "Function arguments can have default values, in which case they don't need to be provided when the function is called:"
   ]
  },
  {
   "cell_type": "code",
   "execution_count": 3,
   "metadata": {},
   "outputs": [
    {
     "name": "stdout",
     "output_type": "stream",
     "text": [
      "5\n",
      "7\n"
     ]
    }
   ],
   "source": [
    "# Use 0 as default value for y. If it is not given, the add\n",
    "# function adds nothing:\n",
    "def add(x, y = 0):\n",
    "    result = x + y\n",
    "    return result\n",
    "\n",
    "print(add(5))    # 5\n",
    "print(add(5, 2)) # 7"
   ]
  },
  {
   "cell_type": "markdown",
   "metadata": {},
   "source": [
    "The order of arguments matters. Arguments need to be provided in the order in which they are listed in the function definition. As an example, consider a simple function that divides two numbers. Obviously, it matters which number is the numerator and which the denominator:"
   ]
  },
  {
   "cell_type": "code",
   "execution_count": 4,
   "metadata": {},
   "outputs": [
    {
     "name": "stdout",
     "output_type": "stream",
     "text": [
      "2.0\n",
      "0.5\n"
     ]
    }
   ],
   "source": [
    "# Simple divide function\n",
    "def divide(numerator, denominator):\n",
    "    return numerator / denominator\n",
    "\n",
    "print(divide(10, 5)) # 10/5 = 2\n",
    "print(divide(5, 10)) # 5/10 = 0.5"
   ]
  },
  {
   "cell_type": "markdown",
   "metadata": {},
   "source": [
    "Functions can return more than one result at once. This is done by separating the results by commas in the `return` statement:"
   ]
  },
  {
   "cell_type": "code",
   "execution_count": 5,
   "metadata": {},
   "outputs": [
    {
     "name": "stdout",
     "output_type": "stream",
     "text": [
      "7.333333333333333\n",
      "4.0\n"
     ]
    }
   ],
   "source": [
    "# Define a function to divide two numbers.\n",
    "# The function returns both the dividend and remainder:\n",
    "def divide_remain(x, y):\n",
    "    div = x / y\n",
    "    rem = x % y     # % is the modulo operator which returns the remainder\n",
    "    return div, rem # return multiple values separated by commas\n",
    "\n",
    "# Run the function and save returned values\n",
    "a = 88.0\n",
    "b = 12.0\n",
    "# Returned values can be saved to unique variables\n",
    "ratio, remainder = divide_remain(a, b)\n",
    "print(ratio)\n",
    "print(remainder)"
   ]
  },
  {
   "cell_type": "code",
   "execution_count": 6,
   "metadata": {},
   "outputs": [
    {
     "name": "stdout",
     "output_type": "stream",
     "text": [
      "7.333333333333333\n",
      "4.0\n"
     ]
    }
   ],
   "source": [
    "# Alternatively, returned values can be saved to a single variable\n",
    "# and then indexed\n",
    "results = divide_remain(a, b)\n",
    "\n",
    "print(results[0])\n",
    "print(results[1])"
   ]
  },
  {
   "cell_type": "markdown",
   "metadata": {},
   "source": [
    "## Problems\n",
    "**Problem 1:**\n",
    "  \n",
    "Write a function to convert between degrees Celsius and Fahrenheit. The formulas are as follows:\n",
    " \n",
    " + `C = (F - 32) * 5/9`\n",
    " + `F = 9/5 C + 32`\n",
    " \n",
    "(a) Write a function `convert_to_Celsius` that takes a temperature in Fahrenheit as argument and returns the equivalent temperature in Celsius. Test that your function converts 32 F to 0 C and 212 F to 100 C.\n",
    "\n",
    "(b) Now write a function `convert_temperature` that can convert both Fahrenheit to Celsius and Celsius to Fahrenheit. This function should take two arguments, the temperature and the target unit (Celsius or Fahrenheit). Your function should return a single variable, the new converted temperature. Test that your function converts 0 C to 32 F and vice versa, and 100 C to 212 F and vice versa."
   ]
  },
  {
   "cell_type": "code",
   "execution_count": 7,
   "metadata": {},
   "outputs": [],
   "source": [
    "# Code for Problem 1a goes here.\n"
   ]
  },
  {
   "cell_type": "code",
   "execution_count": 8,
   "metadata": {},
   "outputs": [],
   "source": [
    "# Code for Problem 1b goes here.\n"
   ]
  },
  {
   "cell_type": "markdown",
   "metadata": {},
   "source": [
    "**Problem 2:** \n",
    "  \n",
    "This piece of code sums all multiples of 3 between 1 and 30:\n",
    "```\n",
    "result = 0              # our final result; we start with 0\n",
    "for i in range(1, 31):  # count from 1 to 30\n",
    "    if i % 3 == 0:        # test if number can be divided by 3\n",
    "        result += i     # add number to result\n",
    "print(\"The sum of all multiples of 3 which are <= 30 is\", result)\n",
    "```\n",
    "Using this code as a template, write a function that can calculate all multiples of a given number, for all values within a specified range. This function should take three arguments: the multiple (3 in example above), the lower limit (1 in example above), and the upper limit (30 in example above). The function should return a single value, the sum of all multiples in that range. "
   ]
  },
  {
   "cell_type": "code",
   "execution_count": 9,
   "metadata": {},
   "outputs": [],
   "source": [
    "# Code for Problem 2 goes here.\n"
   ]
  },
  {
   "cell_type": "markdown",
   "metadata": {},
   "source": [
    "**Problem 3:**\n",
    "\n",
    "a) Write a function called `calc_mol_weight` to calculate the molecular weight of an amino acid sequence. Your function should take a single argument, an amino acid sequence, and return a single value, the sequence's weight. In your function, use the `amino_weights` dictionary given below. \n",
    "\n",
    "b) Test that your function behaves properly with the two `protseq` variables defined below. The known molecular weights for each `protseq` variable are shown in the comments."
   ]
  },
  {
   "cell_type": "code",
   "execution_count": 10,
   "metadata": {},
   "outputs": [],
   "source": [
    "# Your function goes here.\n",
    "\n",
    "# Use this dictionary in your function\n",
    "amino_weights = {'A':89.09,'R':174.20,'N':132.12,'D':133.10,\n",
    "                 'C':121.15,'Q':146.15,'E':147.13,'G':75.07,\n",
    "                 'H':155.16,'I':131.17,'L':131.17,'K':146.19,\n",
    "                 'M':149.21,'F':165.19,'P':115.13,'S':105.09,\n",
    "                 'T':119.12,'W':204.23,'Y':181.19,'V':117.15}\n",
    "\n",
    "# Variables for testing that the function works properly.\n",
    "protseq1 = \"AGAHHCTPL\" # weight = 1050.14\n",
    "protseq2 = \"HQWRSSXAD\" # weight = 1112.11"
   ]
  },
  {
   "cell_type": "markdown",
   "metadata": {},
   "source": [
    "## If this was easy\n",
    "\n",
    "**Problem 4:**\n",
    "\n",
    "For Problem 3 above, write code that automatically tests whether the `calc_mol_weight` function returns the correct result for `protseq1` and `protseq2`."
   ]
  },
  {
   "cell_type": "code",
   "execution_count": 11,
   "metadata": {},
   "outputs": [],
   "source": [
    "# Your code goes here."
   ]
  },
  {
   "cell_type": "markdown",
   "metadata": {},
   "source": [
    "**Problem 5:**\n",
    "\n",
    "The Fibonacci Sequence is the sequence of numbers, starting with 0 and 1, where the next number is the sum of the two previous numbers:\n",
    "> 0, 1, 1, 2, 3, 5, 8, 13, 21, 34, ...\n",
    "\n",
    "Mathematically, we can write the $i$th number $n_i$ as\n",
    "> $n_i = n_{i-1} + n_{i-2}$.\n",
    "\n",
    "Implement a function that calculates the *i*th Fibonacci number. (Hint: this is easiest by making the function call itself to obtain the previous Fibonacci numbers. This programming style is called \"recursion\".) Then use this function to print out the first 20 Fibonacci numbers."
   ]
  },
  {
   "cell_type": "code",
   "execution_count": 12,
   "metadata": {},
   "outputs": [],
   "source": [
    "# Your code goes here."
   ]
  }
 ],
 "metadata": {
  "kernelspec": {
   "display_name": "Python 3",
   "language": "python",
   "name": "python3"
  },
  "language_info": {
   "codemirror_mode": {
    "name": "ipython",
    "version": 3
   },
   "file_extension": ".py",
   "mimetype": "text/x-python",
   "name": "python",
   "nbconvert_exporter": "python",
   "pygments_lexer": "ipython3",
   "version": "3.6.9"
  }
 },
 "nbformat": 4,
 "nbformat_minor": 2
}
