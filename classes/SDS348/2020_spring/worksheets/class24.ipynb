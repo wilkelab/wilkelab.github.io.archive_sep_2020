{
 "cells": [
  {
   "cell_type": "markdown",
   "metadata": {},
   "source": [
    "# Class 24: Using regular expressions to analyze data\n",
    "**April 18, 2019**"
   ]
  },
  {
   "cell_type": "markdown",
   "metadata": {},
   "source": [
    "In this class, we will continue discuss a few more real-world scenarios of how we can use regular expressions to analyze data. We will also encounter some other useful methods and techniques, such as reading a file directly from the internet."
   ]
  },
  {
   "cell_type": "markdown",
   "metadata": {},
   "source": [
    "# Reading a file from the internet\n",
    "\n",
    "To read a file from the internet (i.e., from a URL), we can use the `urlopen()` function that is available in the package `urllib.request`. One subtle difficulty with this function is that it returns encoded strings (also called \"byte objects\") rather than raw strings. For example, the following code downloads the poem \"The Road Not Taken\" from the class website and prints it out. You can see how the output is encapsulated in quotes with a 'b' in front (for \"byte object\"), and also that the newline character is explicitly written out as '\\n'."
   ]
  },
  {
   "cell_type": "code",
   "execution_count": 1,
   "metadata": {},
   "outputs": [
    {
     "name": "stdout",
     "output_type": "stream",
     "text": [
      "b'        THE ROAD NOT TAKEN\\n'\n",
      "b'           Robert Frost\\n'\n",
      "b'\\n'\n",
      "b'Two roads diverged in a yellow wood,\\n'\n",
      "b'And sorry I could not travel both\\n'\n",
      "b'And be one traveler, long I stood\\n'\n",
      "b'And looked down one as far as I could\\n'\n",
      "b'To where it bent in the undergrowth;\\n'\n",
      "b'Then took the other, as just as fair,\\n'\n",
      "b'And having perhaps the better claim,\\n'\n",
      "b'Because it was grassy and wanted wear;\\n'\n",
      "b'Though as for that the passing there\\n'\n",
      "b'Had worn them really about the same,\\n'\n",
      "b'And both that morning equally lay\\n'\n",
      "b'In leaves no step had trodden black.\\n'\n",
      "b'Oh, I kept the first for another day!\\n'\n",
      "b'Yet knowing how way leads on to way,\\n'\n",
      "b'I doubted if I should ever come back.\\n'\n",
      "b'I shall be telling this with a sigh\\n'\n",
      "b'Somewhere ages and ages hence:\\n'\n",
      "b'Two roads diverged in a wood, and I-\\n'\n",
      "b'I took the one less traveled by,\\n'\n",
      "b'And that has made all the difference.\\n'\n"
     ]
    }
   ],
   "source": [
    "from urllib.request import urlopen\n",
    "\n",
    "file_URL = \"http://wilkelab.org/classes/SDS348/data_sets/road_not_taken.txt\"\n",
    "\n",
    "with urlopen(file_URL) as infile:\n",
    "    for line_encoded in infile:\n",
    "        print (line_encoded)"
   ]
  },
  {
   "cell_type": "markdown",
   "metadata": {},
   "source": [
    "To convert the encoded byte objects into raw strings that you can work with, you can call the function `decode()` on the byte object:"
   ]
  },
  {
   "cell_type": "code",
   "execution_count": 2,
   "metadata": {},
   "outputs": [
    {
     "name": "stdout",
     "output_type": "stream",
     "text": [
      "        THE ROAD NOT TAKEN\n",
      "           Robert Frost\n",
      "\n",
      "Two roads diverged in a yellow wood,\n",
      "And sorry I could not travel both\n",
      "And be one traveler, long I stood\n",
      "And looked down one as far as I could\n",
      "To where it bent in the undergrowth;\n",
      "Then took the other, as just as fair,\n",
      "And having perhaps the better claim,\n",
      "Because it was grassy and wanted wear;\n",
      "Though as for that the passing there\n",
      "Had worn them really about the same,\n",
      "And both that morning equally lay\n",
      "In leaves no step had trodden black.\n",
      "Oh, I kept the first for another day!\n",
      "Yet knowing how way leads on to way,\n",
      "I doubted if I should ever come back.\n",
      "I shall be telling this with a sigh\n",
      "Somewhere ages and ages hence:\n",
      "Two roads diverged in a wood, and I-\n",
      "I took the one less traveled by,\n",
      "And that has made all the difference.\n"
     ]
    }
   ],
   "source": [
    "with urlopen(file_URL) as infile:\n",
    "    for line_encoded in infile:\n",
    "        line = line_encoded.decode()\n",
    "        print(line, end='') # need to set end='' because each line comes with a newline character already"
   ]
  },
  {
   "cell_type": "markdown",
   "metadata": {},
   "source": [
    "## Problems"
   ]
  },
  {
   "cell_type": "markdown",
   "metadata": {},
   "source": [
    "**Problem 1:**\n",
    "\n",
    "Write a function that can tell whether a string is DNA, RNA, or neither. Strings that contain some DNA/RNA and some other stuff, such as \"This is a gene: AGTACCGTAG\", should be flagged as neither."
   ]
  },
  {
   "cell_type": "code",
   "execution_count": 3,
   "metadata": {},
   "outputs": [],
   "source": [
    "import re\n",
    "\n",
    "def what_is_it(string):\n",
    "    # your code goes here\n",
    "    pass # delete this\n",
    "\n",
    "what_is_it(\"AGCTCGAGCTA\")  # DNA\n",
    "what_is_it(\"AGCUCGAGCUA\")  # RNA\n",
    "what_is_it(\"AGCTCGAGCUA\")  # neither, uses Ts and Us at the same time\n",
    "what_is_it(\"This is a gene: AGTACCGTAG\")  # neither, contains other characters\n",
    "what_is_it(\"ucgcuucgacacgu\")  # RNA\n",
    "what_is_it(\"atgtctacact\")  # DNA"
   ]
  },
  {
   "cell_type": "markdown",
   "metadata": {},
   "source": [
    "**Problem 2:**\n",
    "\n",
    "Write code that counts the number of lines in Robert Frost's \"The Road Not Taken\" that contain the article \"the\". Also keep track of the words appearing immediately after the \"the\", by recording them in a list.\n",
    "\n",
    "**Hint 1:** Each line contains the article \"the\" either 0 or 1 times. You don't have to worry about multiple occurrences of \"the\" in the same line. However, make sure you don't count \"them\", \"there\", or similar words that contain \"the\" as a substring. \n",
    "\n",
    "**Hint 2:** Make sure that you capture both lower-case, upper-case, and all-caps spellings of \"the\". See if you can do this with a single regular expression."
   ]
  },
  {
   "cell_type": "code",
   "execution_count": 4,
   "metadata": {},
   "outputs": [],
   "source": [
    "# We will use urlopen to read the file directly from the class website\n",
    "from urllib.request import urlopen\n",
    "\n",
    "file_URL = \"http://wilkelab.org/classes/SDS348/data_sets/road_not_taken.txt\"\n",
    "\n",
    "with urlopen(file_URL) as infile:\n",
    "    # your code goes here\n",
    "    pass # delete this"
   ]
  },
  {
   "cell_type": "markdown",
   "metadata": {},
   "source": [
    "## If this was easy\n",
    "\n",
    "**Problem 3:**\n",
    "\n",
    "For this problem, we will parse the strain names of influenza A virus. First, we will perform an Entrez search to retrieve influenza A viruses from 2014 for which we have a complete hemagglutinin coding sequence. (We limit the search to 50 results to keep things manageable.) "
   ]
  },
  {
   "cell_type": "code",
   "execution_count": 5,
   "metadata": {},
   "outputs": [
    {
     "name": "stdout",
     "output_type": "stream",
     "text": [
      "Influenza A virus (A/swine/France/35-140402/2014(H1N1)) segment 4 hemagglutinin (HA) gene, complete cds\n",
      "Influenza A virus (A/swine/France/12-140265/2014(H1N1)) segment 4 hemagglutinin (HA) gene, complete cds\n",
      "Influenza A virus (A/swine/France/72-140149/2014(H1N1)) segment 4 hemagglutinin (HA) gene, complete cds\n",
      "Influenza A virus (A/swine/Cloppenburg/21149/2014(H1N1)) segment 4 hemagglutinin (HA) gene, complete cds\n",
      "Influenza A virus (A/swine/Oldenzaal/21126/2014(H1N1)) segment 4 hemagglutinin (HA) gene, complete cds\n",
      "Influenza A virus (A/swine/Werl/21120/2014(H1N1)) segment 4 hemagglutinin (HA) gene, complete cds\n",
      "Influenza A virus (A/swine/Heinsberg/21114/2014(H1N1)) segment 4 hemagglutinin (HA) gene, complete cds\n",
      "Influenza A virus (A/swine/Borken/21107/2014(H1N1)) segment 4 hemagglutinin (HA) gene, complete cds\n",
      "Influenza A virus (A/swine/Harreveld/21082/2014(H1N1)) segment 4 hemagglutinin (HA) gene, complete cds\n",
      "Influenza A virus (A/swine/Mariaheide/21031/2014(H1N1)) segment 4 hemagglutinin (HA) gene, complete cds\n",
      "Influenza A virus (A/swine/Steinfeld/21010/2014(H1N1)) segment 4 hemagglutinin (HA) gene, complete cds\n",
      "Influenza A virus (A/swine/Glabbeek/21006/2014(H1N1)) segment 4 hemagglutinin (HA) gene, complete cds\n",
      "Influenza A virus (A/swine/Langen/20991/2014(H1N1)) segment 4 hemagglutinin (HA) gene, complete cds\n",
      "Influenza A virus (A/swine/Bad Wuennenberg/20977/2014(H1N1)) segment 4 hemagglutinin (HA) gene, complete cds\n",
      "Influenza A virus (A/swine/Ruethen/20843/2014(H1N1)) segment 4 hemagglutinin (HA) gene, complete cds\n",
      "Influenza A virus (A/swine/Feldbach/20834/2014(H1N1)) segment 4 hemagglutinin (HA) gene, complete cds\n",
      "Influenza A virus (A/swine/Baarle Nassau/20825/2014(H1N1)) segment 4 hemagglutinin (HA) gene, complete cds\n",
      "Influenza A virus (A/swine/Garrel/20734/2014(H1N1)) segment 4 hemagglutinin (HA) gene, complete cds\n",
      "Influenza A virus (A/swine/Lohne/20709/2014(H1N1)) segment 4 hemagglutinin (HA) gene, complete cds\n",
      "Influenza A virus (A/swine/Wachtum/20657/2014(H1N1)) segment 4 hemagglutinin (HA) gene, complete cds\n",
      "Influenza A virus (A/swine/Everswinkel/20648/2014(H1N1)) segment 4 hemagglutinin (HA) gene, complete cds\n",
      "Influenza A virus (A/swine/Rosendahl/20634/2014(H1N1)) segment 4 hemagglutinin (HA) gene, complete cds\n",
      "Influenza A virus (A/swine/Bad Wuennenberg/20518/2014(H1N1)) segment 4 hemagglutinin (HA) gene, complete cds\n",
      "Influenza A virus (A/swine/Essen/20452/2014(H1N1)) segment 4 hemagglutinin (HA) gene, complete cds\n",
      "Influenza A virus (A/swine/Moersbrunn/20096/2014(H1N1)) segment 4 hemagglutinin (HA) gene, complete cds\n",
      "Influenza A virus (A/swine/Ascheberg/19992/2014(H1N1)) segment 4 hemagglutinin (HA) gene, complete cds\n",
      "Influenza A virus (A/swine/Ahorn/19945/2014(H1N1)) segment 4 hemagglutinin (HA) gene, complete cds\n",
      "Influenza A virus (A/swine/Bockhorn/19911/2014(H1N1)) segment 4 hemagglutinin (HA) gene, complete cds\n",
      "Influenza A virus (A/swine/Ruegheim/19841/2014(H1N1)) segment 4 hemagglutinin (HA) gene, complete cds\n",
      "Influenza A virus (A/swine/Borken/19808/2014(H1N1)) segment 4 hemagglutinin (HA) gene, complete cds\n",
      "Influenza A virus (A/swine/Bad Griesbach/19758/2014(H1N1)) segment 4 hemagglutinin (HA) gene, complete cds\n",
      "Influenza A virus (A/swine/Bothenheilingen/19699/2014(H1N1)) segment 4 hemagglutinin (HA) gene, complete cds\n",
      "Influenza A virus (A/swine/Erwitte/19661/2014(H1N1)) segment 4 hemagglutinin (HA) gene, complete cds\n",
      "Influenza A virus (A/swine/Sandbeiendorf/19533/2014(H1N1)) segment 4 hemagglutinin (HA) gene, complete cds\n",
      "Influenza A virus (A/swine/Liaoning/PJ89/2014(H1N1)) segment 4 hemagglutinin (HA) gene, complete cds\n",
      "Influenza A virus (A/swine/Liaoning/PJ43/2014(H1N1)) segment 4 hemagglutinin (HA) gene, complete cds\n",
      "Influenza A virus (A/swine/Liaoning/CY102/2014(H1N1)) segment 4 hemagglutinin (HA) gene, complete cds\n",
      "Influenza A virus (A/swine/Liaoning/BX153/2014(H1N1)) segment 4 hemagglutinin (HA) gene, complete cds\n",
      "Influenza A virus (A/swine/Chile/VN1401-536/2014(H1N1)) segment 4 hemagglutinin (HA) gene, complete cds\n",
      "Influenza A virus (A/swine/Chile/VN1401-525/2014(H1N1)) segment 4 hemagglutinin (HA) gene, complete cds\n",
      "Influenza A virus (A/swine/Chile/VN1401-508/2014(H1N1)) segment 4 hemagglutinin (HA) gene, complete cds\n",
      "Influenza A virus (A/Taiwan/01581/2014(H1N1)) segment 4 hemagglutinin gene, complete cds\n",
      "Influenza A virus (A/Taiwan/00866/2014(H1N1)) segment 4 hemagglutinin gene, complete cds\n",
      "Influenza A virus (A/Taiwan/00763/2014(H1N1)) segment 4 hemagglutinin gene, complete cds\n",
      "Influenza A virus (A/Taiwan/00715/2014(H1N1)) segment 4 hemagglutinin gene, complete cds\n",
      "Influenza A virus (A/Taiwan/00391/2014(H1N1)) segment 4 hemagglutinin gene, complete cds\n",
      "Influenza A virus (A/Taiwan/00369/2014(H1N1)) segment 4 hemagglutinin gene, complete cds\n",
      "Influenza A virus (A/Taiwan/00201/2014(H1N1)) segment 4 hemagglutinin gene, complete cds\n",
      "Influenza A virus (A/Taiwan/00061/2014(H1N1)) segment 4 hemagglutinin gene, complete cds\n",
      "Influenza A virus (A/Taiwan/00055/2014(H1N1)) segment 4 hemagglutinin gene, complete cds\n"
     ]
    }
   ],
   "source": [
    "from Bio import Entrez, SeqIO\n",
    "\n",
    "Entrez.email = 'wilke@austin.utexas.edu'\n",
    "\n",
    "# let's do a search for influenza H1N1 viruses from 2014\n",
    "handle = Entrez.esearch(\n",
    "    db=\"nucleotide\",  # database to search\n",
    "    term=\"influenza a virus 2014 h1n1 hemagglutinin complete cds\",  # search term\n",
    "    retmax=50  # limit the search to the first 50 results\n",
    ")\n",
    "record = Entrez.read(handle)\n",
    "handle.close()\n",
    "\n",
    "# download the results and turn into a list of records\n",
    "gi_list = record[\"IdList\"] # list of genbank identifiers found\n",
    "handle = Entrez.efetch(db=\"nucleotide\", id=gi_list, rettype=\"gb\", retmode=\"text\")\n",
    "records = list(SeqIO.parse(handle, \"genbank\")) # the list(...) statement ensures we will still have\n",
    "                                               # access to the results after handle.close()\n",
    "handle.close()\n",
    "\n",
    "for record in records:\n",
    "    print(record.description)"
   ]
  },
  {
   "cell_type": "markdown",
   "metadata": {},
   "source": [
    "Now write code that goes over all records in the list and counts (1) how many human strains there are and (2) how many strains were collected in Texas. To do this, you need to know how influenza strains are named. The naming scheme is \"A/*host (if not human)*/*region of origin*/*lineage number*/*year*/(*antigen type*)\" (see also [here](http://blog.h1n1.influenza.bvsalud.org/en/2009/09/20/how-do-we-name-influenza-a/)). The tricky part is that the host field is optional. For example, A/swine/Mexico/10466772/2014(H1N1) is a 2014 H1N1 swine strain from Mexico, but A/Texas/6180/2017(H1N1) is a 2017 H1N1 human strain from Texas. Note that even though we searched for 2014, we are retrieving some strains for 2017."
   ]
  },
  {
   "cell_type": "code",
   "execution_count": 6,
   "metadata": {},
   "outputs": [],
   "source": [
    "# your code goes here"
   ]
  }
 ],
 "metadata": {
  "kernelspec": {
   "display_name": "Python 3",
   "language": "python",
   "name": "python3"
  },
  "language_info": {
   "codemirror_mode": {
    "name": "ipython",
    "version": 3
   },
   "file_extension": ".py",
   "mimetype": "text/x-python",
   "name": "python",
   "nbconvert_exporter": "python",
   "pygments_lexer": "ipython3",
   "version": "3.6.9"
  }
 },
 "nbformat": 4,
 "nbformat_minor": 2
}
