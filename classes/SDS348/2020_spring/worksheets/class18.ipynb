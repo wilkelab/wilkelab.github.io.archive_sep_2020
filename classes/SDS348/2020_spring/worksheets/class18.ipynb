{
 "cells": [
  {
   "cell_type": "markdown",
   "metadata": {},
   "source": [
    "# In-class worksheet 18\n",
    "\n",
    "**Apr 2, 2020**\n",
    "\n",
    "## Reading and writing files in Python\n",
    "\n",
    "We interact with files in python by opening the file and assigning it to a variable. This variable is called a *file handle*. The file handle is an object, and it has member fuctions such as `.read()` and `.write()` that allow us to either read the file contents or write to the file. After we are done working with the file, we must close the file handle.\n",
    "\n",
    "We open a file and generate the associated handle with the `open()` function. This function takes two arguments: \n",
    "\n",
    "1. the *name* of the file to open\n",
    "2. the *mode* in which the file should be read. Modes, with usage examples, include, \n",
    "\n",
    "    + read-only (`\"r\"`). Use this mode to read a file, but not write anything to it.\n",
    "        + Usage: `handle = open(\"filename.txt\", \"r\")`\n",
    "        \n",
    "    + write-only (`\"w\"`). Use this mode to write to an empty file.\n",
    "        + Usage: `handle = open(\"filename.txt\", \"w\")`\n",
    "\n",
    "    + append (`\"a\"`).     Use this mode to add content to an existing file.\n",
    "        + Usage: `handle = open(\"filename.txt\", \"a\")`"
   ]
  },
  {
   "cell_type": "markdown",
   "metadata": {},
   "source": [
    "## Opening files for reading\n",
    "\n",
    "We will first work with a simple test file, called `\"testfile.txt\"`. The file has the following contents:\n",
    "\n",
    "> This is line one of the file.  \n",
    "> This is line two of the file.  \n",
    "> This is line three of the file.\n",
    "\n",
    "(You can download this file from the class website here: http://wilkelab.org/classes/SDS348/data_sets/testfile.txt)\n",
    "\n",
    "We will open this file and read it in one go:"
   ]
  },
  {
   "cell_type": "code",
   "execution_count": 1,
   "metadata": {},
   "outputs": [
    {
     "name": "stdout",
     "output_type": "stream",
     "text": [
      "This is line one of the file.\n",
      "This is line two of the file.\n",
      "This is line three of the file.\n",
      "\n"
     ]
    }
   ],
   "source": [
    "# The name of the file we want to open\n",
    "filename = \"testfile.txt\"\n",
    "\n",
    "file_handle = open(filename, \"r\") # Open file as read-only\n",
    "file_contents = file_handle.read() # Read contents of file\n",
    "file_handle.close() # Close file when finished (important!)\n",
    "\n",
    "# Print out the contents of the file\n",
    "print(file_contents)"
   ]
  },
  {
   "cell_type": "markdown",
   "metadata": {},
   "source": [
    "Note that the `.read()` method saves the *entire* body of the file to a single string. Another convenient way to read a file is to retrieve it as a list of lines, so that we can easily loop over the file contents. We can do this with the `.readlines()` method:"
   ]
  },
  {
   "cell_type": "code",
   "execution_count": 2,
   "metadata": {},
   "outputs": [
    {
     "name": "stdout",
     "output_type": "stream",
     "text": [
      "['This is line one of the file.\\n', 'This is line two of the file.\\n', 'This is line three of the file.\\n']\n"
     ]
    }
   ],
   "source": [
    "file_handle = open(filename, \"r\") # Open file as read-only\n",
    "file_lines = file_handle.readlines() # Read contents of file\n",
    "file_handle.close() # Close file\n",
    "\n",
    "print(file_lines)"
   ]
  },
  {
   "cell_type": "markdown",
   "metadata": {},
   "source": [
    "We see that `.readlines()` gives us a list with three entries, where each entry is one line in the file. We can also see that all entries of this list end with the symbol `\\n`. This symbols represents the new-line character. It determines when one line ends and the next one begins.\n",
    "\n",
    "Now that we have the file lines in a list, we can easily loop over them, and perform some calculations as needed:"
   ]
  },
  {
   "cell_type": "code",
   "execution_count": 3,
   "metadata": {},
   "outputs": [
    {
     "name": "stdout",
     "output_type": "stream",
     "text": [
      "1 This is line one of the file.\n",
      "\n",
      "2 This is line two of the file.\n",
      "\n",
      "3 This is line three of the file.\n",
      "\n"
     ]
    }
   ],
   "source": [
    "# Loop over each line in file, and use a counter to keep track of lines\n",
    "counter = 1\n",
    "for line in file_lines:\n",
    "    print(counter, line)\n",
    "    counter += 1"
   ]
  },
  {
   "cell_type": "markdown",
   "metadata": {},
   "source": [
    "You may notice that there is an empty line between each line of output. Can you guess why? See below in Problem 4 for an answer."
   ]
  },
  {
   "cell_type": "markdown",
   "metadata": {},
   "source": [
    "## Opening files for writing\n",
    "\n",
    "Opening a file in write-mode will overwrite the file, but opening in append-mode will add to the bottom of an existing file. Note that if we open a file for writing (or appending) that doesn't already exist, then a new file will be created with the specified name. By contrast, if we attempt to open a non-existing file for reading, we will receive an error message.\n",
    "\n",
    "To write to a file, we use the `.write()` method on the file handle:"
   ]
  },
  {
   "cell_type": "code",
   "execution_count": 4,
   "metadata": {},
   "outputs": [
    {
     "name": "stdout",
     "output_type": "stream",
     "text": [
      "I'm writing a sentence to this file.\n",
      "\n"
     ]
    }
   ],
   "source": [
    "# Define the name of the file we'll be working with\n",
    "filename = \"testfile2.txt\"\n",
    "\n",
    "# It is often good to name the file handles in \n",
    "# such a way that we know whether we are reading from\n",
    "# or writing to the file. Here we open the file\n",
    "# for writing, so we call it `outfile`:\n",
    "outfile = open(filename, \"w\")\n",
    "\n",
    "# The write function doesn't add a newline automaticall,\n",
    "# so we do this explicitly:\n",
    "outfile.write(\"I'm writing a sentence to this file.\\n\")\n",
    "outfile.close()\n",
    "\n",
    "# Verify that we wrote to the file correctly,\n",
    "# by opening and reading it\n",
    "infile = open(filename, \"r\") #note the \"r\" mode\n",
    "contents = infile.read()\n",
    "infile.close()\n",
    "print(contents)"
   ]
  },
  {
   "cell_type": "markdown",
   "metadata": {},
   "source": [
    "Note that the above code created a new file and wrote a single sentence to it. No matter how many times you execute this code, the file will have the same contents.\n",
    "\n",
    "To add new contents to an existing file, open the file in append (\"a\") mode:"
   ]
  },
  {
   "cell_type": "code",
   "execution_count": 5,
   "metadata": {},
   "outputs": [
    {
     "name": "stdout",
     "output_type": "stream",
     "text": [
      "I'm writing a sentence to this file.\n",
      "I'm writing another line to this existing file.\n",
      "I'm writing another line to this existing file.\n",
      "I'm writing another line to this existing file.\n",
      "I'm writing another line to this existing file.\n",
      "I'm writing another line to this existing file.\n",
      "\n"
     ]
    }
   ],
   "source": [
    "# Open a file for appending, and append text to it\n",
    "for i in range(5):   # do this five times\n",
    "    outfile = open(filename, \"a\")\n",
    "    outfile.write(\"I'm writing another line to this existing file.\\n\") \n",
    "    outfile.close()\n",
    "\n",
    "# Verify that we wrote to the file correctly, by opening and reading it\n",
    "infile = open(filename, \"r\") #note the \"r\" mode\n",
    "contents = infile.read()\n",
    "infile.close()\n",
    "print(contents)"
   ]
  },
  {
   "cell_type": "markdown",
   "metadata": {},
   "source": [
    "## The `with` statement\n",
    "\n",
    "As you can see from the above code examples, when we are dealing with files we need to write many blocks of code of the form `.open()`, code to interact with file, `.close()`. This can become cumbersome, and in particular we may forget to close some of the files that we opened. Not closing files can cause all sorts of trouble. For example, other applications may not be able to interact with a file until your program has properly closed it. Or, if you write a loop that opens many files but never closes them, you may crash your computer. Thus, since closing files is so critical, wouldn't it be nice if Python did this for us automatically? It will do so, if we're using the `with` statement.\n",
    "\n",
    "In the `with` statment, instead of writing\n",
    "\n",
    "    file_handle = open(filename, mode)\n",
    "\n",
    "we write\n",
    "\n",
    "    with open(filename, mode) as file_handle:\n",
    "        ... # code block that operates on the file handle\n",
    "\n",
    "The file will be closed automatically once we leave the block.\n",
    "\n",
    "Thus, we could rewrite the last two examples with `with` in the following form:"
   ]
  },
  {
   "cell_type": "code",
   "execution_count": 6,
   "metadata": {},
   "outputs": [
    {
     "name": "stdout",
     "output_type": "stream",
     "text": [
      "I'm writing a sentence to this file.\n",
      "I'm writing another line to this existing file.\n",
      "I'm writing another line to this existing file.\n",
      "I'm writing another line to this existing file.\n",
      "I'm writing another line to this existing file.\n",
      "I'm writing another line to this existing file.\n",
      "\n"
     ]
    }
   ],
   "source": [
    "filename = \"testfile2.txt\"\n",
    "with open(filename, \"w\") as outfile:  # open file for writing\n",
    "    outfile.write(\"I'm writing a sentence to this file.\\n\")\n",
    "\n",
    "for i in range(5):   # do this five times\n",
    "    with open(filename, \"a\") as appendfile:  # open file for appending\n",
    "        appendfile.write(\"I'm writing another line to this existing file.\\n\") \n",
    "\n",
    "# Verify that we wrote to the file correctly, by opening and reading it\n",
    "with open(filename, \"r\") as infile:  # open file for reading\n",
    "    contents = infile.read()\n",
    "print(contents)"
   ]
  },
  {
   "cell_type": "markdown",
   "metadata": {},
   "source": [
    "## Problems"
   ]
  },
  {
   "cell_type": "markdown",
   "metadata": {},
   "source": [
    "**Problem 1:**\n",
    "\n",
    "Download the file `\"road_not_taken.txt\"` from the class website: http://wilkelab.org/classes/SDS348/data_sets/road_not_taken.txt  \n",
    "(You may have to right-click the link and choose \"save as\". Make sure to save the file in the same location where your Jupyter notebook is.) This file contains the famous poem \"The Road not Taken\" by Robert Frost.\n",
    "\n",
    "(a) Write a program that reads the file in one go and prints out the file contents.\n",
    "\n",
    "(b) Write a program that reads in the file line by line and counts the total number of lines. \n",
    "\n",
    "(c) Write a program that counts the number of letters in the file. Use the function `count_letters()` we have discussed in a previous class. Then print out how offen the different vowels (a, e, i, o, u) are used in this document."
   ]
  },
  {
   "cell_type": "code",
   "execution_count": 7,
   "metadata": {},
   "outputs": [],
   "source": [
    "# Problem 1a:\n",
    "\n",
    "# your code goes here"
   ]
  },
  {
   "cell_type": "code",
   "execution_count": 8,
   "metadata": {},
   "outputs": [],
   "source": [
    "# Problem 1b:\n",
    "\n",
    "# your code goes here"
   ]
  },
  {
   "cell_type": "code",
   "execution_count": 9,
   "metadata": {},
   "outputs": [],
   "source": [
    "# Problem 1c:\n",
    "\n",
    "# count_letters function\n",
    "def count_letters(s):\n",
    "    counts = {} # empty dict\n",
    "    for c in s:\n",
    "        if c in counts: # does letter exist in dict?\n",
    "            counts[c]+=1 # yes, increase count by 1\n",
    "        else:\n",
    "            counts[c]=1 # no, set count to 1\n",
    "    return counts # return result\n",
    "\n",
    "# your code goes here"
   ]
  },
  {
   "cell_type": "markdown",
   "metadata": {},
   "source": [
    "**Problem 2:**\n",
    "\n",
    "Read in the file `\"road_not_taken.txt\"`, loop over every line in the file, identify the lines that contain the string `\"road\"` (ignoring case), and write those lines into a new file called `\"extracted_lines.txt\"`. Then, read the file `\"extracted_lines.txt\"` back in and print its contents, to verify that everything worked right. "
   ]
  },
  {
   "cell_type": "code",
   "execution_count": 10,
   "metadata": {},
   "outputs": [],
   "source": [
    "# your code goes here"
   ]
  },
  {
   "cell_type": "markdown",
   "metadata": {},
   "source": [
    "**Problem 3:**\n",
    "\n",
    "Take the solution to one of your previous problems and rewrite them using a `with` statement. (Skip this problem if you have used `with` statements throughout.)"
   ]
  },
  {
   "cell_type": "code",
   "execution_count": 11,
   "metadata": {},
   "outputs": [],
   "source": [
    "# your code goes here"
   ]
  },
  {
   "cell_type": "markdown",
   "metadata": {},
   "source": [
    "## If this was easy\n",
    "\n",
    "**Problem 4:**\n",
    "\n",
    "Using **one** `with` statement and **one** `for` loop, open the file `\"road_not_taken.txt\"` as input file, convert it to upper case, and write it to a new file called `\"road_not_taken_upper.txt\"`. Then read the newly generated file back in and print out the first 10 lines (+ line numbers), to make sure everything looks right. Make sure you don't get any empty lines between the individual lines you print."
   ]
  },
  {
   "cell_type": "code",
   "execution_count": 12,
   "metadata": {},
   "outputs": [],
   "source": [
    "# your code goes here"
   ]
  },
  {
   "cell_type": "markdown",
   "metadata": {},
   "source": [
    "**Problem 5:**\n",
    "\n",
    "Instead of reading the file `\"road_not_taken.txt\"` from your own computer, read it directly from the web. Hint: Use the function `urlopen()` from the `urllib` package. And pay attention to the type of data that you receive from the handle created by `urlopen()`."
   ]
  },
  {
   "cell_type": "code",
   "execution_count": 13,
   "metadata": {},
   "outputs": [],
   "source": [
    "# your code goes here"
   ]
  }
 ],
 "metadata": {
  "kernelspec": {
   "display_name": "Python 3",
   "language": "python",
   "name": "python3"
  },
  "language_info": {
   "codemirror_mode": {
    "name": "ipython",
    "version": 3
   },
   "file_extension": ".py",
   "mimetype": "text/x-python",
   "name": "python",
   "nbconvert_exporter": "python",
   "pygments_lexer": "ipython3",
   "version": "3.6.9"
  }
 },
 "nbformat": 4,
 "nbformat_minor": 2
}
