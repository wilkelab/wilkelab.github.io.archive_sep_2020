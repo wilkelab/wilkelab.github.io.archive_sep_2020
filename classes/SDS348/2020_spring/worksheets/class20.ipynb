{
 "cells": [
  {
   "cell_type": "markdown",
   "metadata": {},
   "source": [
    "# Class 20: Working with gene features and genomes\n",
    "**Apr 9, 2020**\n",
    "\n",
    "## Features in genbank files\n",
    "\n",
    "Many important pieces of information in genbank files are stored in features. These features can be queried through Biopython by working with the `features` list of a genbank record object (`record.features`). More information about  sequence features is available [here.](http://biopython.org/DIST/docs/tutorial/Tutorial.html#htoc38) We will usually iterate over all features in the list with a `for` loop:"
   ]
  },
  {
   "cell_type": "code",
   "execution_count": 1,
   "metadata": {},
   "outputs": [
    {
     "name": "stdout",
     "output_type": "stream",
     "text": [
      "type: source\n",
      "location: [0:1701](+)\n",
      "qualifiers:\n",
      "    Key: collection_date, Value: ['17-Jan-2015']\n",
      "    Key: country, Value: ['USA: New Jersey']\n",
      "    Key: db_xref, Value: ['taxon:1682360']\n",
      "    Key: host, Value: ['Homo sapiens']\n",
      "    Key: isolation_source, Value: ['nasopharyngeal swab']\n",
      "    Key: lab_host, Value: ['MDCK']\n",
      "    Key: mol_type, Value: ['viral cRNA']\n",
      "    Key: organism, Value: ['Influenza A virus (A/New Jersey/NHRC_93219/2015(H3N2))']\n",
      "    Key: segment, Value: ['4']\n",
      "    Key: serotype, Value: ['H3N2']\n",
      "    Key: strain, Value: ['A/NewJersey/NHRC_93219/2015']\n",
      "\n",
      "type: gene\n",
      "location: [0:1701](+)\n",
      "qualifiers:\n",
      "    Key: gene, Value: ['HA']\n",
      "\n",
      "type: CDS\n",
      "location: [0:1701](+)\n",
      "qualifiers:\n",
      "    Key: codon_start, Value: ['1']\n",
      "    Key: function, Value: ['receptor binding and fusion protein']\n",
      "    Key: gene, Value: ['HA']\n",
      "    Key: product, Value: ['hemagglutinin']\n",
      "    Key: protein_id, Value: ['AKQ43545.1']\n",
      "    Key: translation, Value: ['MKTIIALSYILCLVFAQKIPGNDNSTATLCLGHHAVPNGTIVKTITNDRIEVTNATELVQNSSIGEICDSPHQILDGENCTLIDALLGDPQCDGFQNKKWDLFVERSKAYSNCYPYDVPDYASLRSLVASSGTLEFNNESFNWTGVTQNGTSSACIRRSSSSFFSRLNWLTHLNYTYPALNVTMPNNEQFDKLYIWGVHHPGTDKDQIFLYAQSSGRITVSTKRSQQAVIPNIGSRPRIRDIPSRISIYWTIVKPGDILLINSTGNLIAPRGYFKIRSGKSSIMRSDAPIGKCKSECITPNGSIPNDKPFQNVNRITYGACPRYVKHSTLKLATGMRNVPEKQTRGIFGAIAGFIENGWEGMVDGWYGFRHQNSEGRGQAADLKSTQAAIDQINGKLNRLIGKTNEKFHQIEKEFSEVEGRIQDLEKYVEDTKIDLWSYNAELLVALENQHTXDLTDSEMNKLFEKTKKQLRENAEDMGNGCFKIYHKCDNACIGSIRNGTYDHNVYRDEALNNRFQIKGVELKSGYKDWILWISXAISCFLLCVALLGFIMWACQKGNIRCNICI']\n",
      "\n",
      "type: mat_peptide\n",
      "location: [48:1035](+)\n",
      "qualifiers:\n",
      "    Key: gene, Value: ['HA']\n",
      "    Key: product, Value: ['HA1']\n",
      "\n",
      "type: mat_peptide\n",
      "location: [1035:1698](+)\n",
      "qualifiers:\n",
      "    Key: gene, Value: ['HA']\n",
      "    Key: product, Value: ['HA2']\n",
      "\n"
     ]
    }
   ],
   "source": [
    "from Bio import Entrez, SeqIO\n",
    "Entrez.email = \"wilke@austin.utexas.edu\" # put your email here\n",
    "\n",
    "# Download sequence record for genbank id KT220438\n",
    "# This is HA gene of Influenza A virus, strain A/NewJersey/NHRC_93219/2015(H3N2)\n",
    "handle = Entrez.efetch(db=\"nucleotide\", id=\"KT220438\", rettype=\"gb\", retmode=\"text\")\n",
    "record = SeqIO.read(handle, \"genbank\")\n",
    "handle.close()\n",
    "\n",
    "# Loop over all features in the record to see\n",
    "# what features there are and what information\n",
    "# they contain\n",
    "for feature in record.features:\n",
    "    print(feature)"
   ]
  },
  {
   "cell_type": "markdown",
   "metadata": {},
   "source": [
    "The type of each feature is stored in `feature.type`, and its location on the DNA sequence is stored in `feature.location`. The additional feature information is stored in a dictionary called `qualifiers`. We can query this dictionary to retrieve individual elements of a feature. Note that these elements are all stored as lists, and so we generally have to add `[0]` at the end of our query to retrieve the first element in the list."
   ]
  },
  {
   "cell_type": "code",
   "execution_count": 2,
   "metadata": {},
   "outputs": [
    {
     "name": "stdout",
     "output_type": "stream",
     "text": [
      "Coding sequence found at position: [0:1701](+)\n",
      "Gene product: hemagglutinin\n",
      "Protein ID: AKQ43545.1\n",
      "Protein sequence: MKTIIALSYILCLVFAQKIPGNDNSTATLCLGHHAVPNGTIVKTITNDRIEVTNATELVQNSSIGEICDSPHQILDGENCTLIDALLGDPQCDGFQNKKWDLFVERSKAYSNCYPYDVPDYASLRSLVASSGTLEFNNESFNWTGVTQNGTSSACIRRSSSSFFSRLNWLTHLNYTYPALNVTMPNNEQFDKLYIWGVHHPGTDKDQIFLYAQSSGRITVSTKRSQQAVIPNIGSRPRIRDIPSRISIYWTIVKPGDILLINSTGNLIAPRGYFKIRSGKSSIMRSDAPIGKCKSECITPNGSIPNDKPFQNVNRITYGACPRYVKHSTLKLATGMRNVPEKQTRGIFGAIAGFIENGWEGMVDGWYGFRHQNSEGRGQAADLKSTQAAIDQINGKLNRLIGKTNEKFHQIEKEFSEVEGRIQDLEKYVEDTKIDLWSYNAELLVALENQHTXDLTDSEMNKLFEKTKKQLRENAEDMGNGCFKIYHKCDNACIGSIRNGTYDHNVYRDEALNNRFQIKGVELKSGYKDWILWISXAISCFLLCVALLGFIMWACQKGNIRCNICI\n"
     ]
    }
   ],
   "source": [
    "for feature in record.features:\n",
    "    if feature.type == \"CDS\":\n",
    "        print(\"Coding sequence found at position:\", feature.location)\n",
    "        print(\"Gene product:\", feature.qualifiers[\"product\"][0])\n",
    "        print(\"Protein ID:\", feature.qualifiers[\"protein_id\"][0])\n",
    "        print(\"Protein sequence:\", feature.qualifiers[\"translation\"][0])"
   ]
  },
  {
   "cell_type": "markdown",
   "metadata": {},
   "source": [
    "## Problems"
   ]
  },
  {
   "cell_type": "markdown",
   "metadata": {},
   "source": [
    "**Problem 1:**\n",
    "\n",
    "When we are working with larger genbank files (e.g. entire genomes), we generally first download them and store them as a file on our local drive. Then we work with those local files. To practice this workflow, write code that downloads the complete genome of bacteriophage T7 and stores it in a file called `T7.gb`. The accession number for that genome is NC_001604. Make sure you can find the file you have created on your harddrive. Also verify that the file contains the same genome you can see on the NCBI website."
   ]
  },
  {
   "cell_type": "code",
   "execution_count": 3,
   "metadata": {},
   "outputs": [],
   "source": [
    "# Problem 1\n",
    "\n",
    "# your code goes here."
   ]
  },
  {
   "cell_type": "markdown",
   "metadata": {},
   "source": [
    "**Problem 2:**\n",
    "\n",
    "Now read in the T7 genome, and for each coding sequence (CDS) in that genome print out the name (`locus_tag`) and the product name (`product`).\n",
    "\n",
    "Hints:\n",
    "- First you need to parse the genbank file into a record, using `SeqIO.read()`.\n",
    "- All gene annotations are stored as features, and `record.features` gives you a list of all these features.\n",
    "- Each feature has a type, accessible through `feature.type`. We are only interested in features of type \"CDS\".\n",
    "- The actual annotations we are interested in, such as `locus_tag`, `product`, etc., are stored in the dictionary `feature.qualifiers`."
   ]
  },
  {
   "cell_type": "code",
   "execution_count": 4,
   "metadata": {},
   "outputs": [],
   "source": [
    "# Problem 2\n",
    "\n",
    "# your code goes here."
   ]
  },
  {
   "cell_type": "markdown",
   "metadata": {},
   "source": [
    "**Problem 3:**\n",
    "\n",
    "Calculate the mean gene length (in amino acids) for all CDSs in the T7 genome.\n",
    "\n",
    "Hint: Use the function `round()` to round your result to 2 decimal digits."
   ]
  },
  {
   "cell_type": "code",
   "execution_count": 5,
   "metadata": {},
   "outputs": [],
   "source": [
    "# Problem 3\n",
    "\n",
    "# your code goes here."
   ]
  },
  {
   "cell_type": "markdown",
   "metadata": {},
   "source": [
    "**Problem 4:**\n",
    "\n",
    "(a) Download the *E. coli* K12 genome, available here: http://www.ncbi.nlm.nih.gov/nuccore/CP009685, and store it in a file called `Ecoli_K12.gb`.\n",
    "\n",
    "(b) Calculate the fraction of coding sequences that are marked as \"hypothetical protein\". (This information is provided in the \"product\" qualifier of a \"CDS\" feature.)\n",
    "\n",
    "(c) Calculate the GC content of the *entire* genome sequence. GC content is the fraction of G and C nucleotides in the sequence."
   ]
  },
  {
   "cell_type": "code",
   "execution_count": 6,
   "metadata": {},
   "outputs": [],
   "source": [
    "# Problem 4a\n",
    "\n",
    "# your code goes here."
   ]
  },
  {
   "cell_type": "code",
   "execution_count": 7,
   "metadata": {},
   "outputs": [],
   "source": [
    "# Problem 4b\n",
    "\n",
    "# your code goes here."
   ]
  },
  {
   "cell_type": "code",
   "execution_count": 8,
   "metadata": {},
   "outputs": [],
   "source": [
    "# Problem 4c\n",
    "\n",
    "# your code goes here."
   ]
  },
  {
   "cell_type": "markdown",
   "metadata": {},
   "source": [
    "## If this was easy"
   ]
  },
  {
   "cell_type": "markdown",
   "metadata": {},
   "source": [
    "**Problem 5:**\n",
    "\n",
    "In the T7 genome, find the CDS feature corresponding to locus tag \"T7p45\" (major capsid protein), and then use the `feature.extract()` function to extract the DNA sequence corresponding to that gene. Then translate that sequence to verify (by inspection) that it corresponds to the protein sequence that is listed for gene T7p45."
   ]
  },
  {
   "cell_type": "code",
   "execution_count": 9,
   "metadata": {},
   "outputs": [],
   "source": [
    "# Problem 5\n",
    "\n",
    "# your code goes here."
   ]
  },
  {
   "cell_type": "markdown",
   "metadata": {},
   "source": [
    "**Problem 6:**\n",
    "\n",
    "For the influenza HA gene with ID \"KT220438\", write python code that checks whether the protein sequence listed in the CDS feature corresponds to the protein sequence you obtain when you translate the gene sequence. The code should print \"The two translations match\" or \"The two translations do not match\" depending on whether there is a match or not."
   ]
  },
  {
   "cell_type": "code",
   "execution_count": 10,
   "metadata": {},
   "outputs": [],
   "source": [
    "# Problem 5\n",
    "\n",
    "# your code goes here."
   ]
  }
 ],
 "metadata": {
  "kernelspec": {
   "display_name": "Python 3",
   "language": "python",
   "name": "python3"
  },
  "language_info": {
   "codemirror_mode": {
    "name": "ipython",
    "version": 3
   },
   "file_extension": ".py",
   "mimetype": "text/x-python",
   "name": "python",
   "nbconvert_exporter": "python",
   "pygments_lexer": "ipython3",
   "version": "3.6.9"
  }
 },
 "nbformat": 4,
 "nbformat_minor": 2
}
