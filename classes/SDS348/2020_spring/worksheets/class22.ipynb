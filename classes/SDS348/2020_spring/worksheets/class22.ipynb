{
 "cells": [
  {
   "cell_type": "markdown",
   "metadata": {},
   "source": [
    "# Class 22: Regular Expressions\n",
    "**April 16, 2020**"
   ]
  },
  {
   "cell_type": "markdown",
   "metadata": {},
   "source": [
    "Regular expressions are an extremely powerful method of searching and extracting information from strings. A good, basic tutorial is available [here.](https://developers.google.com/edu/python/regular-expressions)\n",
    "\n",
    "In the most-common use case, you have a test string that you test against a regular expression string, using the function `search` from the `re` module: "
   ]
  },
  {
   "cell_type": "code",
   "execution_count": 1,
   "metadata": {},
   "outputs": [
    {
     "name": "stdout",
     "output_type": "stream",
     "text": [
      "Test string matches.\n",
      "Match: name\n"
     ]
    }
   ],
   "source": [
    "import re # we need to import the re module to use it\n",
    "\n",
    "test_string = \"My name is John Doe\"\n",
    "\n",
    "# test whether test_string contains \"name\"\n",
    "# (pay attention to the r in front of the string; we need this)\n",
    "match = re.search(r\"name\", test_string)\n",
    "if match: # did we find a match?    \n",
    "    print(\"Test string matches.\")\n",
    "    print(\"Match:\", match.group()) # print out the part of the string that matched\n",
    "else:\n",
    "    print(\"Test string doesn't match.\")"
   ]
  },
  {
   "cell_type": "code",
   "execution_count": 2,
   "metadata": {},
   "outputs": [
    {
     "name": "stdout",
     "output_type": "stream",
     "text": [
      "Test string doesn't match.\n"
     ]
    }
   ],
   "source": [
    "test_string = \"My email is john@utexas.edu\"\n",
    "\n",
    "# test whether test_string contains \"name\"\n",
    "match = re.search(r\"name\", test_string)\n",
    "\n",
    "if match: # did we find a match?    \n",
    "    print(\"Test string matches.\")\n",
    "    print(\"Match:\", match.group())\n",
    "else:\n",
    "    print(\"Test string doesn't match.\")"
   ]
  },
  {
   "cell_type": "markdown",
   "metadata": {},
   "source": [
    "Much of the power of regular expressions stems from the fact that you can match on general patterns. For example, `\\S+` will match an arbitrary number of non-whitespace characters:"
   ]
  },
  {
   "cell_type": "code",
   "execution_count": 3,
   "metadata": {},
   "outputs": [
    {
     "name": "stdout",
     "output_type": "stream",
     "text": [
      "Match: My age is\n",
      "Match: My mood is\n"
     ]
    }
   ],
   "source": [
    "test_string = \"My age is secret.\"\n",
    "match = re.search(r\"My \\S+ is\", test_string)\n",
    "print(\"Match:\", match.group())\n",
    "\n",
    "test_string = \"My mood is good.\"\n",
    "match = re.search(r\"My \\S+ is\", test_string)\n",
    "print(\"Match:\", match.group())"
   ]
  },
  {
   "cell_type": "markdown",
   "metadata": {},
   "source": [
    "We can also capture substrings using regular expressions, by encapsulating the parts of interest in parentheses `()`:"
   ]
  },
  {
   "cell_type": "code",
   "execution_count": 4,
   "metadata": {},
   "outputs": [
    {
     "name": "stdout",
     "output_type": "stream",
     "text": [
      "Match: My age is secret.\n",
      "Captured group 1: age\n",
      "Captured group 2: secret.\n"
     ]
    }
   ],
   "source": [
    "test_string = \"My age is secret.\"\n",
    "match = re.search(r\"My (\\S+) is (\\S+)\", test_string)\n",
    "print(\"Match:\", match.group(0))\n",
    "print(\"Captured group 1:\" , match.group(1))\n",
    "print(\"Captured group 2:\" , match.group(2))"
   ]
  },
  {
   "cell_type": "markdown",
   "metadata": {},
   "source": [
    "## Problems"
   ]
  },
  {
   "cell_type": "markdown",
   "metadata": {},
   "source": [
    "**Problem 1**\n",
    "\n",
    "Use the online python regular expression editor available here: [http://pythex.org/](http://pythex.org/) to explore regular expressions. For each of the given test strings, find the regular expressions that achieves the given goals.\n",
    "\n",
    "1\\. Test string: \"`my email is: john@utexas.edu`\"  \n",
    "- Match on: \"`my email is`\"  \n",
    "- Match on any email address  \n",
    "- Match on: \"`@utexas.edu`\"  \n",
    "- Capture the entire email address  \n",
    "- Capture both the part before the @ sign and the part after the @ sign separately  \n",
    "- Capture the username of any `utexas.edu` email address  \n",
    "  \n",
    "2\\. Test string: \"`phone number: 123-456-7890`\"\n",
    "- Match on \"`phone number:`\" and capture the phone number  \n",
    "- Match on any string of the form of a phone number, with three digits, a hyphen, three more digits, another hyphen, and four digits  \n",
    "- Use the same match as before, but now capture the area code  \n",
    "  \n",
    "3\\. Invent a few more problems and solutions on your own."
   ]
  },
  {
   "cell_type": "markdown",
   "metadata": {},
   "source": [
    "**Problem 2:**\n",
    "\n",
    "Write python code that can take a string of the form `\"My name is: ...\"`, extract the name (indicated here by `...`), and then print it. Make sure you get the full name, not just the first name."
   ]
  },
  {
   "cell_type": "code",
   "execution_count": 5,
   "metadata": {},
   "outputs": [],
   "source": [
    "test_string = \"My name is: John Doe\"\n",
    "\n",
    "# your code goes here"
   ]
  },
  {
   "cell_type": "markdown",
   "metadata": {},
   "source": [
    "## If this was easy\n",
    "\n",
    "**Problem 3:**\n",
    "\n",
    "Write a function that can parse phone numbers in any sort of format and print them out in the standard 123-456-7890 format."
   ]
  },
  {
   "cell_type": "code",
   "execution_count": 6,
   "metadata": {},
   "outputs": [],
   "source": [
    "def clean_phone_number(input):\n",
    "    # implement your function here\n",
    "    pass # delete this, it is here just as a placeholder\n",
    "\n",
    "# all these calls should produce the number 123-456-7890\n",
    "clean_phone_number(\"1234567890\")\n",
    "clean_phone_number(\"+1 (123) 456-7890\")\n",
    "clean_phone_number(\"1 123 456 7890\")\n",
    "clean_phone_number(\"(123) 4567890\")\n",
    "# the function should realize that this is not a valid phone number\n",
    "clean_phone_number(\"123456\")\n"
   ]
  }
 ],
 "metadata": {
  "kernelspec": {
   "display_name": "Python 3",
   "language": "python",
   "name": "python3"
  },
  "language_info": {
   "codemirror_mode": {
    "name": "ipython",
    "version": 3
   },
   "file_extension": ".py",
   "mimetype": "text/x-python",
   "name": "python",
   "nbconvert_exporter": "python",
   "pygments_lexer": "ipython3",
   "version": "3.6.9"
  }
 },
 "nbformat": 4,
 "nbformat_minor": 2
}
