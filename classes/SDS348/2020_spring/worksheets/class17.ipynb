{
 "cells": [
  {
   "cell_type": "markdown",
   "metadata": {},
   "source": [
    "# In-class worksheet 17\n",
    "\n",
    "**Mar 31, 2020**\n",
    "\n",
    "## Introduction to classes in Python\n",
    "Python is an object-oriented programming language. In computer science, the term \"object\" describes the combination of data and methods that can manipulate the data. It is often convenient to keep the methods that operate on a given type of data together with the data itself, and therefore object-oriented programming is widely used and is pervasive throughout Python.\n",
    "\n",
    "In fact, most built-in data types in Python are objects. For example, we have previously worked with lists. Lists are objects. They contain data (the elements of the list) and methods that can manipulate the data (for example, the function `append()`):"
   ]
  },
  {
   "cell_type": "code",
   "execution_count": 1,
   "metadata": {},
   "outputs": [
    {
     "name": "stdout",
     "output_type": "stream",
     "text": [
      "[1, 2, 3]\n",
      "[1, 2, 3, 4]\n"
     ]
    }
   ],
   "source": [
    "mylist = [1, 2, 3]  # create a list object\n",
    "print(mylist)       # output: [1, 2, 3]\n",
    "\n",
    "\n",
    "mylist.append(4)    # call append() function of the list object\n",
    "                    # the append() function modified the list object\n",
    "print(mylist)       # output: [1, 2, 3, 4]"
   ]
  },
  {
   "cell_type": "markdown",
   "metadata": {},
   "source": [
    "Note that to call a function on a given object, we use a period (as in `mylist.append(4)`). This is different from R, where the period has no special meaning and can be part of regular variable or function names. In Python, you cannot use periods in variable or function names.\n",
    "\n",
    "Importantly, we are not limited to using only built-in objects, we can also define our own, using the `class` mechanism. Classes are collections of variables and functions. For example, the following class implements a counter that we can increment or reset.\n",
    "\n",
    "(Note: it is convention to name classes with a starting upper-case letter but the objects instantiating a given class with a lower-case letter.)"
   ]
  },
  {
   "cell_type": "code",
   "execution_count": 2,
   "metadata": {},
   "outputs": [
    {
     "name": "stdout",
     "output_type": "stream",
     "text": [
      "We incremented c1 44 times.\n",
      "We incremented c2 1 times.\n",
      "After reset, c1 count is at 0\n"
     ]
    }
   ],
   "source": [
    "# a simple Counter class\n",
    "class Counter:\n",
    "    count = 0       # variable that holds the current count\n",
    "    \n",
    "    # A function that increments the counter by 1. Note the `self` argument.\n",
    "    # The function needs its own object as argument, so it can work on\n",
    "    # the appropriate data. The contents of `self` is provided by Python\n",
    "    # when the function is called on an object.\n",
    "    def increment(self): \n",
    "        self.count += 1  # increment the counter by 1\n",
    "    \n",
    "    # A function that resets the counter to 0.\n",
    "    def reset(self):\n",
    "        self.count = 0   # set the counter to 0\n",
    "\n",
    "# define two counter variables\n",
    "c1 = Counter()\n",
    "c2 = Counter()\n",
    "\n",
    "# use c1 to count the number of characters in a string\n",
    "for c in \"The quick brown fox jumps over the lazy dog.\":\n",
    "    c1.increment()\n",
    "    \n",
    "# increment c2 just once\n",
    "c2.increment()\n",
    "\n",
    "print(\"We incremented c1\", c1.count, \"times.\")\n",
    "print(\"We incremented c2\", c2.count, \"times.\")\n",
    "\n",
    "# reset c1 to 0\n",
    "c1.reset()\n",
    "print(\"After reset, c1 count is at\", c1.count)"
   ]
  },
  {
   "cell_type": "markdown",
   "metadata": {},
   "source": [
    "In object-oriented programming, we generally want to properly initialize an object when it is created. In Python, this is done with the `__init()__` function. We should define this function for every class we write.\n",
    "\n",
    "As an example, we'll define a class `Dog`, which stores the name of the dog and a list of tricks the dog can do. The name of the dog needs to be defined when the dog is created, and hence it is an argument to the `__init()__` function. The list of tricks is initially empty, until tricks are added to the dog. "
   ]
  },
  {
   "cell_type": "code",
   "execution_count": 3,
   "metadata": {},
   "outputs": [
    {
     "name": "stdout",
     "output_type": "stream",
     "text": [
      "Fido can do these tricks: ['sit down', 'roll over']\n",
      "Buddy can do these tricks: ['play dead']\n"
     ]
    }
   ],
   "source": [
    "class Dog:\n",
    "\n",
    "    def __init__(self, name):\n",
    "        self.name = name\n",
    "        self.tricks = []    # creates a new empty list for each dog\n",
    "\n",
    "    def add_trick(self, trick):\n",
    "        self.tricks.append(trick)\n",
    "\n",
    "dog1 = Dog('Fido')\n",
    "dog2 = Dog('Buddy')\n",
    "dog1.add_trick('sit down')\n",
    "dog1.add_trick('roll over')\n",
    "dog2.add_trick('play dead')\n",
    "print(dog1.name, \"can do these tricks:\", dog1.tricks)\n",
    "print(dog2.name, \"can do these tricks:\", dog2.tricks)"
   ]
  },
  {
   "cell_type": "markdown",
   "metadata": {},
   "source": [
    "## Problems\n",
    "**Problem 1:**\n",
    "\n",
    "(a) Take the `Counter` class defined above and add a function that decrements the counter by 1. Then make up a simple example that uses this decrement function."
   ]
  },
  {
   "cell_type": "code",
   "execution_count": 4,
   "metadata": {},
   "outputs": [],
   "source": [
    "# Code for Problem 1a goes here.\n",
    "\n",
    "# a simple Counter class\n",
    "class Counter:\n",
    "    count = 0       # variable that holds the current count\n",
    "    \n",
    "    def increment(self):       # increment the counter by 1\n",
    "        self.count += 1  \n",
    "    \n",
    "    def reset(self):     # set the counter to 0\n",
    "        self.count = 0\n",
    "\n",
    "# continue here ..."
   ]
  },
  {
   "cell_type": "markdown",
   "metadata": {},
   "source": [
    "(b) It is good programming style to always implement a `__init__()` function for every class. Write a `__init__()` function for the `Counter` class. This function should have an optional argument (with default value of 0) defining the initial value of the counter. "
   ]
  },
  {
   "cell_type": "code",
   "execution_count": 5,
   "metadata": {},
   "outputs": [],
   "source": [
    "# a simple Counter class\n",
    "\n",
    "# continue here ..."
   ]
  },
  {
   "cell_type": "markdown",
   "metadata": {},
   "source": [
    "(c) Take the exact code from your solutions to part (b), but now add a `print()` statement to the `__init()__` function to see when the `__init()__` function actually gets called."
   ]
  },
  {
   "cell_type": "code",
   "execution_count": 6,
   "metadata": {},
   "outputs": [],
   "source": [
    "# a simple Counter class\n",
    "\n",
    "# continue here ..."
   ]
  },
  {
   "cell_type": "markdown",
   "metadata": {},
   "source": [
    "**Problem 2:** \n",
    "\n",
    "Take the `Dog` class defined above and add a function `knows_trick` that checks whether the dog knows a given trick or not."
   ]
  },
  {
   "cell_type": "code",
   "execution_count": 7,
   "metadata": {},
   "outputs": [],
   "source": [
    "# Code for Problem 2 goes here.\n",
    "\n",
    "class Dog:\n",
    "\n",
    "    def __init__(self, name):\n",
    "        self.name = name\n",
    "        self.tricks = []    # creates a new empty list for each dog\n",
    "\n",
    "    def add_trick(self, trick):\n",
    "        self.tricks.append(trick)\n",
    "        \n",
    "# continue here ..."
   ]
  },
  {
   "cell_type": "markdown",
   "metadata": {},
   "source": [
    "## If this was easy\n",
    "\n",
    "**Problem 3:**\n",
    "\n",
    "Take the modified `Dog` class from Problem 2 and add a function `add_tricks_from` that takes as argument another dog and adds all the tricks from that dog to the current dog. Make sure that tricks are not added twice; if the dog knows a trick already then that trick shouldn't be added again. Also, don't access the list `self.tricks` directly in the new function you are adding. Use the functions `add_trick` and `knows_trick` instead. "
   ]
  },
  {
   "cell_type": "code",
   "execution_count": 8,
   "metadata": {},
   "outputs": [],
   "source": [
    "# Your code goes here.\n"
   ]
  },
  {
   "cell_type": "markdown",
   "metadata": {},
   "source": [
    "**Problem 4:**\n",
    "\n",
    "Take the basic `Dog` class (with functions `__init__()` and `add_trick()`) and modify it so that it keeps track of the total number of dogs in existence. You should be able to retrieve this number from a member variable `Dog.num_dogs`. Make sure you not only increment the number of dogs when new dog instances are created, but also decrement it when dog instances are removed.\n",
    "\n",
    "Note: Techniques such as these are commonly used in programming, in particular in the context of [reference counting.](https://en.wikipedia.org/wiki/Reference_counting)"
   ]
  },
  {
   "cell_type": "code",
   "execution_count": 9,
   "metadata": {},
   "outputs": [],
   "source": [
    "# Basic Dog class\n",
    "class Dog:\n",
    "\n",
    "    def __init__(self, name):\n",
    "        self.name = name\n",
    "        self.tricks = []    # creates a new empty list for each dog\n",
    "\n",
    "    def add_trick(self, trick):\n",
    "        self.tricks.append(trick)\n",
    " "
   ]
  }
 ],
 "metadata": {
  "kernelspec": {
   "display_name": "Python 3",
   "language": "python",
   "name": "python3"
  },
  "language_info": {
   "codemirror_mode": {
    "name": "ipython",
    "version": 3
   },
   "file_extension": ".py",
   "mimetype": "text/x-python",
   "name": "python",
   "nbconvert_exporter": "python",
   "pygments_lexer": "ipython3",
   "version": "3.6.9"
  }
 },
 "nbformat": 4,
 "nbformat_minor": 2
}
