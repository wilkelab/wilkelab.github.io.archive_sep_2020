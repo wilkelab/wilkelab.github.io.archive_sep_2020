{
 "cells": [
  {
   "cell_type": "markdown",
   "metadata": {},
   "source": [
    "# In-class worksheet 15\n",
    "\n",
    "**Mar 10, 2020**"
   ]
  },
  {
   "cell_type": "markdown",
   "metadata": {},
   "source": [
    "## Introduction to `if` statements\n",
    "\n",
    "The `if` statement allows you to execute pieces of code only if a given **logical statement** is True. Logical statements are any piece of code which yields a True or False value (typically, used with `==`, `is`, `>`, `<`, etc).\n",
    "\n",
    "`if` statements follow the basic format\n",
    "```\n",
    "if <logical statement is True>:\n",
    "    do this code\n",
    "```\n",
    "Examples:"
   ]
  },
  {
   "cell_type": "code",
   "execution_count": 1,
   "metadata": {},
   "outputs": [
    {
     "name": "stdout",
     "output_type": "stream",
     "text": [
      "a is less than 10!\n"
     ]
    }
   ],
   "source": [
    "# This if statement evaluates as True\n",
    "a = 5\n",
    "if a < 10:\n",
    "    print(\"a is less than 10!\")"
   ]
  },
  {
   "cell_type": "code",
   "execution_count": 2,
   "metadata": {},
   "outputs": [],
   "source": [
    "# This if statement evaluates as False.\n",
    "# Note that there is NO output!\n",
    "a = 5\n",
    "if a > 10:\n",
    "    print(a, \"is greater than 10\")"
   ]
  },
  {
   "cell_type": "markdown",
   "metadata": {},
   "source": [
    "`if` statements can be used in conjunction with `else` statements to create `if/else` statements. These statements execute code inside the `if` if the logical statement is True, and if the statement is False, code inside the `else` block is executed.\n",
    "\n",
    "`if/else` statements follow the basic format \n",
    "```\n",
    "if <logical statement is True>:\n",
    "    do this code\n",
    "else:\n",
    "    do this code instead\n",
    "```\n",
    "Examples:"
   ]
  },
  {
   "cell_type": "code",
   "execution_count": 3,
   "metadata": {},
   "outputs": [
    {
     "name": "stdout",
     "output_type": "stream",
     "text": [
      "5 is less than or equal to 10\n"
     ]
    }
   ],
   "source": [
    "# Either code inside the \"if\" or code inside the\n",
    "# \"else\" gets executed - not both!\n",
    "a = 5\n",
    "if a > 10:\n",
    "    print(a, \"is greater than 10\")\n",
    "else:\n",
    "    print(a, \"is less than or equal to 10\")"
   ]
  },
  {
   "cell_type": "markdown",
   "metadata": {},
   "source": [
    "There are also constructs known in python as `elif` (\"else if\"), which allow you to test multiple conditions. \n",
    "\n",
    "`if/elif/ese` statements follow the basic format\n",
    "```\n",
    "if <logical statement is True>:\n",
    "    do this code\n",
    "elif <some other logical statement is True>:\n",
    "    do this code instead\n",
    "else:\n",
    "    do this code if nothing above was true.\n",
    "```\n",
    "You can have as many `elif` statements, following an initial `if` statement, as you want. It is not strictly necessary to end with `else`, but typically you will want to do so. In a given `if/elif.../else` construct, only **one** of the conditions will run. Should an `if` or `elif` evaluate to True, python will simply run that code and ignore the rest.\n",
    "\n",
    "Examples: "
   ]
  },
  {
   "cell_type": "code",
   "execution_count": 4,
   "metadata": {},
   "outputs": [
    {
     "name": "stdout",
     "output_type": "stream",
     "text": [
      "6 is less than 22\n"
     ]
    }
   ],
   "source": [
    "a = 6\n",
    "b = 22\n",
    "if a > b:\n",
    "    print(a, \"is greater than\", b)\n",
    "elif a < b:\n",
    "    print(a, \"is less than\", b)\n",
    "else:\n",
    "    print(a, \"is equal to\", b)\n"
   ]
  },
  {
   "cell_type": "markdown",
   "metadata": {},
   "source": [
    "Note that multiple `if` statements in a row are entirely distinct. If you have an `if` statement followed by another `if` statement, they can both be run. Further, `elif` and `else` statements are connected only to the most recent `if` statement preceding them."
   ]
  },
  {
   "cell_type": "code",
   "execution_count": 5,
   "metadata": {},
   "outputs": [
    {
     "name": "stdout",
     "output_type": "stream",
     "text": [
      "elephant is shorter than 50 characters\n",
      "elephant is shorter than 30 characters\n"
     ]
    }
   ],
   "source": [
    "s = \"elephant\"\n",
    "if len(s) < 50:\n",
    "    print(s, \"is shorter than 50 characters\")\n",
    "if len(s) < 30:\n",
    "    print(s, \"is shorter than 30 characters\")\n",
    "else: # this goes with `len(s) < 30`, NOT with `len(s) < 50`\n",
    "    print(s, \"is longer than 30 characters\")"
   ]
  },
  {
   "cell_type": "markdown",
   "metadata": {},
   "source": [
    "## Problems\n",
    "\n",
    "**Problem 1:**\n",
    "\n",
    "  \n",
    "  a) Define a numeric variable (either float or integer is ok). Use an `if`/`else` statement to determine if the number is greater than zero. Your code should print a sentence indicating if the number is greater than zero or not.\n",
    "  \n",
    "  b) Modify your `if`/`else` statement to write an `if`/`elif`/`else` statement to determine if the number is greater than, less than, or equal to zero. Again, print a sentence indicating the number's value relative to 0."
   ]
  },
  {
   "cell_type": "code",
   "execution_count": 6,
   "metadata": {},
   "outputs": [],
   "source": [
    "# if/else statement\n",
    "\n",
    "\n",
    "# if/elif/else statement\n"
   ]
  },
  {
   "cell_type": "markdown",
   "metadata": {},
   "source": [
    "**Problem 2:**\n",
    "\n",
    "a) Write an if/else statement to test the single condition, whether the length of the list `mylist` (defined below) is less than or equal to 10. If this condition is *true*, use indexing to create a new list called `newlist` that contains the first three numbers `mylist`. If this condition is *false*, use indexing to create a new list called `newlist` that contains the first 7 numbers in the list.\n",
    "\n",
    "Once `newlist` is defined, determine and print its sum. (Hint: use the function `sum()`.)\n",
    " \n",
    "b) Use an if/else statement to determine if the sum is even or odd. Print your result. (Hint: use the modulus operator `%` to test even vs. odd.)"
   ]
  },
  {
   "cell_type": "code",
   "execution_count": 7,
   "metadata": {},
   "outputs": [],
   "source": [
    "# Use this list to solve Problem 2:\n",
    "mylist = [19, 3, 2, 88, 56, 57, 11, 19, 9, 95]\n",
    "\n",
    "# your code goes here"
   ]
  },
  {
   "cell_type": "markdown",
   "metadata": {},
   "source": [
    "**Problem 3:**\n",
    "Write an if/elif.../else construct to determine the type of the variable `a`, defined below. \n",
    "\n",
    "Your code should evaluate if the variable is one of the following types: integer (int), float (float), string (str), or list (list). Your code should print a sentence stating the variable type (e.g. \"89.44 is a float\")."
   ]
  },
  {
   "cell_type": "code",
   "execution_count": 8,
   "metadata": {},
   "outputs": [],
   "source": [
    "# Use this variable to solve Problem 3:\n",
    "a = 89.44\n",
    "\n",
    "# your code goes here"
   ]
  },
  {
   "cell_type": "markdown",
   "metadata": {},
   "source": [
    "## Introduction to `for` loops\n",
    "\n",
    "`for` loops are used in two main circumstances:\n",
    "1. to perform a certain operation on each item in a list, string, dictionary, etc.\n",
    "2. to perform a certain operation a specific number of times\n",
    "\n",
    "They follow the basic format\n",
    "```\n",
    "for item in container:\n",
    "\tdo this command\n",
    "\tdo that command\n",
    "```\n",
    "The `item` is known as a \"loop variable\". At each iteration of the loop, the variable `item` takes on a specific value corresponding to that iteration. This variable will change at each new iteration of the loop.\n",
    "\n",
    "Examples of looping over lists, strings, dictionaries:"
   ]
  },
  {
   "cell_type": "code",
   "execution_count": 9,
   "metadata": {},
   "outputs": [
    {
     "name": "stdout",
     "output_type": "stream",
     "text": [
      "1\n",
      "2\n",
      "3\n",
      "4\n"
     ]
    }
   ],
   "source": [
    "# Loop over a list\n",
    "mylist = [1, 2, 3, 4]\n",
    "for i in mylist:\n",
    "    print(i)"
   ]
  },
  {
   "cell_type": "code",
   "execution_count": 10,
   "metadata": {},
   "outputs": [
    {
     "name": "stdout",
     "output_type": "stream",
     "text": [
      "a\n",
      "b\n",
      "c\n",
      "d\n",
      "e\n",
      "f\n",
      "g\n"
     ]
    }
   ],
   "source": [
    "# Loop over a string\n",
    "for letter in \"abcdefg\":\n",
    "    print(letter)"
   ]
  },
  {
   "cell_type": "code",
   "execution_count": 11,
   "metadata": {},
   "outputs": [
    {
     "name": "stdout",
     "output_type": "stream",
     "text": [
      "a\n",
      "1\n",
      "\n",
      "b\n",
      "2\n",
      "\n",
      "c\n",
      "3\n",
      "\n",
      "d\n",
      "4\n",
      "\n"
     ]
    }
   ],
   "source": [
    "# Loop over a dictionary (loops over the keys!)\n",
    "d = {\"a\":1, \"b\":2, \"c\":3, \"d\":4}\n",
    "for key in d:\n",
    "    print(key)    # prints the key\n",
    "    print(d[key]) # prints the key's value\n",
    "    print()       # using print on its own will print a blank line\n"
   ]
  },
  {
   "cell_type": "markdown",
   "metadata": {},
   "source": [
    "Oftentimes, counter variables are used in loops to keep track of which iteration you're on."
   ]
  },
  {
   "cell_type": "code",
   "execution_count": 12,
   "metadata": {},
   "outputs": [
    {
     "name": "stdout",
     "output_type": "stream",
     "text": [
      "3\n",
      "We just finished iteration number 1\n",
      "6\n",
      "We just finished iteration number 2\n",
      "9\n",
      "We just finished iteration number 3\n",
      "12\n",
      "We just finished iteration number 4\n"
     ]
    }
   ],
   "source": [
    "i = 0 # Define counter variable\n",
    "for x in [3, 6, 9, 12]:\n",
    "    print(x)\n",
    "    i += 1 # Increment the variable i by 1 with the += operator\n",
    "    print(\"We just finished iteration number\", i)"
   ]
  },
  {
   "cell_type": "markdown",
   "metadata": {},
   "source": [
    "To perform an action a specific number of times, the `range()` statement is commonly used:"
   ]
  },
  {
   "cell_type": "code",
   "execution_count": 13,
   "metadata": {},
   "outputs": [
    {
     "name": "stdout",
     "output_type": "stream",
     "text": [
      "0\n",
      "1\n",
      "2\n",
      "3\n",
      "4\n",
      "5\n",
      "6\n",
      "7\n",
      "8\n",
      "9\n"
     ]
    }
   ],
   "source": [
    "# `range(10)` corresponds to all numbers from 0 to 9:\n",
    "for i in range(10):\n",
    "    print(i)"
   ]
  },
  {
   "cell_type": "code",
   "execution_count": 14,
   "metadata": {},
   "outputs": [
    {
     "name": "stdout",
     "output_type": "stream",
     "text": [
      "2\n",
      "3\n",
      "4\n",
      "5\n",
      "6\n",
      "7\n",
      "8\n",
      "9\n",
      "10\n",
      "11\n",
      "12\n"
     ]
    }
   ],
   "source": [
    "# `range(2, 13)` corresponds to all numbers from 2 to 12:\n",
    "for i in range(2, 13):\n",
    "    print(i)"
   ]
  },
  {
   "cell_type": "code",
   "execution_count": 15,
   "metadata": {},
   "outputs": [
    {
     "name": "stdout",
     "output_type": "stream",
     "text": [
      "4\n",
      "6\n",
      "8\n",
      "10\n",
      "12\n",
      "14\n",
      "16\n",
      "18\n"
     ]
    }
   ],
   "source": [
    "# `range(4, 20, 2)` corresponds to all numbers from 4 to 19 in steps of 2:\n",
    "for i in range(4, 20, 2):\n",
    "    print(i)"
   ]
  },
  {
   "cell_type": "markdown",
   "metadata": {},
   "source": [
    "## Problems\n",
    "\n",
    "**Problem 1:**\n",
    "\n",
    "a) Write a `for` loop that iterates over the numbers 0-10 (including 10!). On each iteration, print 2 raised to that iteration count. For example, when the loop variable equals 3, your code should print 8. (Hint: In Python, powers are calculated with the `**` operator.)\n",
    "\n",
    "b) Modify your code from part (a) to save each of those power-of-2 values to a list called `powers` (hint: use the `.append()` method). Print the final `powers` list."
   ]
  },
  {
   "cell_type": "code",
   "execution_count": 16,
   "metadata": {},
   "outputs": [],
   "source": [
    "# Print the powers of 2\n",
    "\n",
    "# your code goes here"
   ]
  },
  {
   "cell_type": "code",
   "execution_count": 17,
   "metadata": {},
   "outputs": [],
   "source": [
    "# Save powers to a list\n",
    "\n",
    "# your code goes here"
   ]
  },
  {
   "cell_type": "markdown",
   "metadata": {},
   "source": [
    "**Problem 2:** Two variables are defined in the code chunk below: the string `protseq`, which contains a sequence of amino acids, and the dictionary `amino_weights`, which gives the molecular weight for each amino acid. Write a `for` loop to determine the total molecular weight of `protseq`. Print the total weight."
   ]
  },
  {
   "cell_type": "code",
   "execution_count": 18,
   "metadata": {},
   "outputs": [],
   "source": [
    "# Use these two variables to solve Problem 2:\n",
    "protseq = \"RTAHHCPLKLLAWS\"\n",
    "amino_weights = {'A':89.09, 'R':174.20, 'N':132.12, 'D':133.10, 'C':121.15,\n",
    "                 'Q':146.15,'E':147.13,'G':75.07,'H':155.16,'I':131.17,\n",
    "                 'L':131.17,'K':146.19,'M':149.21,'F':165.19,'P':115.13,\n",
    "                 'S':105.09,'T':119.12,'W':204.23,'Y':181.19,'V':117.15}\n",
    "# your code goes here"
   ]
  },
  {
   "cell_type": "markdown",
   "metadata": {},
   "source": [
    "## Introduction to combining `if` and `for`\n",
    "\n",
    "The `if` and `for` constructs are frequently combined, for example when we loop over all elements in a list and check whether the elements meet some condition.\n",
    "\n",
    "Examples:"
   ]
  },
  {
   "cell_type": "code",
   "execution_count": 19,
   "metadata": {},
   "outputs": [
    {
     "name": "stdout",
     "output_type": "stream",
     "text": [
      "8 is positive\n",
      "472 is positive\n",
      "-185 is negative\n",
      "0 is 0\n",
      "-778.2 is negative\n",
      "23 is positive\n",
      "90 is positive\n",
      "-0.003 is negative\n"
     ]
    }
   ],
   "source": [
    "# Evaluate a condition on every element in a list\n",
    "mylist = [8, 472, -185, 0, -778.2, 23, 90, -0.003]\n",
    "for i in mylist:\n",
    "    if i > 0:\n",
    "        print(i, \"is positive\")\n",
    "    elif i < 0:\n",
    "        print(i, \"is negative\")\n",
    "    else:\n",
    "        print(i, \"is 0\")"
   ]
  },
  {
   "cell_type": "code",
   "execution_count": 20,
   "metadata": {},
   "outputs": [
    {
     "name": "stdout",
     "output_type": "stream",
     "text": [
      "The sum of all multiples of 3 which are <= 30 is 165\n"
     ]
    }
   ],
   "source": [
    "# Find the sum of all the multiples of 3 that are <=30.\n",
    "result = 0              # this variable will hold our result\n",
    "for i in range(1, 31):\n",
    "    if i%3 == 0:        # the % sign is the modulo operator, which produces the remainder after division\n",
    "        result += i\n",
    "print(\"The sum of all multiples of 3 which are <= 30 is\", result)"
   ]
  },
  {
   "cell_type": "code",
   "execution_count": 21,
   "metadata": {},
   "outputs": [
    {
     "name": "stdout",
     "output_type": "stream",
     "text": [
      "AUUGAC is probably RNA\n",
      "AGACT is probably DNA\n",
      "CGATAGCA is probably DNA\n",
      "UCCAGAC is probably RNA\n",
      "UGGACU is probably RNA\n",
      "TAGCAGA is probably DNA\n"
     ]
    }
   ],
   "source": [
    "# test whether a sequence is RNA or DNA by seeing if it contains the letter U\n",
    "seqs=['AUUGAC', 'AGACT', 'CGATAGCA', 'UCCAGAC', 'UGGACU', 'TAGCAGA']\n",
    "for seq in seqs:\n",
    "    if 'U' in seq and 'T' not in seq:\n",
    "        print(seq, \"is probably RNA\")\n",
    "    elif 'T' in seq and 'U' not in seq:\n",
    "        print(seq, \"is probably DNA\")\n",
    "    elif 'T' in seq and 'U' in seq:\n",
    "        print(seq, \"has both T and U. I don't know what it is!\")\n",
    "    elif 'T' not in seq and 'U' not in seq:\n",
    "        print(seq, \"has neither T nor U. I don't know what it is!\")\n",
    "    else:\n",
    "        print(\"Error: This line should never be executed.\")\n"
   ]
  },
  {
   "cell_type": "markdown",
   "metadata": {},
   "source": [
    "## Problems"
   ]
  },
  {
   "cell_type": "markdown",
   "metadata": {},
   "source": [
    "**Problem 1:** Loop over the dictionary `d`, defined below. For each key, determine if it contains the letter \"o\". If this condition is true, print the *value* from `d` associated with that key. Otherwise, print the statement \"Sorry, no 'o' in the key XXX\", where XXX is the name of the key."
   ]
  },
  {
   "cell_type": "code",
   "execution_count": 22,
   "metadata": {},
   "outputs": [],
   "source": [
    "# Use this dictionary to solve Problem 1:\n",
    "d = {\"frog\":\"amphibian\",\n",
    "     \"crocodile\":\"reptile\",\n",
    "     \"osprey\":\"bird\",\n",
    "     \"platypus\":\"mammal\",\n",
    "     \"squid\":\"mollusk\",\n",
    "     \"spider\":\"arachnid\",\n",
    "     \"jellyfish\":\"cnidarian\",\n",
    "     \"clownfish\":\"fish\"}\n",
    "\n",
    "# your code goes here"
   ]
  },
  {
   "cell_type": "markdown",
   "metadata": {},
   "source": [
    "**Problem 2:** Two variables are defined in the code chunk below: the string `protseq_ambig`, which contains a sequence of amino acids, and the dictionary `amino_weights`, which gives the molecular weight for each amino acid. Unlike the previous exercise on molecular weight, this time the amino acid sequence contains ambiguous amino-acid characters, including X, B, and Z, which are *not* in the amino_weights dictionary. Write a `for` loop to determine the total molecular weight of `protseq_ambig`, ignoring all amino acids that are ambiguous. Print the total weight."
   ]
  },
  {
   "cell_type": "code",
   "execution_count": 23,
   "metadata": {},
   "outputs": [],
   "source": [
    "# Use these two variables to solve Problem 2:\n",
    "protseq_ambig = \"TAGHHABAAXARBYEDEEZKMBPXQ\"\n",
    "amino_weights = {'A':89.09, 'R':174.20, 'N':132.12, 'D':133.10, 'C':121.15,\n",
    "                 'Q':146.15,'E':147.13,'G':75.07,'H':155.16,'I':131.17,\n",
    "                 'L':131.17,'K':146.19,'M':149.21,'F':165.19,'P':115.13,\n",
    "                 'S':105.09,'T':119.12,'W':204.23,'Y':181.19,'V':117.15}\n",
    "\n",
    "\n",
    "# your code goes here"
   ]
  }
 ],
 "metadata": {
  "kernelspec": {
   "display_name": "Python 3",
   "language": "python",
   "name": "python3"
  },
  "language_info": {
   "codemirror_mode": {
    "name": "ipython",
    "version": 3
   },
   "file_extension": ".py",
   "mimetype": "text/x-python",
   "name": "python",
   "nbconvert_exporter": "python",
   "pygments_lexer": "ipython3",
   "version": "3.6.9"
  }
 },
 "nbformat": 4,
 "nbformat_minor": 2
}
